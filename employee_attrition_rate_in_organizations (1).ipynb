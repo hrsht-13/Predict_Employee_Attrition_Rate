{
  "nbformat": 4,
  "nbformat_minor": 0,
  "metadata": {
    "colab": {
      "name": "employee attrition rate in organizations.ipynb",
      "provenance": []
    },
    "kernelspec": {
      "name": "python3",
      "display_name": "Python 3"
    }
  },
  "cells": [
    {
      "cell_type": "code",
      "metadata": {
        "id": "sdQ60fuLONGQ",
        "colab_type": "code",
        "colab": {}
      },
      "source": [
        "import pandas as pd\n",
        "import numpy as np\n",
        "import matplotlib.pyplot as plt\n",
        "import seaborn as sns"
      ],
      "execution_count": 952,
      "outputs": []
    },
    {
      "cell_type": "code",
      "metadata": {
        "id": "YNbV8megOqAH",
        "colab_type": "code",
        "colab": {}
      },
      "source": [
        "train=pd.read_csv(\"/content/Train.csv\")"
      ],
      "execution_count": 953,
      "outputs": []
    },
    {
      "cell_type": "code",
      "metadata": {
        "id": "lXXKzSRpPFp9",
        "colab_type": "code",
        "colab": {}
      },
      "source": [
        "test=pd.read_csv(\"/content/Test.csv\")"
      ],
      "execution_count": 954,
      "outputs": []
    },
    {
      "cell_type": "code",
      "metadata": {
        "id": "TDtU-gapOvH8",
        "colab_type": "code",
        "colab": {
          "base_uri": "https://localhost:8080/",
          "height": 437
        },
        "outputId": "1bbd0143-8b7c-4eea-94c0-00a5a63f02c1"
      },
      "source": [
        "train.isnull().sum()"
      ],
      "execution_count": 955,
      "outputs": [
        {
          "output_type": "execute_result",
          "data": {
            "text/plain": [
              "Employee_ID                    0\n",
              "Gender                         0\n",
              "Age                          412\n",
              "Education_Level                0\n",
              "Relationship_Status            0\n",
              "Hometown                       0\n",
              "Unit                           0\n",
              "Decision_skill_possess         0\n",
              "Time_of_service              144\n",
              "Time_since_promotion           0\n",
              "growth_rate                    0\n",
              "Travel_Rate                    0\n",
              "Post_Level                     0\n",
              "Pay_Scale                      9\n",
              "Compensation_and_Benefits      0\n",
              "Work_Life_balance             11\n",
              "VAR1                           0\n",
              "VAR2                         577\n",
              "VAR3                           0\n",
              "VAR4                         656\n",
              "VAR5                           0\n",
              "VAR6                           0\n",
              "VAR7                           0\n",
              "Attrition_rate                 0\n",
              "dtype: int64"
            ]
          },
          "metadata": {
            "tags": []
          },
          "execution_count": 955
        }
      ]
    },
    {
      "cell_type": "code",
      "metadata": {
        "id": "NU1F2jrPPDS-",
        "colab_type": "code",
        "colab": {}
      },
      "source": [
        "data=pd.concat([train,test],ignore_index=True)"
      ],
      "execution_count": 956,
      "outputs": []
    },
    {
      "cell_type": "code",
      "metadata": {
        "id": "MsVdlMboPNen",
        "colab_type": "code",
        "colab": {
          "base_uri": "https://localhost:8080/",
          "height": 437
        },
        "outputId": "6b95517d-c6f8-41af-93b4-5736feb537f7"
      },
      "source": [
        "data.isnull().sum()"
      ],
      "execution_count": 957,
      "outputs": [
        {
          "output_type": "execute_result",
          "data": {
            "text/plain": [
              "Employee_ID                     0\n",
              "Gender                          0\n",
              "Age                           573\n",
              "Education_Level                 0\n",
              "Relationship_Status             0\n",
              "Hometown                        0\n",
              "Unit                            0\n",
              "Decision_skill_possess          0\n",
              "Time_of_service               196\n",
              "Time_since_promotion            0\n",
              "growth_rate                     0\n",
              "Travel_Rate                     0\n",
              "Post_Level                      0\n",
              "Pay_Scale                      12\n",
              "Compensation_and_Benefits       0\n",
              "Work_Life_balance              16\n",
              "VAR1                            0\n",
              "VAR2                          794\n",
              "VAR3                            0\n",
              "VAR4                          954\n",
              "VAR5                            0\n",
              "VAR6                            0\n",
              "VAR7                            0\n",
              "Attrition_rate               3000\n",
              "dtype: int64"
            ]
          },
          "metadata": {
            "tags": []
          },
          "execution_count": 957
        }
      ]
    },
    {
      "cell_type": "code",
      "metadata": {
        "id": "R_ZUf96zdHEw",
        "colab_type": "code",
        "colab": {}
      },
      "source": [
        "data[\"Age\"]=data[\"Age\"].fillna(data.Age.mean())\n",
        "data[\"Time_of_service\"]=data[\"Time_of_service\"].fillna(data.Time_of_service.mean())\n",
        "data[\"Work_Life_balance\"]=data[\"Work_Life_balance\"].fillna(data.Work_Life_balance.median())\n",
        "data[\"Pay_Scale\"]=data[\"Pay_Scale\"].fillna(data.Pay_Scale.median())\n",
        "data[\"VAR2\"]=data[\"VAR2\"].fillna(data.VAR2.mean())\n",
        "data[\"VAR4\"]=data[\"VAR4\"].fillna(data.VAR4.mean())"
      ],
      "execution_count": 958,
      "outputs": []
    },
    {
      "cell_type": "code",
      "metadata": {
        "id": "QTVLqWgbPOrA",
        "colab_type": "code",
        "colab": {
          "base_uri": "https://localhost:8080/",
          "height": 437
        },
        "outputId": "5967e131-a992-403f-f5ca-ff2224b4035e"
      },
      "source": [
        "data.isnull().sum()\n"
      ],
      "execution_count": 959,
      "outputs": [
        {
          "output_type": "execute_result",
          "data": {
            "text/plain": [
              "Employee_ID                     0\n",
              "Gender                          0\n",
              "Age                             0\n",
              "Education_Level                 0\n",
              "Relationship_Status             0\n",
              "Hometown                        0\n",
              "Unit                            0\n",
              "Decision_skill_possess          0\n",
              "Time_of_service                 0\n",
              "Time_since_promotion            0\n",
              "growth_rate                     0\n",
              "Travel_Rate                     0\n",
              "Post_Level                      0\n",
              "Pay_Scale                       0\n",
              "Compensation_and_Benefits       0\n",
              "Work_Life_balance               0\n",
              "VAR1                            0\n",
              "VAR2                            0\n",
              "VAR3                            0\n",
              "VAR4                            0\n",
              "VAR5                            0\n",
              "VAR6                            0\n",
              "VAR7                            0\n",
              "Attrition_rate               3000\n",
              "dtype: int64"
            ]
          },
          "metadata": {
            "tags": []
          },
          "execution_count": 959
        }
      ]
    },
    {
      "cell_type": "code",
      "metadata": {
        "id": "S3q_1565QXhN",
        "colab_type": "code",
        "colab": {}
      },
      "source": [
        "data.drop([\"Employee_ID\",\"Attrition_rate\"],axis=1,inplace=True)"
      ],
      "execution_count": 960,
      "outputs": []
    },
    {
      "cell_type": "code",
      "metadata": {
        "id": "IvdoDShwQ3sk",
        "colab_type": "code",
        "colab": {}
      },
      "source": [
        "data[\"promotion_year\"]=data[\"Time_of_service\"]-data[\"Time_since_promotion\"]"
      ],
      "execution_count": 961,
      "outputs": []
    },
    {
      "cell_type": "code",
      "metadata": {
        "id": "Slu1X7NTSQzP",
        "colab_type": "code",
        "colab": {}
      },
      "source": [
        "data[\"decay_rate\"]=100-data[\"growth_rate\"]"
      ],
      "execution_count": 962,
      "outputs": []
    },
    {
      "cell_type": "code",
      "metadata": {
        "id": "7aLWj3rxSe0E",
        "colab_type": "code",
        "colab": {}
      },
      "source": [
        "data[\"Age_of_joining\"]=data[\"Age\"]-data[\"Time_of_service\"]"
      ],
      "execution_count": 963,
      "outputs": []
    },
    {
      "cell_type": "code",
      "metadata": {
        "id": "iiJiGA5RTmZ8",
        "colab_type": "code",
        "colab": {
          "base_uri": "https://localhost:8080/",
          "height": 34
        },
        "outputId": "f4ae805d-e5b3-4e5c-ce7d-29abdad81d8f"
      },
      "source": [
        "data[\"Compensation_and_Benefits\"].unique()"
      ],
      "execution_count": 964,
      "outputs": [
        {
          "output_type": "execute_result",
          "data": {
            "text/plain": [
              "array(['type2', 'type3', 'type0', 'type4', 'type1'], dtype=object)"
            ]
          },
          "metadata": {
            "tags": []
          },
          "execution_count": 964
        }
      ]
    },
    {
      "cell_type": "code",
      "metadata": {
        "id": "ALJ9Ex_5SuKl",
        "colab_type": "code",
        "colab": {}
      },
      "source": [
        "data[\"c&b\"]=data[\"Compensation_and_Benefits\"].map({\"type0\":0,\n",
        "                                                   \"type1\":1,\n",
        "                                                   \"type2\":2,\n",
        "                                                   \"type3\":3,\n",
        "                                                   \"type4\":4})"
      ],
      "execution_count": 965,
      "outputs": []
    },
    {
      "cell_type": "code",
      "metadata": {
        "id": "x-wbVPfeV42n",
        "colab_type": "code",
        "colab": {}
      },
      "source": [
        "promo=[]\n",
        "for i in range(len(data)):\n",
        "  if(data[\"Time_of_service\"][i]==data[\"Time_since_promotion\"][i]):\n",
        "    promo.append(1)\n",
        "  else:\n",
        "    promo.append(0)\n"
      ],
      "execution_count": 966,
      "outputs": []
    },
    {
      "cell_type": "code",
      "metadata": {
        "id": "8XnnE0ucXuOK",
        "colab_type": "code",
        "colab": {}
      },
      "source": [
        "data[\"initially_promoted\"]=promo"
      ],
      "execution_count": 967,
      "outputs": []
    },
    {
      "cell_type": "code",
      "metadata": {
        "id": "Qs3WNAaQfIMM",
        "colab_type": "code",
        "colab": {
          "base_uri": "https://localhost:8080/",
          "height": 104
        },
        "outputId": "1eeeb788-a288-4d83-b3fe-3413c4dd493c"
      },
      "source": [
        "std_encoding=train.groupby(['Gender']).agg({'Attrition_rate':['std']}).reset_index()\n",
        "data = data.merge(std_encoding,on='Gender',how=\"left\")\n",
        "data.rename(columns={('Attrition_rate', 'std'):\"gender_std\"},inplace=True)"
      ],
      "execution_count": 968,
      "outputs": [
        {
          "output_type": "stream",
          "text": [
            "/usr/local/lib/python3.6/dist-packages/pandas/core/reshape/merge.py:618: UserWarning: merging between different levels can give an unintended result (1 levels on the left, 2 on the right)\n",
            "  warnings.warn(msg, UserWarning)\n",
            "/usr/local/lib/python3.6/dist-packages/pandas/core/generic.py:3936: PerformanceWarning: dropping on a non-lexsorted multi-index without a level parameter may impact performance.\n",
            "  obj = obj._drop_axis(labels, axis, level=level, errors=errors)\n"
          ],
          "name": "stderr"
        }
      ]
    },
    {
      "cell_type": "code",
      "metadata": {
        "id": "a-M3kG57ieDT",
        "colab_type": "code",
        "colab": {
          "base_uri": "https://localhost:8080/",
          "height": 104
        },
        "outputId": "8deb1c83-2e1e-4333-c096-02ef773a47cf"
      },
      "source": [
        "std_encoding=train.groupby(['Relationship_Status']).agg({'Attrition_rate':['std']}).reset_index()\n",
        "data = data.merge(std_encoding,on='Relationship_Status',how=\"left\")\n",
        "data.rename(columns={('Attrition_rate', 'std'):\"Relationship_Status_std\"},inplace=True)"
      ],
      "execution_count": 969,
      "outputs": [
        {
          "output_type": "stream",
          "text": [
            "/usr/local/lib/python3.6/dist-packages/pandas/core/reshape/merge.py:618: UserWarning: merging between different levels can give an unintended result (1 levels on the left, 2 on the right)\n",
            "  warnings.warn(msg, UserWarning)\n",
            "/usr/local/lib/python3.6/dist-packages/pandas/core/generic.py:3936: PerformanceWarning: dropping on a non-lexsorted multi-index without a level parameter may impact performance.\n",
            "  obj = obj._drop_axis(labels, axis, level=level, errors=errors)\n"
          ],
          "name": "stderr"
        }
      ]
    },
    {
      "cell_type": "code",
      "metadata": {
        "id": "pHVkbuqPieer",
        "colab_type": "code",
        "colab": {
          "base_uri": "https://localhost:8080/",
          "height": 104
        },
        "outputId": "155f175b-c477-48b0-a2e1-8dc2bf6768eb"
      },
      "source": [
        "std_encoding=train.groupby(['Hometown']).agg({'Attrition_rate':['std']}).reset_index()\n",
        "data = data.merge(std_encoding,on='Hometown',how=\"left\")\n",
        "data.rename(columns={('Attrition_rate', 'std'):\"Hometown_std\"},inplace=True)"
      ],
      "execution_count": 970,
      "outputs": [
        {
          "output_type": "stream",
          "text": [
            "/usr/local/lib/python3.6/dist-packages/pandas/core/reshape/merge.py:618: UserWarning: merging between different levels can give an unintended result (1 levels on the left, 2 on the right)\n",
            "  warnings.warn(msg, UserWarning)\n",
            "/usr/local/lib/python3.6/dist-packages/pandas/core/generic.py:3936: PerformanceWarning: dropping on a non-lexsorted multi-index without a level parameter may impact performance.\n",
            "  obj = obj._drop_axis(labels, axis, level=level, errors=errors)\n"
          ],
          "name": "stderr"
        }
      ]
    },
    {
      "cell_type": "code",
      "metadata": {
        "id": "J_laJQGch3cL",
        "colab_type": "code",
        "colab": {
          "base_uri": "https://localhost:8080/",
          "height": 455
        },
        "outputId": "ddc48fe6-fd8b-456b-cec2-f4c0beaf32fc"
      },
      "source": [
        "data"
      ],
      "execution_count": 971,
      "outputs": [
        {
          "output_type": "execute_result",
          "data": {
            "text/html": [
              "<div>\n",
              "<style scoped>\n",
              "    .dataframe tbody tr th:only-of-type {\n",
              "        vertical-align: middle;\n",
              "    }\n",
              "\n",
              "    .dataframe tbody tr th {\n",
              "        vertical-align: top;\n",
              "    }\n",
              "\n",
              "    .dataframe thead th {\n",
              "        text-align: right;\n",
              "    }\n",
              "</style>\n",
              "<table border=\"1\" class=\"dataframe\">\n",
              "  <thead>\n",
              "    <tr style=\"text-align: right;\">\n",
              "      <th></th>\n",
              "      <th>Gender</th>\n",
              "      <th>Age</th>\n",
              "      <th>Education_Level</th>\n",
              "      <th>Relationship_Status</th>\n",
              "      <th>Hometown</th>\n",
              "      <th>Unit</th>\n",
              "      <th>Decision_skill_possess</th>\n",
              "      <th>Time_of_service</th>\n",
              "      <th>Time_since_promotion</th>\n",
              "      <th>growth_rate</th>\n",
              "      <th>Travel_Rate</th>\n",
              "      <th>Post_Level</th>\n",
              "      <th>Pay_Scale</th>\n",
              "      <th>Compensation_and_Benefits</th>\n",
              "      <th>Work_Life_balance</th>\n",
              "      <th>VAR1</th>\n",
              "      <th>VAR2</th>\n",
              "      <th>VAR3</th>\n",
              "      <th>VAR4</th>\n",
              "      <th>VAR5</th>\n",
              "      <th>VAR6</th>\n",
              "      <th>VAR7</th>\n",
              "      <th>promotion_year</th>\n",
              "      <th>decay_rate</th>\n",
              "      <th>Age_of_joining</th>\n",
              "      <th>c&amp;b</th>\n",
              "      <th>initially_promoted</th>\n",
              "      <th>gender_std</th>\n",
              "      <th>Relationship_Status_std</th>\n",
              "      <th>Hometown_std</th>\n",
              "    </tr>\n",
              "  </thead>\n",
              "  <tbody>\n",
              "    <tr>\n",
              "      <th>0</th>\n",
              "      <td>F</td>\n",
              "      <td>42.000000</td>\n",
              "      <td>4</td>\n",
              "      <td>Married</td>\n",
              "      <td>Franklin</td>\n",
              "      <td>IT</td>\n",
              "      <td>Conceptual</td>\n",
              "      <td>4.0</td>\n",
              "      <td>4</td>\n",
              "      <td>33</td>\n",
              "      <td>1</td>\n",
              "      <td>1</td>\n",
              "      <td>7.0</td>\n",
              "      <td>type2</td>\n",
              "      <td>3.0</td>\n",
              "      <td>4</td>\n",
              "      <td>0.7516</td>\n",
              "      <td>1.8688</td>\n",
              "      <td>2.000000</td>\n",
              "      <td>4</td>\n",
              "      <td>5</td>\n",
              "      <td>3</td>\n",
              "      <td>0.0</td>\n",
              "      <td>67</td>\n",
              "      <td>38.000000</td>\n",
              "      <td>2</td>\n",
              "      <td>1</td>\n",
              "      <td>0.180788</td>\n",
              "      <td>0.185186</td>\n",
              "      <td>0.186217</td>\n",
              "    </tr>\n",
              "    <tr>\n",
              "      <th>1</th>\n",
              "      <td>M</td>\n",
              "      <td>24.000000</td>\n",
              "      <td>3</td>\n",
              "      <td>Single</td>\n",
              "      <td>Springfield</td>\n",
              "      <td>Logistics</td>\n",
              "      <td>Analytical</td>\n",
              "      <td>5.0</td>\n",
              "      <td>4</td>\n",
              "      <td>36</td>\n",
              "      <td>0</td>\n",
              "      <td>3</td>\n",
              "      <td>6.0</td>\n",
              "      <td>type2</td>\n",
              "      <td>4.0</td>\n",
              "      <td>3</td>\n",
              "      <td>-0.9612</td>\n",
              "      <td>-0.4537</td>\n",
              "      <td>2.000000</td>\n",
              "      <td>3</td>\n",
              "      <td>5</td>\n",
              "      <td>3</td>\n",
              "      <td>1.0</td>\n",
              "      <td>64</td>\n",
              "      <td>19.000000</td>\n",
              "      <td>2</td>\n",
              "      <td>0</td>\n",
              "      <td>0.192465</td>\n",
              "      <td>0.186799</td>\n",
              "      <td>0.189545</td>\n",
              "    </tr>\n",
              "    <tr>\n",
              "      <th>2</th>\n",
              "      <td>F</td>\n",
              "      <td>58.000000</td>\n",
              "      <td>3</td>\n",
              "      <td>Married</td>\n",
              "      <td>Clinton</td>\n",
              "      <td>Quality</td>\n",
              "      <td>Conceptual</td>\n",
              "      <td>27.0</td>\n",
              "      <td>3</td>\n",
              "      <td>51</td>\n",
              "      <td>0</td>\n",
              "      <td>2</td>\n",
              "      <td>8.0</td>\n",
              "      <td>type2</td>\n",
              "      <td>1.0</td>\n",
              "      <td>4</td>\n",
              "      <td>-0.9612</td>\n",
              "      <td>-0.4537</td>\n",
              "      <td>3.000000</td>\n",
              "      <td>3</td>\n",
              "      <td>8</td>\n",
              "      <td>3</td>\n",
              "      <td>24.0</td>\n",
              "      <td>49</td>\n",
              "      <td>31.000000</td>\n",
              "      <td>2</td>\n",
              "      <td>0</td>\n",
              "      <td>0.180788</td>\n",
              "      <td>0.185186</td>\n",
              "      <td>0.192760</td>\n",
              "    </tr>\n",
              "    <tr>\n",
              "      <th>3</th>\n",
              "      <td>F</td>\n",
              "      <td>26.000000</td>\n",
              "      <td>3</td>\n",
              "      <td>Single</td>\n",
              "      <td>Lebanon</td>\n",
              "      <td>Human Resource Management</td>\n",
              "      <td>Behavioral</td>\n",
              "      <td>4.0</td>\n",
              "      <td>3</td>\n",
              "      <td>56</td>\n",
              "      <td>1</td>\n",
              "      <td>3</td>\n",
              "      <td>8.0</td>\n",
              "      <td>type2</td>\n",
              "      <td>1.0</td>\n",
              "      <td>3</td>\n",
              "      <td>-1.8176</td>\n",
              "      <td>-0.4537</td>\n",
              "      <td>1.895976</td>\n",
              "      <td>3</td>\n",
              "      <td>7</td>\n",
              "      <td>3</td>\n",
              "      <td>1.0</td>\n",
              "      <td>44</td>\n",
              "      <td>22.000000</td>\n",
              "      <td>2</td>\n",
              "      <td>0</td>\n",
              "      <td>0.180788</td>\n",
              "      <td>0.186799</td>\n",
              "      <td>0.183324</td>\n",
              "    </tr>\n",
              "    <tr>\n",
              "      <th>4</th>\n",
              "      <td>F</td>\n",
              "      <td>31.000000</td>\n",
              "      <td>1</td>\n",
              "      <td>Married</td>\n",
              "      <td>Springfield</td>\n",
              "      <td>Logistics</td>\n",
              "      <td>Conceptual</td>\n",
              "      <td>5.0</td>\n",
              "      <td>4</td>\n",
              "      <td>62</td>\n",
              "      <td>1</td>\n",
              "      <td>3</td>\n",
              "      <td>2.0</td>\n",
              "      <td>type3</td>\n",
              "      <td>3.0</td>\n",
              "      <td>1</td>\n",
              "      <td>0.7516</td>\n",
              "      <td>-0.4537</td>\n",
              "      <td>2.000000</td>\n",
              "      <td>2</td>\n",
              "      <td>8</td>\n",
              "      <td>2</td>\n",
              "      <td>1.0</td>\n",
              "      <td>38</td>\n",
              "      <td>26.000000</td>\n",
              "      <td>3</td>\n",
              "      <td>0</td>\n",
              "      <td>0.180788</td>\n",
              "      <td>0.185186</td>\n",
              "      <td>0.189545</td>\n",
              "    </tr>\n",
              "    <tr>\n",
              "      <th>...</th>\n",
              "      <td>...</td>\n",
              "      <td>...</td>\n",
              "      <td>...</td>\n",
              "      <td>...</td>\n",
              "      <td>...</td>\n",
              "      <td>...</td>\n",
              "      <td>...</td>\n",
              "      <td>...</td>\n",
              "      <td>...</td>\n",
              "      <td>...</td>\n",
              "      <td>...</td>\n",
              "      <td>...</td>\n",
              "      <td>...</td>\n",
              "      <td>...</td>\n",
              "      <td>...</td>\n",
              "      <td>...</td>\n",
              "      <td>...</td>\n",
              "      <td>...</td>\n",
              "      <td>...</td>\n",
              "      <td>...</td>\n",
              "      <td>...</td>\n",
              "      <td>...</td>\n",
              "      <td>...</td>\n",
              "      <td>...</td>\n",
              "      <td>...</td>\n",
              "      <td>...</td>\n",
              "      <td>...</td>\n",
              "      <td>...</td>\n",
              "      <td>...</td>\n",
              "      <td>...</td>\n",
              "    </tr>\n",
              "    <tr>\n",
              "      <th>9995</th>\n",
              "      <td>F</td>\n",
              "      <td>32.000000</td>\n",
              "      <td>3</td>\n",
              "      <td>Single</td>\n",
              "      <td>Franklin</td>\n",
              "      <td>Sales</td>\n",
              "      <td>Directive</td>\n",
              "      <td>3.0</td>\n",
              "      <td>3</td>\n",
              "      <td>38</td>\n",
              "      <td>1</td>\n",
              "      <td>3</td>\n",
              "      <td>6.0</td>\n",
              "      <td>type2</td>\n",
              "      <td>2.0</td>\n",
              "      <td>1</td>\n",
              "      <td>-0.1048</td>\n",
              "      <td>0.7075</td>\n",
              "      <td>1.000000</td>\n",
              "      <td>4</td>\n",
              "      <td>7</td>\n",
              "      <td>4</td>\n",
              "      <td>0.0</td>\n",
              "      <td>62</td>\n",
              "      <td>29.000000</td>\n",
              "      <td>2</td>\n",
              "      <td>1</td>\n",
              "      <td>0.180788</td>\n",
              "      <td>0.186799</td>\n",
              "      <td>0.186217</td>\n",
              "    </tr>\n",
              "    <tr>\n",
              "      <th>9996</th>\n",
              "      <td>F</td>\n",
              "      <td>39.675507</td>\n",
              "      <td>2</td>\n",
              "      <td>Single</td>\n",
              "      <td>Franklin</td>\n",
              "      <td>Marketing</td>\n",
              "      <td>Conceptual</td>\n",
              "      <td>10.0</td>\n",
              "      <td>2</td>\n",
              "      <td>57</td>\n",
              "      <td>1</td>\n",
              "      <td>4</td>\n",
              "      <td>9.0</td>\n",
              "      <td>type2</td>\n",
              "      <td>1.0</td>\n",
              "      <td>3</td>\n",
              "      <td>0.7516</td>\n",
              "      <td>0.7075</td>\n",
              "      <td>3.000000</td>\n",
              "      <td>4</td>\n",
              "      <td>8</td>\n",
              "      <td>3</td>\n",
              "      <td>8.0</td>\n",
              "      <td>43</td>\n",
              "      <td>29.675507</td>\n",
              "      <td>2</td>\n",
              "      <td>0</td>\n",
              "      <td>0.180788</td>\n",
              "      <td>0.186799</td>\n",
              "      <td>0.186217</td>\n",
              "    </tr>\n",
              "    <tr>\n",
              "      <th>9997</th>\n",
              "      <td>F</td>\n",
              "      <td>60.000000</td>\n",
              "      <td>4</td>\n",
              "      <td>Single</td>\n",
              "      <td>Lebanon</td>\n",
              "      <td>Logistics</td>\n",
              "      <td>Analytical</td>\n",
              "      <td>35.0</td>\n",
              "      <td>1</td>\n",
              "      <td>69</td>\n",
              "      <td>0</td>\n",
              "      <td>2</td>\n",
              "      <td>9.0</td>\n",
              "      <td>type3</td>\n",
              "      <td>3.0</td>\n",
              "      <td>3</td>\n",
              "      <td>-1.8176</td>\n",
              "      <td>-0.4537</td>\n",
              "      <td>1.895976</td>\n",
              "      <td>4</td>\n",
              "      <td>8</td>\n",
              "      <td>4</td>\n",
              "      <td>34.0</td>\n",
              "      <td>31</td>\n",
              "      <td>25.000000</td>\n",
              "      <td>3</td>\n",
              "      <td>0</td>\n",
              "      <td>0.180788</td>\n",
              "      <td>0.186799</td>\n",
              "      <td>0.183324</td>\n",
              "    </tr>\n",
              "    <tr>\n",
              "      <th>9998</th>\n",
              "      <td>F</td>\n",
              "      <td>51.000000</td>\n",
              "      <td>1</td>\n",
              "      <td>Married</td>\n",
              "      <td>Springfield</td>\n",
              "      <td>IT</td>\n",
              "      <td>Behavioral</td>\n",
              "      <td>23.0</td>\n",
              "      <td>1</td>\n",
              "      <td>30</td>\n",
              "      <td>0</td>\n",
              "      <td>2</td>\n",
              "      <td>6.0</td>\n",
              "      <td>type3</td>\n",
              "      <td>1.0</td>\n",
              "      <td>5</td>\n",
              "      <td>0.7516</td>\n",
              "      <td>-0.4537</td>\n",
              "      <td>2.000000</td>\n",
              "      <td>3</td>\n",
              "      <td>9</td>\n",
              "      <td>2</td>\n",
              "      <td>22.0</td>\n",
              "      <td>70</td>\n",
              "      <td>28.000000</td>\n",
              "      <td>3</td>\n",
              "      <td>0</td>\n",
              "      <td>0.180788</td>\n",
              "      <td>0.185186</td>\n",
              "      <td>0.189545</td>\n",
              "    </tr>\n",
              "    <tr>\n",
              "      <th>9999</th>\n",
              "      <td>F</td>\n",
              "      <td>45.000000</td>\n",
              "      <td>1</td>\n",
              "      <td>Single</td>\n",
              "      <td>Franklin</td>\n",
              "      <td>Sales</td>\n",
              "      <td>Directive</td>\n",
              "      <td>12.0</td>\n",
              "      <td>4</td>\n",
              "      <td>70</td>\n",
              "      <td>1</td>\n",
              "      <td>2</td>\n",
              "      <td>8.0</td>\n",
              "      <td>type4</td>\n",
              "      <td>4.0</td>\n",
              "      <td>3</td>\n",
              "      <td>0.7516</td>\n",
              "      <td>-0.4537</td>\n",
              "      <td>2.000000</td>\n",
              "      <td>2</td>\n",
              "      <td>8</td>\n",
              "      <td>5</td>\n",
              "      <td>8.0</td>\n",
              "      <td>30</td>\n",
              "      <td>33.000000</td>\n",
              "      <td>4</td>\n",
              "      <td>0</td>\n",
              "      <td>0.180788</td>\n",
              "      <td>0.186799</td>\n",
              "      <td>0.186217</td>\n",
              "    </tr>\n",
              "  </tbody>\n",
              "</table>\n",
              "<p>10000 rows × 30 columns</p>\n",
              "</div>"
            ],
            "text/plain": [
              "     Gender        Age  ...  Relationship_Status_std Hometown_std\n",
              "0         F  42.000000  ...                 0.185186     0.186217\n",
              "1         M  24.000000  ...                 0.186799     0.189545\n",
              "2         F  58.000000  ...                 0.185186     0.192760\n",
              "3         F  26.000000  ...                 0.186799     0.183324\n",
              "4         F  31.000000  ...                 0.185186     0.189545\n",
              "...     ...        ...  ...                      ...          ...\n",
              "9995      F  32.000000  ...                 0.186799     0.186217\n",
              "9996      F  39.675507  ...                 0.186799     0.186217\n",
              "9997      F  60.000000  ...                 0.186799     0.183324\n",
              "9998      F  51.000000  ...                 0.185186     0.189545\n",
              "9999      F  45.000000  ...                 0.186799     0.186217\n",
              "\n",
              "[10000 rows x 30 columns]"
            ]
          },
          "metadata": {
            "tags": []
          },
          "execution_count": 971
        }
      ]
    },
    {
      "cell_type": "code",
      "metadata": {
        "id": "dpiQi7mcieai",
        "colab_type": "code",
        "colab": {
          "base_uri": "https://localhost:8080/",
          "height": 104
        },
        "outputId": "795e2cf8-d949-40b3-b5c6-5a227479e036"
      },
      "source": [
        "std_encoding=train.groupby(['Unit']).agg({'Attrition_rate':['std']}).reset_index()\n",
        "data = data.merge(std_encoding,on='Unit',how=\"left\")\n",
        "data.rename(columns={('Attrition_rate', 'std'):\"Unit_std\"},inplace=True)"
      ],
      "execution_count": 972,
      "outputs": [
        {
          "output_type": "stream",
          "text": [
            "/usr/local/lib/python3.6/dist-packages/pandas/core/reshape/merge.py:618: UserWarning: merging between different levels can give an unintended result (1 levels on the left, 2 on the right)\n",
            "  warnings.warn(msg, UserWarning)\n",
            "/usr/local/lib/python3.6/dist-packages/pandas/core/generic.py:3936: PerformanceWarning: dropping on a non-lexsorted multi-index without a level parameter may impact performance.\n",
            "  obj = obj._drop_axis(labels, axis, level=level, errors=errors)\n"
          ],
          "name": "stderr"
        }
      ]
    },
    {
      "cell_type": "code",
      "metadata": {
        "id": "CsdQlFmzieX_",
        "colab_type": "code",
        "colab": {
          "base_uri": "https://localhost:8080/",
          "height": 104
        },
        "outputId": "38d643a2-a580-458b-8612-6cfb8673c6bb"
      },
      "source": [
        "std_encoding=train.groupby(['Decision_skill_possess']).agg({'Attrition_rate':['std']}).reset_index()\n",
        "data = data.merge(std_encoding,on='Decision_skill_possess',how=\"left\")\n",
        "data.rename(columns={('Attrition_rate', 'std'):\"Decision_skill_possess_std\"},inplace=True)"
      ],
      "execution_count": 973,
      "outputs": [
        {
          "output_type": "stream",
          "text": [
            "/usr/local/lib/python3.6/dist-packages/pandas/core/reshape/merge.py:618: UserWarning: merging between different levels can give an unintended result (1 levels on the left, 2 on the right)\n",
            "  warnings.warn(msg, UserWarning)\n",
            "/usr/local/lib/python3.6/dist-packages/pandas/core/generic.py:3936: PerformanceWarning: dropping on a non-lexsorted multi-index without a level parameter may impact performance.\n",
            "  obj = obj._drop_axis(labels, axis, level=level, errors=errors)\n"
          ],
          "name": "stderr"
        }
      ]
    },
    {
      "cell_type": "code",
      "metadata": {
        "id": "4g1eNhefieVV",
        "colab_type": "code",
        "colab": {
          "base_uri": "https://localhost:8080/",
          "height": 104
        },
        "outputId": "202c4610-ae26-42e5-a516-0279e393063b"
      },
      "source": [
        "std_encoding=train.groupby(['Compensation_and_Benefits']).agg({'Attrition_rate':['std']}).reset_index()\n",
        "data = data.merge(std_encoding,on='Compensation_and_Benefits',how=\"left\")\n",
        "data.rename(columns={('Attrition_rate', 'std'):\"Compensation_and_Benefits_std\"},inplace=True)"
      ],
      "execution_count": 974,
      "outputs": [
        {
          "output_type": "stream",
          "text": [
            "/usr/local/lib/python3.6/dist-packages/pandas/core/reshape/merge.py:618: UserWarning: merging between different levels can give an unintended result (1 levels on the left, 2 on the right)\n",
            "  warnings.warn(msg, UserWarning)\n",
            "/usr/local/lib/python3.6/dist-packages/pandas/core/generic.py:3936: PerformanceWarning: dropping on a non-lexsorted multi-index without a level parameter may impact performance.\n",
            "  obj = obj._drop_axis(labels, axis, level=level, errors=errors)\n"
          ],
          "name": "stderr"
        }
      ]
    },
    {
      "cell_type": "code",
      "metadata": {
        "id": "DMwEvEIijGYS",
        "colab_type": "code",
        "colab": {
          "base_uri": "https://localhost:8080/",
          "height": 168
        },
        "outputId": "b8af73d7-890a-4ef2-a4e4-8cb9cac670e3"
      },
      "source": [
        "data.columns"
      ],
      "execution_count": 975,
      "outputs": [
        {
          "output_type": "execute_result",
          "data": {
            "text/plain": [
              "Index(['Gender', 'Age', 'Education_Level', 'Relationship_Status', 'Hometown',\n",
              "       'Unit', 'Decision_skill_possess', 'Time_of_service',\n",
              "       'Time_since_promotion', 'growth_rate', 'Travel_Rate', 'Post_Level',\n",
              "       'Pay_Scale', 'Compensation_and_Benefits', 'Work_Life_balance', 'VAR1',\n",
              "       'VAR2', 'VAR3', 'VAR4', 'VAR5', 'VAR6', 'VAR7', 'promotion_year',\n",
              "       'decay_rate', 'Age_of_joining', 'c&b', 'initially_promoted',\n",
              "       'gender_std', 'Relationship_Status_std', 'Hometown_std', 'Unit_std',\n",
              "       'Decision_skill_possess_std', 'Compensation_and_Benefits_std'],\n",
              "      dtype='object')"
            ]
          },
          "metadata": {
            "tags": []
          },
          "execution_count": 975
        }
      ]
    },
    {
      "cell_type": "code",
      "metadata": {
        "id": "oHpotglVO0HY",
        "colab_type": "code",
        "colab": {}
      },
      "source": [
        "target=train.pop(\"Attrition_rate\")"
      ],
      "execution_count": 976,
      "outputs": []
    },
    {
      "cell_type": "code",
      "metadata": {
        "id": "lgNn4fXXUzQY",
        "colab_type": "code",
        "colab": {
          "base_uri": "https://localhost:8080/",
          "height": 34
        },
        "outputId": "bdc08d75-f42a-4eb9-9e87-a22aa685be38"
      },
      "source": [
        "(np.sqrt(target)).skew()"
      ],
      "execution_count": 977,
      "outputs": [
        {
          "output_type": "execute_result",
          "data": {
            "text/plain": [
              "0.8009184610549853"
            ]
          },
          "metadata": {
            "tags": []
          },
          "execution_count": 977
        }
      ]
    },
    {
      "cell_type": "code",
      "metadata": {
        "id": "o3zeOHnuVWvm",
        "colab_type": "code",
        "colab": {}
      },
      "source": [
        "tar_sqrt=np.sqrt(target)"
      ],
      "execution_count": 978,
      "outputs": []
    },
    {
      "cell_type": "code",
      "metadata": {
        "id": "R7zCCQa8NDzt",
        "colab_type": "code",
        "colab": {
          "base_uri": "https://localhost:8080/",
          "height": 588
        },
        "outputId": "c2f13127-a876-4db9-8d03-49db5cc2264a"
      },
      "source": [
        "data.dtypes"
      ],
      "execution_count": 979,
      "outputs": [
        {
          "output_type": "execute_result",
          "data": {
            "text/plain": [
              "Gender                            object\n",
              "Age                              float64\n",
              "Education_Level                    int64\n",
              "Relationship_Status               object\n",
              "Hometown                          object\n",
              "Unit                              object\n",
              "Decision_skill_possess            object\n",
              "Time_of_service                  float64\n",
              "Time_since_promotion               int64\n",
              "growth_rate                        int64\n",
              "Travel_Rate                        int64\n",
              "Post_Level                         int64\n",
              "Pay_Scale                        float64\n",
              "Compensation_and_Benefits         object\n",
              "Work_Life_balance                float64\n",
              "VAR1                               int64\n",
              "VAR2                             float64\n",
              "VAR3                             float64\n",
              "VAR4                             float64\n",
              "VAR5                               int64\n",
              "VAR6                               int64\n",
              "VAR7                               int64\n",
              "promotion_year                   float64\n",
              "decay_rate                         int64\n",
              "Age_of_joining                   float64\n",
              "c&b                                int64\n",
              "initially_promoted                 int64\n",
              "gender_std                       float64\n",
              "Relationship_Status_std          float64\n",
              "Hometown_std                     float64\n",
              "Unit_std                         float64\n",
              "Decision_skill_possess_std       float64\n",
              "Compensation_and_Benefits_std    float64\n",
              "dtype: object"
            ]
          },
          "metadata": {
            "tags": []
          },
          "execution_count": 979
        }
      ]
    },
    {
      "cell_type": "code",
      "metadata": {
        "id": "DYimCtirluY0",
        "colab_type": "code",
        "colab": {}
      },
      "source": [
        "from sklearn.preprocessing import PolynomialFeatures"
      ],
      "execution_count": null,
      "outputs": []
    },
    {
      "cell_type": "code",
      "metadata": {
        "id": "LFWlYyDLluQM",
        "colab_type": "code",
        "colab": {}
      },
      "source": [
        "poly_reg = PolynomialFeatures(degree = 2,interaction_only=False, include_bias=True)"
      ],
      "execution_count": null,
      "outputs": []
    },
    {
      "cell_type": "code",
      "metadata": {
        "id": "dEycGVkCluMJ",
        "colab_type": "code",
        "colab": {}
      },
      "source": [
        "X_poly = poly_reg.fit_transform(data[[\"VAR1\",\"VAR2\",\"VAR3\",\"VAR4\",\"VAR5\",\"VAR6\",\"VAR7\"]])\n"
      ],
      "execution_count": null,
      "outputs": []
    },
    {
      "cell_type": "code",
      "metadata": {
        "id": "PENMUQkwmcSF",
        "colab_type": "code",
        "colab": {}
      },
      "source": [
        "xx=pd.DataFrame(X_poly)"
      ],
      "execution_count": null,
      "outputs": []
    },
    {
      "cell_type": "code",
      "metadata": {
        "id": "LXciXYn_mgmf",
        "colab_type": "code",
        "colab": {}
      },
      "source": [
        "xx.drop(0,axis=1,inplace=True)"
      ],
      "execution_count": null,
      "outputs": []
    },
    {
      "cell_type": "code",
      "metadata": {
        "id": "J2Ay0I5Vmuj3",
        "colab_type": "code",
        "colab": {
          "base_uri": "https://localhost:8080/",
          "height": 422
        },
        "outputId": "fd2473d3-4183-4872-bffc-a4867319edc9"
      },
      "source": [
        "xx"
      ],
      "execution_count": null,
      "outputs": [
        {
          "output_type": "execute_result",
          "data": {
            "text/html": [
              "<div>\n",
              "<style scoped>\n",
              "    .dataframe tbody tr th:only-of-type {\n",
              "        vertical-align: middle;\n",
              "    }\n",
              "\n",
              "    .dataframe tbody tr th {\n",
              "        vertical-align: top;\n",
              "    }\n",
              "\n",
              "    .dataframe thead th {\n",
              "        text-align: right;\n",
              "    }\n",
              "</style>\n",
              "<table border=\"1\" class=\"dataframe\">\n",
              "  <thead>\n",
              "    <tr style=\"text-align: right;\">\n",
              "      <th></th>\n",
              "      <th>1</th>\n",
              "      <th>2</th>\n",
              "      <th>3</th>\n",
              "      <th>4</th>\n",
              "      <th>5</th>\n",
              "      <th>6</th>\n",
              "      <th>7</th>\n",
              "      <th>8</th>\n",
              "      <th>9</th>\n",
              "      <th>10</th>\n",
              "      <th>11</th>\n",
              "      <th>12</th>\n",
              "      <th>13</th>\n",
              "      <th>14</th>\n",
              "      <th>15</th>\n",
              "      <th>16</th>\n",
              "      <th>17</th>\n",
              "      <th>18</th>\n",
              "      <th>19</th>\n",
              "      <th>20</th>\n",
              "      <th>21</th>\n",
              "      <th>22</th>\n",
              "      <th>23</th>\n",
              "      <th>24</th>\n",
              "      <th>25</th>\n",
              "      <th>26</th>\n",
              "      <th>27</th>\n",
              "      <th>28</th>\n",
              "      <th>29</th>\n",
              "      <th>30</th>\n",
              "      <th>31</th>\n",
              "      <th>32</th>\n",
              "      <th>33</th>\n",
              "      <th>34</th>\n",
              "      <th>35</th>\n",
              "    </tr>\n",
              "  </thead>\n",
              "  <tbody>\n",
              "    <tr>\n",
              "      <th>0</th>\n",
              "      <td>4.0</td>\n",
              "      <td>0.7516</td>\n",
              "      <td>1.8688</td>\n",
              "      <td>2.000000</td>\n",
              "      <td>4.0</td>\n",
              "      <td>5.0</td>\n",
              "      <td>3.0</td>\n",
              "      <td>16.0</td>\n",
              "      <td>3.0064</td>\n",
              "      <td>7.4752</td>\n",
              "      <td>8.000000</td>\n",
              "      <td>16.0</td>\n",
              "      <td>20.0</td>\n",
              "      <td>12.0</td>\n",
              "      <td>0.564903</td>\n",
              "      <td>1.404590</td>\n",
              "      <td>1.503200</td>\n",
              "      <td>3.0064</td>\n",
              "      <td>3.7580</td>\n",
              "      <td>2.2548</td>\n",
              "      <td>3.492413</td>\n",
              "      <td>3.737600</td>\n",
              "      <td>7.4752</td>\n",
              "      <td>9.3440</td>\n",
              "      <td>5.6064</td>\n",
              "      <td>4.000000</td>\n",
              "      <td>8.000000</td>\n",
              "      <td>10.000000</td>\n",
              "      <td>6.000000</td>\n",
              "      <td>16.0</td>\n",
              "      <td>20.0</td>\n",
              "      <td>12.0</td>\n",
              "      <td>25.0</td>\n",
              "      <td>15.0</td>\n",
              "      <td>9.0</td>\n",
              "    </tr>\n",
              "    <tr>\n",
              "      <th>1</th>\n",
              "      <td>3.0</td>\n",
              "      <td>-0.9612</td>\n",
              "      <td>-0.4537</td>\n",
              "      <td>2.000000</td>\n",
              "      <td>3.0</td>\n",
              "      <td>5.0</td>\n",
              "      <td>3.0</td>\n",
              "      <td>9.0</td>\n",
              "      <td>-2.8836</td>\n",
              "      <td>-1.3611</td>\n",
              "      <td>6.000000</td>\n",
              "      <td>9.0</td>\n",
              "      <td>15.0</td>\n",
              "      <td>9.0</td>\n",
              "      <td>0.923905</td>\n",
              "      <td>0.436096</td>\n",
              "      <td>-1.922400</td>\n",
              "      <td>-2.8836</td>\n",
              "      <td>-4.8060</td>\n",
              "      <td>-2.8836</td>\n",
              "      <td>0.205844</td>\n",
              "      <td>-0.907400</td>\n",
              "      <td>-1.3611</td>\n",
              "      <td>-2.2685</td>\n",
              "      <td>-1.3611</td>\n",
              "      <td>4.000000</td>\n",
              "      <td>6.000000</td>\n",
              "      <td>10.000000</td>\n",
              "      <td>6.000000</td>\n",
              "      <td>9.0</td>\n",
              "      <td>15.0</td>\n",
              "      <td>9.0</td>\n",
              "      <td>25.0</td>\n",
              "      <td>15.0</td>\n",
              "      <td>9.0</td>\n",
              "    </tr>\n",
              "    <tr>\n",
              "      <th>2</th>\n",
              "      <td>4.0</td>\n",
              "      <td>-0.9612</td>\n",
              "      <td>-0.4537</td>\n",
              "      <td>3.000000</td>\n",
              "      <td>3.0</td>\n",
              "      <td>8.0</td>\n",
              "      <td>3.0</td>\n",
              "      <td>16.0</td>\n",
              "      <td>-3.8448</td>\n",
              "      <td>-1.8148</td>\n",
              "      <td>12.000000</td>\n",
              "      <td>12.0</td>\n",
              "      <td>32.0</td>\n",
              "      <td>12.0</td>\n",
              "      <td>0.923905</td>\n",
              "      <td>0.436096</td>\n",
              "      <td>-2.883600</td>\n",
              "      <td>-2.8836</td>\n",
              "      <td>-7.6896</td>\n",
              "      <td>-2.8836</td>\n",
              "      <td>0.205844</td>\n",
              "      <td>-1.361100</td>\n",
              "      <td>-1.3611</td>\n",
              "      <td>-3.6296</td>\n",
              "      <td>-1.3611</td>\n",
              "      <td>9.000000</td>\n",
              "      <td>9.000000</td>\n",
              "      <td>24.000000</td>\n",
              "      <td>9.000000</td>\n",
              "      <td>9.0</td>\n",
              "      <td>24.0</td>\n",
              "      <td>9.0</td>\n",
              "      <td>64.0</td>\n",
              "      <td>24.0</td>\n",
              "      <td>9.0</td>\n",
              "    </tr>\n",
              "    <tr>\n",
              "      <th>3</th>\n",
              "      <td>3.0</td>\n",
              "      <td>-1.8176</td>\n",
              "      <td>-0.4537</td>\n",
              "      <td>1.895976</td>\n",
              "      <td>3.0</td>\n",
              "      <td>7.0</td>\n",
              "      <td>3.0</td>\n",
              "      <td>9.0</td>\n",
              "      <td>-5.4528</td>\n",
              "      <td>-1.3611</td>\n",
              "      <td>5.687928</td>\n",
              "      <td>9.0</td>\n",
              "      <td>21.0</td>\n",
              "      <td>9.0</td>\n",
              "      <td>3.303670</td>\n",
              "      <td>0.824645</td>\n",
              "      <td>-3.446126</td>\n",
              "      <td>-5.4528</td>\n",
              "      <td>-12.7232</td>\n",
              "      <td>-5.4528</td>\n",
              "      <td>0.205844</td>\n",
              "      <td>-0.860204</td>\n",
              "      <td>-1.3611</td>\n",
              "      <td>-3.1759</td>\n",
              "      <td>-1.3611</td>\n",
              "      <td>3.594725</td>\n",
              "      <td>5.687928</td>\n",
              "      <td>13.271833</td>\n",
              "      <td>5.687928</td>\n",
              "      <td>9.0</td>\n",
              "      <td>21.0</td>\n",
              "      <td>9.0</td>\n",
              "      <td>49.0</td>\n",
              "      <td>21.0</td>\n",
              "      <td>9.0</td>\n",
              "    </tr>\n",
              "    <tr>\n",
              "      <th>4</th>\n",
              "      <td>1.0</td>\n",
              "      <td>0.7516</td>\n",
              "      <td>-0.4537</td>\n",
              "      <td>2.000000</td>\n",
              "      <td>2.0</td>\n",
              "      <td>8.0</td>\n",
              "      <td>2.0</td>\n",
              "      <td>1.0</td>\n",
              "      <td>0.7516</td>\n",
              "      <td>-0.4537</td>\n",
              "      <td>2.000000</td>\n",
              "      <td>2.0</td>\n",
              "      <td>8.0</td>\n",
              "      <td>2.0</td>\n",
              "      <td>0.564903</td>\n",
              "      <td>-0.341001</td>\n",
              "      <td>1.503200</td>\n",
              "      <td>1.5032</td>\n",
              "      <td>6.0128</td>\n",
              "      <td>1.5032</td>\n",
              "      <td>0.205844</td>\n",
              "      <td>-0.907400</td>\n",
              "      <td>-0.9074</td>\n",
              "      <td>-3.6296</td>\n",
              "      <td>-0.9074</td>\n",
              "      <td>4.000000</td>\n",
              "      <td>4.000000</td>\n",
              "      <td>16.000000</td>\n",
              "      <td>4.000000</td>\n",
              "      <td>4.0</td>\n",
              "      <td>16.0</td>\n",
              "      <td>4.0</td>\n",
              "      <td>64.0</td>\n",
              "      <td>16.0</td>\n",
              "      <td>4.0</td>\n",
              "    </tr>\n",
              "    <tr>\n",
              "      <th>...</th>\n",
              "      <td>...</td>\n",
              "      <td>...</td>\n",
              "      <td>...</td>\n",
              "      <td>...</td>\n",
              "      <td>...</td>\n",
              "      <td>...</td>\n",
              "      <td>...</td>\n",
              "      <td>...</td>\n",
              "      <td>...</td>\n",
              "      <td>...</td>\n",
              "      <td>...</td>\n",
              "      <td>...</td>\n",
              "      <td>...</td>\n",
              "      <td>...</td>\n",
              "      <td>...</td>\n",
              "      <td>...</td>\n",
              "      <td>...</td>\n",
              "      <td>...</td>\n",
              "      <td>...</td>\n",
              "      <td>...</td>\n",
              "      <td>...</td>\n",
              "      <td>...</td>\n",
              "      <td>...</td>\n",
              "      <td>...</td>\n",
              "      <td>...</td>\n",
              "      <td>...</td>\n",
              "      <td>...</td>\n",
              "      <td>...</td>\n",
              "      <td>...</td>\n",
              "      <td>...</td>\n",
              "      <td>...</td>\n",
              "      <td>...</td>\n",
              "      <td>...</td>\n",
              "      <td>...</td>\n",
              "      <td>...</td>\n",
              "    </tr>\n",
              "    <tr>\n",
              "      <th>9995</th>\n",
              "      <td>1.0</td>\n",
              "      <td>-0.1048</td>\n",
              "      <td>0.7075</td>\n",
              "      <td>1.000000</td>\n",
              "      <td>4.0</td>\n",
              "      <td>7.0</td>\n",
              "      <td>4.0</td>\n",
              "      <td>1.0</td>\n",
              "      <td>-0.1048</td>\n",
              "      <td>0.7075</td>\n",
              "      <td>1.000000</td>\n",
              "      <td>4.0</td>\n",
              "      <td>7.0</td>\n",
              "      <td>4.0</td>\n",
              "      <td>0.010983</td>\n",
              "      <td>-0.074146</td>\n",
              "      <td>-0.104800</td>\n",
              "      <td>-0.4192</td>\n",
              "      <td>-0.7336</td>\n",
              "      <td>-0.4192</td>\n",
              "      <td>0.500556</td>\n",
              "      <td>0.707500</td>\n",
              "      <td>2.8300</td>\n",
              "      <td>4.9525</td>\n",
              "      <td>2.8300</td>\n",
              "      <td>1.000000</td>\n",
              "      <td>4.000000</td>\n",
              "      <td>7.000000</td>\n",
              "      <td>4.000000</td>\n",
              "      <td>16.0</td>\n",
              "      <td>28.0</td>\n",
              "      <td>16.0</td>\n",
              "      <td>49.0</td>\n",
              "      <td>28.0</td>\n",
              "      <td>16.0</td>\n",
              "    </tr>\n",
              "    <tr>\n",
              "      <th>9996</th>\n",
              "      <td>3.0</td>\n",
              "      <td>0.7516</td>\n",
              "      <td>0.7075</td>\n",
              "      <td>3.000000</td>\n",
              "      <td>4.0</td>\n",
              "      <td>8.0</td>\n",
              "      <td>3.0</td>\n",
              "      <td>9.0</td>\n",
              "      <td>2.2548</td>\n",
              "      <td>2.1225</td>\n",
              "      <td>9.000000</td>\n",
              "      <td>12.0</td>\n",
              "      <td>24.0</td>\n",
              "      <td>9.0</td>\n",
              "      <td>0.564903</td>\n",
              "      <td>0.531757</td>\n",
              "      <td>2.254800</td>\n",
              "      <td>3.0064</td>\n",
              "      <td>6.0128</td>\n",
              "      <td>2.2548</td>\n",
              "      <td>0.500556</td>\n",
              "      <td>2.122500</td>\n",
              "      <td>2.8300</td>\n",
              "      <td>5.6600</td>\n",
              "      <td>2.1225</td>\n",
              "      <td>9.000000</td>\n",
              "      <td>12.000000</td>\n",
              "      <td>24.000000</td>\n",
              "      <td>9.000000</td>\n",
              "      <td>16.0</td>\n",
              "      <td>32.0</td>\n",
              "      <td>12.0</td>\n",
              "      <td>64.0</td>\n",
              "      <td>24.0</td>\n",
              "      <td>9.0</td>\n",
              "    </tr>\n",
              "    <tr>\n",
              "      <th>9997</th>\n",
              "      <td>3.0</td>\n",
              "      <td>-1.8176</td>\n",
              "      <td>-0.4537</td>\n",
              "      <td>1.895976</td>\n",
              "      <td>4.0</td>\n",
              "      <td>8.0</td>\n",
              "      <td>4.0</td>\n",
              "      <td>9.0</td>\n",
              "      <td>-5.4528</td>\n",
              "      <td>-1.3611</td>\n",
              "      <td>5.687928</td>\n",
              "      <td>12.0</td>\n",
              "      <td>24.0</td>\n",
              "      <td>12.0</td>\n",
              "      <td>3.303670</td>\n",
              "      <td>0.824645</td>\n",
              "      <td>-3.446126</td>\n",
              "      <td>-7.2704</td>\n",
              "      <td>-14.5408</td>\n",
              "      <td>-7.2704</td>\n",
              "      <td>0.205844</td>\n",
              "      <td>-0.860204</td>\n",
              "      <td>-1.8148</td>\n",
              "      <td>-3.6296</td>\n",
              "      <td>-1.8148</td>\n",
              "      <td>3.594725</td>\n",
              "      <td>7.583904</td>\n",
              "      <td>15.167809</td>\n",
              "      <td>7.583904</td>\n",
              "      <td>16.0</td>\n",
              "      <td>32.0</td>\n",
              "      <td>16.0</td>\n",
              "      <td>64.0</td>\n",
              "      <td>32.0</td>\n",
              "      <td>16.0</td>\n",
              "    </tr>\n",
              "    <tr>\n",
              "      <th>9998</th>\n",
              "      <td>5.0</td>\n",
              "      <td>0.7516</td>\n",
              "      <td>-0.4537</td>\n",
              "      <td>2.000000</td>\n",
              "      <td>3.0</td>\n",
              "      <td>9.0</td>\n",
              "      <td>2.0</td>\n",
              "      <td>25.0</td>\n",
              "      <td>3.7580</td>\n",
              "      <td>-2.2685</td>\n",
              "      <td>10.000000</td>\n",
              "      <td>15.0</td>\n",
              "      <td>45.0</td>\n",
              "      <td>10.0</td>\n",
              "      <td>0.564903</td>\n",
              "      <td>-0.341001</td>\n",
              "      <td>1.503200</td>\n",
              "      <td>2.2548</td>\n",
              "      <td>6.7644</td>\n",
              "      <td>1.5032</td>\n",
              "      <td>0.205844</td>\n",
              "      <td>-0.907400</td>\n",
              "      <td>-1.3611</td>\n",
              "      <td>-4.0833</td>\n",
              "      <td>-0.9074</td>\n",
              "      <td>4.000000</td>\n",
              "      <td>6.000000</td>\n",
              "      <td>18.000000</td>\n",
              "      <td>4.000000</td>\n",
              "      <td>9.0</td>\n",
              "      <td>27.0</td>\n",
              "      <td>6.0</td>\n",
              "      <td>81.0</td>\n",
              "      <td>18.0</td>\n",
              "      <td>4.0</td>\n",
              "    </tr>\n",
              "    <tr>\n",
              "      <th>9999</th>\n",
              "      <td>3.0</td>\n",
              "      <td>0.7516</td>\n",
              "      <td>-0.4537</td>\n",
              "      <td>2.000000</td>\n",
              "      <td>2.0</td>\n",
              "      <td>8.0</td>\n",
              "      <td>5.0</td>\n",
              "      <td>9.0</td>\n",
              "      <td>2.2548</td>\n",
              "      <td>-1.3611</td>\n",
              "      <td>6.000000</td>\n",
              "      <td>6.0</td>\n",
              "      <td>24.0</td>\n",
              "      <td>15.0</td>\n",
              "      <td>0.564903</td>\n",
              "      <td>-0.341001</td>\n",
              "      <td>1.503200</td>\n",
              "      <td>1.5032</td>\n",
              "      <td>6.0128</td>\n",
              "      <td>3.7580</td>\n",
              "      <td>0.205844</td>\n",
              "      <td>-0.907400</td>\n",
              "      <td>-0.9074</td>\n",
              "      <td>-3.6296</td>\n",
              "      <td>-2.2685</td>\n",
              "      <td>4.000000</td>\n",
              "      <td>4.000000</td>\n",
              "      <td>16.000000</td>\n",
              "      <td>10.000000</td>\n",
              "      <td>4.0</td>\n",
              "      <td>16.0</td>\n",
              "      <td>10.0</td>\n",
              "      <td>64.0</td>\n",
              "      <td>40.0</td>\n",
              "      <td>25.0</td>\n",
              "    </tr>\n",
              "  </tbody>\n",
              "</table>\n",
              "<p>10000 rows × 35 columns</p>\n",
              "</div>"
            ],
            "text/plain": [
              "       1       2       3         4    5   ...    31    32    33    34    35\n",
              "0     4.0  0.7516  1.8688  2.000000  4.0  ...  20.0  12.0  25.0  15.0   9.0\n",
              "1     3.0 -0.9612 -0.4537  2.000000  3.0  ...  15.0   9.0  25.0  15.0   9.0\n",
              "2     4.0 -0.9612 -0.4537  3.000000  3.0  ...  24.0   9.0  64.0  24.0   9.0\n",
              "3     3.0 -1.8176 -0.4537  1.895976  3.0  ...  21.0   9.0  49.0  21.0   9.0\n",
              "4     1.0  0.7516 -0.4537  2.000000  2.0  ...  16.0   4.0  64.0  16.0   4.0\n",
              "...   ...     ...     ...       ...  ...  ...   ...   ...   ...   ...   ...\n",
              "9995  1.0 -0.1048  0.7075  1.000000  4.0  ...  28.0  16.0  49.0  28.0  16.0\n",
              "9996  3.0  0.7516  0.7075  3.000000  4.0  ...  32.0  12.0  64.0  24.0   9.0\n",
              "9997  3.0 -1.8176 -0.4537  1.895976  4.0  ...  32.0  16.0  64.0  32.0  16.0\n",
              "9998  5.0  0.7516 -0.4537  2.000000  3.0  ...  27.0   6.0  81.0  18.0   4.0\n",
              "9999  3.0  0.7516 -0.4537  2.000000  2.0  ...  16.0  10.0  64.0  40.0  25.0\n",
              "\n",
              "[10000 rows x 35 columns]"
            ]
          },
          "metadata": {
            "tags": []
          },
          "execution_count": 889
        }
      ]
    },
    {
      "cell_type": "code",
      "metadata": {
        "id": "t8EMMPWpluG-",
        "colab_type": "code",
        "colab": {}
      },
      "source": [
        "data=pd.concat([data,xx],axis=1)"
      ],
      "execution_count": null,
      "outputs": []
    },
    {
      "cell_type": "code",
      "metadata": {
        "id": "in41p_74NEp_",
        "colab_type": "code",
        "colab": {}
      },
      "source": [
        "data.drop([\"Gender\",\"Unit\",\"Hometown\",\"Relationship_Status\",\"Decision_skill_possess\",\"Compensation_and_Benefits\"],axis=1,inplace=True)"
      ],
      "execution_count": 981,
      "outputs": []
    },
    {
      "cell_type": "code",
      "metadata": {
        "id": "szwgFYrcNnQl",
        "colab_type": "code",
        "colab": {
          "base_uri": "https://localhost:8080/",
          "height": 422
        },
        "outputId": "a5171206-3d45-4e3d-8f77-4e56cf88a852"
      },
      "source": [
        "data"
      ],
      "execution_count": 982,
      "outputs": [
        {
          "output_type": "execute_result",
          "data": {
            "text/html": [
              "<div>\n",
              "<style scoped>\n",
              "    .dataframe tbody tr th:only-of-type {\n",
              "        vertical-align: middle;\n",
              "    }\n",
              "\n",
              "    .dataframe tbody tr th {\n",
              "        vertical-align: top;\n",
              "    }\n",
              "\n",
              "    .dataframe thead th {\n",
              "        text-align: right;\n",
              "    }\n",
              "</style>\n",
              "<table border=\"1\" class=\"dataframe\">\n",
              "  <thead>\n",
              "    <tr style=\"text-align: right;\">\n",
              "      <th></th>\n",
              "      <th>Age</th>\n",
              "      <th>Education_Level</th>\n",
              "      <th>Time_of_service</th>\n",
              "      <th>Time_since_promotion</th>\n",
              "      <th>growth_rate</th>\n",
              "      <th>Travel_Rate</th>\n",
              "      <th>Post_Level</th>\n",
              "      <th>Pay_Scale</th>\n",
              "      <th>Work_Life_balance</th>\n",
              "      <th>VAR1</th>\n",
              "      <th>VAR2</th>\n",
              "      <th>VAR3</th>\n",
              "      <th>VAR4</th>\n",
              "      <th>VAR5</th>\n",
              "      <th>VAR6</th>\n",
              "      <th>VAR7</th>\n",
              "      <th>promotion_year</th>\n",
              "      <th>decay_rate</th>\n",
              "      <th>Age_of_joining</th>\n",
              "      <th>c&amp;b</th>\n",
              "      <th>initially_promoted</th>\n",
              "      <th>gender_std</th>\n",
              "      <th>Relationship_Status_std</th>\n",
              "      <th>Hometown_std</th>\n",
              "      <th>Unit_std</th>\n",
              "      <th>Decision_skill_possess_std</th>\n",
              "      <th>Compensation_and_Benefits_std</th>\n",
              "    </tr>\n",
              "  </thead>\n",
              "  <tbody>\n",
              "    <tr>\n",
              "      <th>0</th>\n",
              "      <td>42.000000</td>\n",
              "      <td>4</td>\n",
              "      <td>4.0</td>\n",
              "      <td>4</td>\n",
              "      <td>33</td>\n",
              "      <td>1</td>\n",
              "      <td>1</td>\n",
              "      <td>7.0</td>\n",
              "      <td>3.0</td>\n",
              "      <td>4</td>\n",
              "      <td>0.7516</td>\n",
              "      <td>1.8688</td>\n",
              "      <td>2.000000</td>\n",
              "      <td>4</td>\n",
              "      <td>5</td>\n",
              "      <td>3</td>\n",
              "      <td>0.0</td>\n",
              "      <td>67</td>\n",
              "      <td>38.000000</td>\n",
              "      <td>2</td>\n",
              "      <td>1</td>\n",
              "      <td>0.180788</td>\n",
              "      <td>0.185186</td>\n",
              "      <td>0.186217</td>\n",
              "      <td>0.173432</td>\n",
              "      <td>0.191891</td>\n",
              "      <td>0.184741</td>\n",
              "    </tr>\n",
              "    <tr>\n",
              "      <th>1</th>\n",
              "      <td>24.000000</td>\n",
              "      <td>3</td>\n",
              "      <td>5.0</td>\n",
              "      <td>4</td>\n",
              "      <td>36</td>\n",
              "      <td>0</td>\n",
              "      <td>3</td>\n",
              "      <td>6.0</td>\n",
              "      <td>4.0</td>\n",
              "      <td>3</td>\n",
              "      <td>-0.9612</td>\n",
              "      <td>-0.4537</td>\n",
              "      <td>2.000000</td>\n",
              "      <td>3</td>\n",
              "      <td>5</td>\n",
              "      <td>3</td>\n",
              "      <td>1.0</td>\n",
              "      <td>64</td>\n",
              "      <td>19.000000</td>\n",
              "      <td>2</td>\n",
              "      <td>0</td>\n",
              "      <td>0.192465</td>\n",
              "      <td>0.186799</td>\n",
              "      <td>0.189545</td>\n",
              "      <td>0.174740</td>\n",
              "      <td>0.188214</td>\n",
              "      <td>0.184741</td>\n",
              "    </tr>\n",
              "    <tr>\n",
              "      <th>2</th>\n",
              "      <td>58.000000</td>\n",
              "      <td>3</td>\n",
              "      <td>27.0</td>\n",
              "      <td>3</td>\n",
              "      <td>51</td>\n",
              "      <td>0</td>\n",
              "      <td>2</td>\n",
              "      <td>8.0</td>\n",
              "      <td>1.0</td>\n",
              "      <td>4</td>\n",
              "      <td>-0.9612</td>\n",
              "      <td>-0.4537</td>\n",
              "      <td>3.000000</td>\n",
              "      <td>3</td>\n",
              "      <td>8</td>\n",
              "      <td>3</td>\n",
              "      <td>24.0</td>\n",
              "      <td>49</td>\n",
              "      <td>31.000000</td>\n",
              "      <td>2</td>\n",
              "      <td>0</td>\n",
              "      <td>0.180788</td>\n",
              "      <td>0.185186</td>\n",
              "      <td>0.192760</td>\n",
              "      <td>0.173086</td>\n",
              "      <td>0.191891</td>\n",
              "      <td>0.184741</td>\n",
              "    </tr>\n",
              "    <tr>\n",
              "      <th>3</th>\n",
              "      <td>26.000000</td>\n",
              "      <td>3</td>\n",
              "      <td>4.0</td>\n",
              "      <td>3</td>\n",
              "      <td>56</td>\n",
              "      <td>1</td>\n",
              "      <td>3</td>\n",
              "      <td>8.0</td>\n",
              "      <td>1.0</td>\n",
              "      <td>3</td>\n",
              "      <td>-1.8176</td>\n",
              "      <td>-0.4537</td>\n",
              "      <td>1.895976</td>\n",
              "      <td>3</td>\n",
              "      <td>7</td>\n",
              "      <td>3</td>\n",
              "      <td>1.0</td>\n",
              "      <td>44</td>\n",
              "      <td>22.000000</td>\n",
              "      <td>2</td>\n",
              "      <td>0</td>\n",
              "      <td>0.180788</td>\n",
              "      <td>0.186799</td>\n",
              "      <td>0.183324</td>\n",
              "      <td>0.186058</td>\n",
              "      <td>0.176078</td>\n",
              "      <td>0.184741</td>\n",
              "    </tr>\n",
              "    <tr>\n",
              "      <th>4</th>\n",
              "      <td>31.000000</td>\n",
              "      <td>1</td>\n",
              "      <td>5.0</td>\n",
              "      <td>4</td>\n",
              "      <td>62</td>\n",
              "      <td>1</td>\n",
              "      <td>3</td>\n",
              "      <td>2.0</td>\n",
              "      <td>3.0</td>\n",
              "      <td>1</td>\n",
              "      <td>0.7516</td>\n",
              "      <td>-0.4537</td>\n",
              "      <td>2.000000</td>\n",
              "      <td>2</td>\n",
              "      <td>8</td>\n",
              "      <td>2</td>\n",
              "      <td>1.0</td>\n",
              "      <td>38</td>\n",
              "      <td>26.000000</td>\n",
              "      <td>3</td>\n",
              "      <td>0</td>\n",
              "      <td>0.180788</td>\n",
              "      <td>0.185186</td>\n",
              "      <td>0.189545</td>\n",
              "      <td>0.174740</td>\n",
              "      <td>0.191891</td>\n",
              "      <td>0.182250</td>\n",
              "    </tr>\n",
              "    <tr>\n",
              "      <th>...</th>\n",
              "      <td>...</td>\n",
              "      <td>...</td>\n",
              "      <td>...</td>\n",
              "      <td>...</td>\n",
              "      <td>...</td>\n",
              "      <td>...</td>\n",
              "      <td>...</td>\n",
              "      <td>...</td>\n",
              "      <td>...</td>\n",
              "      <td>...</td>\n",
              "      <td>...</td>\n",
              "      <td>...</td>\n",
              "      <td>...</td>\n",
              "      <td>...</td>\n",
              "      <td>...</td>\n",
              "      <td>...</td>\n",
              "      <td>...</td>\n",
              "      <td>...</td>\n",
              "      <td>...</td>\n",
              "      <td>...</td>\n",
              "      <td>...</td>\n",
              "      <td>...</td>\n",
              "      <td>...</td>\n",
              "      <td>...</td>\n",
              "      <td>...</td>\n",
              "      <td>...</td>\n",
              "      <td>...</td>\n",
              "    </tr>\n",
              "    <tr>\n",
              "      <th>9995</th>\n",
              "      <td>32.000000</td>\n",
              "      <td>3</td>\n",
              "      <td>3.0</td>\n",
              "      <td>3</td>\n",
              "      <td>38</td>\n",
              "      <td>1</td>\n",
              "      <td>3</td>\n",
              "      <td>6.0</td>\n",
              "      <td>2.0</td>\n",
              "      <td>1</td>\n",
              "      <td>-0.1048</td>\n",
              "      <td>0.7075</td>\n",
              "      <td>1.000000</td>\n",
              "      <td>4</td>\n",
              "      <td>7</td>\n",
              "      <td>4</td>\n",
              "      <td>0.0</td>\n",
              "      <td>62</td>\n",
              "      <td>29.000000</td>\n",
              "      <td>2</td>\n",
              "      <td>1</td>\n",
              "      <td>0.180788</td>\n",
              "      <td>0.186799</td>\n",
              "      <td>0.186217</td>\n",
              "      <td>0.195780</td>\n",
              "      <td>0.186172</td>\n",
              "      <td>0.184741</td>\n",
              "    </tr>\n",
              "    <tr>\n",
              "      <th>9996</th>\n",
              "      <td>39.675507</td>\n",
              "      <td>2</td>\n",
              "      <td>10.0</td>\n",
              "      <td>2</td>\n",
              "      <td>57</td>\n",
              "      <td>1</td>\n",
              "      <td>4</td>\n",
              "      <td>9.0</td>\n",
              "      <td>1.0</td>\n",
              "      <td>3</td>\n",
              "      <td>0.7516</td>\n",
              "      <td>0.7075</td>\n",
              "      <td>3.000000</td>\n",
              "      <td>4</td>\n",
              "      <td>8</td>\n",
              "      <td>3</td>\n",
              "      <td>8.0</td>\n",
              "      <td>43</td>\n",
              "      <td>29.675507</td>\n",
              "      <td>2</td>\n",
              "      <td>0</td>\n",
              "      <td>0.180788</td>\n",
              "      <td>0.186799</td>\n",
              "      <td>0.186217</td>\n",
              "      <td>0.185005</td>\n",
              "      <td>0.191891</td>\n",
              "      <td>0.184741</td>\n",
              "    </tr>\n",
              "    <tr>\n",
              "      <th>9997</th>\n",
              "      <td>60.000000</td>\n",
              "      <td>4</td>\n",
              "      <td>35.0</td>\n",
              "      <td>1</td>\n",
              "      <td>69</td>\n",
              "      <td>0</td>\n",
              "      <td>2</td>\n",
              "      <td>9.0</td>\n",
              "      <td>3.0</td>\n",
              "      <td>3</td>\n",
              "      <td>-1.8176</td>\n",
              "      <td>-0.4537</td>\n",
              "      <td>1.895976</td>\n",
              "      <td>4</td>\n",
              "      <td>8</td>\n",
              "      <td>4</td>\n",
              "      <td>34.0</td>\n",
              "      <td>31</td>\n",
              "      <td>25.000000</td>\n",
              "      <td>3</td>\n",
              "      <td>0</td>\n",
              "      <td>0.180788</td>\n",
              "      <td>0.186799</td>\n",
              "      <td>0.183324</td>\n",
              "      <td>0.174740</td>\n",
              "      <td>0.188214</td>\n",
              "      <td>0.182250</td>\n",
              "    </tr>\n",
              "    <tr>\n",
              "      <th>9998</th>\n",
              "      <td>51.000000</td>\n",
              "      <td>1</td>\n",
              "      <td>23.0</td>\n",
              "      <td>1</td>\n",
              "      <td>30</td>\n",
              "      <td>0</td>\n",
              "      <td>2</td>\n",
              "      <td>6.0</td>\n",
              "      <td>1.0</td>\n",
              "      <td>5</td>\n",
              "      <td>0.7516</td>\n",
              "      <td>-0.4537</td>\n",
              "      <td>2.000000</td>\n",
              "      <td>3</td>\n",
              "      <td>9</td>\n",
              "      <td>2</td>\n",
              "      <td>22.0</td>\n",
              "      <td>70</td>\n",
              "      <td>28.000000</td>\n",
              "      <td>3</td>\n",
              "      <td>0</td>\n",
              "      <td>0.180788</td>\n",
              "      <td>0.185186</td>\n",
              "      <td>0.189545</td>\n",
              "      <td>0.173432</td>\n",
              "      <td>0.176078</td>\n",
              "      <td>0.182250</td>\n",
              "    </tr>\n",
              "    <tr>\n",
              "      <th>9999</th>\n",
              "      <td>45.000000</td>\n",
              "      <td>1</td>\n",
              "      <td>12.0</td>\n",
              "      <td>4</td>\n",
              "      <td>70</td>\n",
              "      <td>1</td>\n",
              "      <td>2</td>\n",
              "      <td>8.0</td>\n",
              "      <td>4.0</td>\n",
              "      <td>3</td>\n",
              "      <td>0.7516</td>\n",
              "      <td>-0.4537</td>\n",
              "      <td>2.000000</td>\n",
              "      <td>2</td>\n",
              "      <td>8</td>\n",
              "      <td>5</td>\n",
              "      <td>8.0</td>\n",
              "      <td>30</td>\n",
              "      <td>33.000000</td>\n",
              "      <td>4</td>\n",
              "      <td>0</td>\n",
              "      <td>0.180788</td>\n",
              "      <td>0.186799</td>\n",
              "      <td>0.186217</td>\n",
              "      <td>0.195780</td>\n",
              "      <td>0.186172</td>\n",
              "      <td>0.196707</td>\n",
              "    </tr>\n",
              "  </tbody>\n",
              "</table>\n",
              "<p>10000 rows × 27 columns</p>\n",
              "</div>"
            ],
            "text/plain": [
              "            Age  ...  Compensation_and_Benefits_std\n",
              "0     42.000000  ...                       0.184741\n",
              "1     24.000000  ...                       0.184741\n",
              "2     58.000000  ...                       0.184741\n",
              "3     26.000000  ...                       0.184741\n",
              "4     31.000000  ...                       0.182250\n",
              "...         ...  ...                            ...\n",
              "9995  32.000000  ...                       0.184741\n",
              "9996  39.675507  ...                       0.184741\n",
              "9997  60.000000  ...                       0.182250\n",
              "9998  51.000000  ...                       0.182250\n",
              "9999  45.000000  ...                       0.196707\n",
              "\n",
              "[10000 rows x 27 columns]"
            ]
          },
          "metadata": {
            "tags": []
          },
          "execution_count": 982
        }
      ]
    },
    {
      "cell_type": "code",
      "metadata": {
        "id": "2gH87PavNoxv",
        "colab_type": "code",
        "colab": {}
      },
      "source": [
        "trainX=data[:7000]"
      ],
      "execution_count": 983,
      "outputs": []
    },
    {
      "cell_type": "code",
      "metadata": {
        "id": "gvkel1mGkDob",
        "colab_type": "code",
        "colab": {
          "base_uri": "https://localhost:8080/",
          "height": 487
        },
        "outputId": "cb5fcbcb-f7b5-407c-938e-4437cd5e92a6"
      },
      "source": [
        "trainX.isnull().sum()"
      ],
      "execution_count": 984,
      "outputs": [
        {
          "output_type": "execute_result",
          "data": {
            "text/plain": [
              "Age                              0\n",
              "Education_Level                  0\n",
              "Time_of_service                  0\n",
              "Time_since_promotion             0\n",
              "growth_rate                      0\n",
              "Travel_Rate                      0\n",
              "Post_Level                       0\n",
              "Pay_Scale                        0\n",
              "Work_Life_balance                0\n",
              "VAR1                             0\n",
              "VAR2                             0\n",
              "VAR3                             0\n",
              "VAR4                             0\n",
              "VAR5                             0\n",
              "VAR6                             0\n",
              "VAR7                             0\n",
              "promotion_year                   0\n",
              "decay_rate                       0\n",
              "Age_of_joining                   0\n",
              "c&b                              0\n",
              "initially_promoted               0\n",
              "gender_std                       0\n",
              "Relationship_Status_std          0\n",
              "Hometown_std                     0\n",
              "Unit_std                         0\n",
              "Decision_skill_possess_std       0\n",
              "Compensation_and_Benefits_std    0\n",
              "dtype: int64"
            ]
          },
          "metadata": {
            "tags": []
          },
          "execution_count": 984
        }
      ]
    },
    {
      "cell_type": "code",
      "metadata": {
        "id": "9iCl8WpLN2XE",
        "colab_type": "code",
        "colab": {}
      },
      "source": [
        "testX=data[7000:]"
      ],
      "execution_count": 985,
      "outputs": []
    },
    {
      "cell_type": "code",
      "metadata": {
        "id": "drrLlotyN5Bv",
        "colab_type": "code",
        "colab": {
          "base_uri": "https://localhost:8080/",
          "height": 34
        },
        "outputId": "4d0e7a8e-be3f-4244-f0e6-18640a85ad7c"
      },
      "source": [
        "len(trainX),len(testX)"
      ],
      "execution_count": 986,
      "outputs": [
        {
          "output_type": "execute_result",
          "data": {
            "text/plain": [
              "(7000, 3000)"
            ]
          },
          "metadata": {
            "tags": []
          },
          "execution_count": 986
        }
      ]
    },
    {
      "cell_type": "code",
      "metadata": {
        "id": "gfjPLEYAOAJ5",
        "colab_type": "code",
        "colab": {
          "base_uri": "https://localhost:8080/",
          "height": 34
        },
        "outputId": "41e390a8-26d1-4627-8771-814ec8c9f78d"
      },
      "source": [
        "len(train),len(test)"
      ],
      "execution_count": 987,
      "outputs": [
        {
          "output_type": "execute_result",
          "data": {
            "text/plain": [
              "(7000, 3000)"
            ]
          },
          "metadata": {
            "tags": []
          },
          "execution_count": 987
        }
      ]
    },
    {
      "cell_type": "code",
      "metadata": {
        "id": "3TSxdgxtOKzj",
        "colab_type": "code",
        "colab": {}
      },
      "source": [
        "from sklearn.preprocessing import StandardScaler\n",
        "scaler=StandardScaler()\n",
        "df=scaler.fit_transform(trainX)\n",
        "trainXX=pd.DataFrame(df,columns=trainX.columns)"
      ],
      "execution_count": 988,
      "outputs": []
    },
    {
      "cell_type": "code",
      "metadata": {
        "id": "q3sucudbOi-j",
        "colab_type": "code",
        "colab": {
          "base_uri": "https://localhost:8080/",
          "height": 422
        },
        "outputId": "38a0fee8-0156-43c5-f052-dab3ad400477"
      },
      "source": [
        "trainXX"
      ],
      "execution_count": 989,
      "outputs": [
        {
          "output_type": "execute_result",
          "data": {
            "text/html": [
              "<div>\n",
              "<style scoped>\n",
              "    .dataframe tbody tr th:only-of-type {\n",
              "        vertical-align: middle;\n",
              "    }\n",
              "\n",
              "    .dataframe tbody tr th {\n",
              "        vertical-align: top;\n",
              "    }\n",
              "\n",
              "    .dataframe thead th {\n",
              "        text-align: right;\n",
              "    }\n",
              "</style>\n",
              "<table border=\"1\" class=\"dataframe\">\n",
              "  <thead>\n",
              "    <tr style=\"text-align: right;\">\n",
              "      <th></th>\n",
              "      <th>Age</th>\n",
              "      <th>Education_Level</th>\n",
              "      <th>Time_of_service</th>\n",
              "      <th>Time_since_promotion</th>\n",
              "      <th>growth_rate</th>\n",
              "      <th>Travel_Rate</th>\n",
              "      <th>Post_Level</th>\n",
              "      <th>Pay_Scale</th>\n",
              "      <th>Work_Life_balance</th>\n",
              "      <th>VAR1</th>\n",
              "      <th>VAR2</th>\n",
              "      <th>VAR3</th>\n",
              "      <th>VAR4</th>\n",
              "      <th>VAR5</th>\n",
              "      <th>VAR6</th>\n",
              "      <th>VAR7</th>\n",
              "      <th>promotion_year</th>\n",
              "      <th>decay_rate</th>\n",
              "      <th>Age_of_joining</th>\n",
              "      <th>c&amp;b</th>\n",
              "      <th>initially_promoted</th>\n",
              "      <th>gender_std</th>\n",
              "      <th>Relationship_Status_std</th>\n",
              "      <th>Hometown_std</th>\n",
              "      <th>Unit_std</th>\n",
              "      <th>Decision_skill_possess_std</th>\n",
              "      <th>Compensation_and_Benefits_std</th>\n",
              "    </tr>\n",
              "  </thead>\n",
              "  <tbody>\n",
              "    <tr>\n",
              "      <th>0</th>\n",
              "      <td>0.179864</td>\n",
              "      <td>0.762557</td>\n",
              "      <td>-0.915066</td>\n",
              "      <td>1.420724</td>\n",
              "      <td>-0.892388</td>\n",
              "      <td>0.281016</td>\n",
              "      <td>-1.545154</td>\n",
              "      <td>0.483097</td>\n",
              "      <td>0.546126</td>\n",
              "      <td>1.077855</td>\n",
              "      <td>0.800371</td>\n",
              "      <td>1.907466</td>\n",
              "      <td>0.215226</td>\n",
              "      <td>1.241756</td>\n",
              "      <td>-1.804951</td>\n",
              "      <td>-0.277762</td>\n",
              "      <td>-1.083990</td>\n",
              "      <td>0.892388</td>\n",
              "      <td>1.854061</td>\n",
              "      <td>-0.505559</td>\n",
              "      <td>2.726488</td>\n",
              "      <td>-0.837560</td>\n",
              "      <td>-0.740724</td>\n",
              "      <td>0.123843</td>\n",
              "      <td>-1.150268</td>\n",
              "      <td>1.073022</td>\n",
              "      <td>-0.143552</td>\n",
              "    </tr>\n",
              "    <tr>\n",
              "      <th>1</th>\n",
              "      <td>-1.183832</td>\n",
              "      <td>-0.176387</td>\n",
              "      <td>-0.817565</td>\n",
              "      <td>1.420724</td>\n",
              "      <td>-0.702036</td>\n",
              "      <td>-1.261816</td>\n",
              "      <td>0.173594</td>\n",
              "      <td>-0.003056</td>\n",
              "      <td>1.437448</td>\n",
              "      <td>-0.117864</td>\n",
              "      <td>-1.006176</td>\n",
              "      <td>-0.445952</td>\n",
              "      <td>0.215226</td>\n",
              "      <td>0.176655</td>\n",
              "      <td>-1.804951</td>\n",
              "      <td>-0.277762</td>\n",
              "      <td>-0.985606</td>\n",
              "      <td>0.702036</td>\n",
              "      <td>-1.141630</td>\n",
              "      <td>-0.505559</td>\n",
              "      <td>-0.366772</td>\n",
              "      <td>1.193944</td>\n",
              "      <td>1.350030</td>\n",
              "      <td>1.001367</td>\n",
              "      <td>-1.025557</td>\n",
              "      <td>0.444293</td>\n",
              "      <td>-0.143552</td>\n",
              "    </tr>\n",
              "    <tr>\n",
              "      <th>2</th>\n",
              "      <td>1.392038</td>\n",
              "      <td>-0.176387</td>\n",
              "      <td>1.327461</td>\n",
              "      <td>0.550639</td>\n",
              "      <td>0.249724</td>\n",
              "      <td>-1.261816</td>\n",
              "      <td>-0.685780</td>\n",
              "      <td>0.969251</td>\n",
              "      <td>-1.236519</td>\n",
              "      <td>1.077855</td>\n",
              "      <td>-1.006176</td>\n",
              "      <td>-0.445952</td>\n",
              "      <td>2.199555</td>\n",
              "      <td>0.176655</td>\n",
              "      <td>0.771973</td>\n",
              "      <td>-0.277762</td>\n",
              "      <td>1.277207</td>\n",
              "      <td>-0.249724</td>\n",
              "      <td>0.750385</td>\n",
              "      <td>-0.505559</td>\n",
              "      <td>-0.366772</td>\n",
              "      <td>-0.837560</td>\n",
              "      <td>-0.740724</td>\n",
              "      <td>1.849054</td>\n",
              "      <td>-1.183341</td>\n",
              "      <td>1.073022</td>\n",
              "      <td>-0.143552</td>\n",
              "    </tr>\n",
              "    <tr>\n",
              "      <th>3</th>\n",
              "      <td>-1.032311</td>\n",
              "      <td>-0.176387</td>\n",
              "      <td>-0.915066</td>\n",
              "      <td>0.550639</td>\n",
              "      <td>0.566977</td>\n",
              "      <td>0.281016</td>\n",
              "      <td>0.173594</td>\n",
              "      <td>0.969251</td>\n",
              "      <td>-1.236519</td>\n",
              "      <td>-0.117864</td>\n",
              "      <td>-1.909449</td>\n",
              "      <td>-0.445952</td>\n",
              "      <td>0.008808</td>\n",
              "      <td>0.176655</td>\n",
              "      <td>-0.087002</td>\n",
              "      <td>-0.277762</td>\n",
              "      <td>-0.985606</td>\n",
              "      <td>-0.566977</td>\n",
              "      <td>-0.668626</td>\n",
              "      <td>-0.505559</td>\n",
              "      <td>-0.366772</td>\n",
              "      <td>-0.837560</td>\n",
              "      <td>1.350030</td>\n",
              "      <td>-0.638878</td>\n",
              "      <td>0.054179</td>\n",
              "      <td>-1.630619</td>\n",
              "      <td>-0.143552</td>\n",
              "    </tr>\n",
              "    <tr>\n",
              "      <th>4</th>\n",
              "      <td>-0.653506</td>\n",
              "      <td>-2.054275</td>\n",
              "      <td>-0.817565</td>\n",
              "      <td>1.420724</td>\n",
              "      <td>0.947681</td>\n",
              "      <td>0.281016</td>\n",
              "      <td>0.173594</td>\n",
              "      <td>-1.947669</td>\n",
              "      <td>0.546126</td>\n",
              "      <td>-2.509301</td>\n",
              "      <td>0.800371</td>\n",
              "      <td>-0.445952</td>\n",
              "      <td>0.215226</td>\n",
              "      <td>-0.888447</td>\n",
              "      <td>0.771973</td>\n",
              "      <td>-1.358547</td>\n",
              "      <td>-0.985606</td>\n",
              "      <td>-0.947681</td>\n",
              "      <td>-0.037954</td>\n",
              "      <td>0.865582</td>\n",
              "      <td>-0.366772</td>\n",
              "      <td>-0.837560</td>\n",
              "      <td>-0.740724</td>\n",
              "      <td>1.001367</td>\n",
              "      <td>-1.025557</td>\n",
              "      <td>1.073022</td>\n",
              "      <td>-0.551215</td>\n",
              "    </tr>\n",
              "    <tr>\n",
              "      <th>...</th>\n",
              "      <td>...</td>\n",
              "      <td>...</td>\n",
              "      <td>...</td>\n",
              "      <td>...</td>\n",
              "      <td>...</td>\n",
              "      <td>...</td>\n",
              "      <td>...</td>\n",
              "      <td>...</td>\n",
              "      <td>...</td>\n",
              "      <td>...</td>\n",
              "      <td>...</td>\n",
              "      <td>...</td>\n",
              "      <td>...</td>\n",
              "      <td>...</td>\n",
              "      <td>...</td>\n",
              "      <td>...</td>\n",
              "      <td>...</td>\n",
              "      <td>...</td>\n",
              "      <td>...</td>\n",
              "      <td>...</td>\n",
              "      <td>...</td>\n",
              "      <td>...</td>\n",
              "      <td>...</td>\n",
              "      <td>...</td>\n",
              "      <td>...</td>\n",
              "      <td>...</td>\n",
              "      <td>...</td>\n",
              "    </tr>\n",
              "    <tr>\n",
              "      <th>6995</th>\n",
              "      <td>-1.259593</td>\n",
              "      <td>1.701500</td>\n",
              "      <td>-0.915066</td>\n",
              "      <td>-1.189530</td>\n",
              "      <td>-1.717246</td>\n",
              "      <td>0.281016</td>\n",
              "      <td>-0.685780</td>\n",
              "      <td>-0.003056</td>\n",
              "      <td>0.546126</td>\n",
              "      <td>-2.509301</td>\n",
              "      <td>0.800371</td>\n",
              "      <td>-0.445952</td>\n",
              "      <td>0.215226</td>\n",
              "      <td>0.176655</td>\n",
              "      <td>-0.087002</td>\n",
              "      <td>-0.277762</td>\n",
              "      <td>-0.788840</td>\n",
              "      <td>1.717246</td>\n",
              "      <td>-1.141630</td>\n",
              "      <td>0.865582</td>\n",
              "      <td>-0.366772</td>\n",
              "      <td>-0.837560</td>\n",
              "      <td>-0.740724</td>\n",
              "      <td>0.123843</td>\n",
              "      <td>1.147202</td>\n",
              "      <td>-1.630619</td>\n",
              "      <td>-0.551215</td>\n",
              "    </tr>\n",
              "    <tr>\n",
              "      <th>6996</th>\n",
              "      <td>0.331386</td>\n",
              "      <td>-2.054275</td>\n",
              "      <td>0.254948</td>\n",
              "      <td>-0.319445</td>\n",
              "      <td>0.757329</td>\n",
              "      <td>-1.261816</td>\n",
              "      <td>-0.685780</td>\n",
              "      <td>-0.975362</td>\n",
              "      <td>0.546126</td>\n",
              "      <td>-1.313582</td>\n",
              "      <td>-0.102902</td>\n",
              "      <td>-2.799371</td>\n",
              "      <td>0.215226</td>\n",
              "      <td>1.241756</td>\n",
              "      <td>0.771973</td>\n",
              "      <td>0.803023</td>\n",
              "      <td>0.293375</td>\n",
              "      <td>-0.757329</td>\n",
              "      <td>0.277382</td>\n",
              "      <td>0.865582</td>\n",
              "      <td>-0.366772</td>\n",
              "      <td>-0.837560</td>\n",
              "      <td>-0.740724</td>\n",
              "      <td>-0.638878</td>\n",
              "      <td>1.450476</td>\n",
              "      <td>0.444293</td>\n",
              "      <td>-0.551215</td>\n",
              "    </tr>\n",
              "    <tr>\n",
              "      <th>6997</th>\n",
              "      <td>0.710190</td>\n",
              "      <td>-0.176387</td>\n",
              "      <td>-0.330059</td>\n",
              "      <td>-1.189530</td>\n",
              "      <td>0.757329</td>\n",
              "      <td>0.281016</td>\n",
              "      <td>-0.685780</td>\n",
              "      <td>-1.461516</td>\n",
              "      <td>1.437448</td>\n",
              "      <td>-1.313582</td>\n",
              "      <td>-0.102902</td>\n",
              "      <td>-0.445952</td>\n",
              "      <td>0.215226</td>\n",
              "      <td>1.241756</td>\n",
              "      <td>0.771973</td>\n",
              "      <td>-0.277762</td>\n",
              "      <td>-0.198541</td>\n",
              "      <td>-0.757329</td>\n",
              "      <td>2.011729</td>\n",
              "      <td>-0.505559</td>\n",
              "      <td>-0.366772</td>\n",
              "      <td>-0.837560</td>\n",
              "      <td>1.350030</td>\n",
              "      <td>1.001367</td>\n",
              "      <td>-1.150268</td>\n",
              "      <td>0.095148</td>\n",
              "      <td>-0.143552</td>\n",
              "    </tr>\n",
              "    <tr>\n",
              "      <th>6998</th>\n",
              "      <td>0.558668</td>\n",
              "      <td>-0.176387</td>\n",
              "      <td>1.034958</td>\n",
              "      <td>-1.189530</td>\n",
              "      <td>-1.653796</td>\n",
              "      <td>0.281016</td>\n",
              "      <td>1.892341</td>\n",
              "      <td>0.969251</td>\n",
              "      <td>-0.345196</td>\n",
              "      <td>1.077855</td>\n",
              "      <td>0.800371</td>\n",
              "      <td>1.907466</td>\n",
              "      <td>0.215226</td>\n",
              "      <td>0.176655</td>\n",
              "      <td>-0.945976</td>\n",
              "      <td>-0.277762</td>\n",
              "      <td>1.178824</td>\n",
              "      <td>1.653796</td>\n",
              "      <td>-0.510958</td>\n",
              "      <td>-3.247842</td>\n",
              "      <td>-0.366772</td>\n",
              "      <td>-0.837560</td>\n",
              "      <td>-0.740724</td>\n",
              "      <td>-1.491160</td>\n",
              "      <td>0.981594</td>\n",
              "      <td>-1.630619</td>\n",
              "      <td>4.597803</td>\n",
              "    </tr>\n",
              "    <tr>\n",
              "      <th>6999</th>\n",
              "      <td>1.392038</td>\n",
              "      <td>-0.176387</td>\n",
              "      <td>0.839955</td>\n",
              "      <td>-0.319445</td>\n",
              "      <td>1.709089</td>\n",
              "      <td>-1.261816</td>\n",
              "      <td>1.032967</td>\n",
              "      <td>-0.489209</td>\n",
              "      <td>0.546126</td>\n",
              "      <td>-0.117864</td>\n",
              "      <td>-0.102902</td>\n",
              "      <td>-1.622712</td>\n",
              "      <td>2.199555</td>\n",
              "      <td>1.241756</td>\n",
              "      <td>-1.804951</td>\n",
              "      <td>-0.277762</td>\n",
              "      <td>0.883674</td>\n",
              "      <td>-1.709089</td>\n",
              "      <td>1.538725</td>\n",
              "      <td>-0.505559</td>\n",
              "      <td>-0.366772</td>\n",
              "      <td>-0.837560</td>\n",
              "      <td>-0.740724</td>\n",
              "      <td>0.123843</td>\n",
              "      <td>-1.150268</td>\n",
              "      <td>0.095148</td>\n",
              "      <td>-0.143552</td>\n",
              "    </tr>\n",
              "  </tbody>\n",
              "</table>\n",
              "<p>7000 rows × 27 columns</p>\n",
              "</div>"
            ],
            "text/plain": [
              "           Age  ...  Compensation_and_Benefits_std\n",
              "0     0.179864  ...                      -0.143552\n",
              "1    -1.183832  ...                      -0.143552\n",
              "2     1.392038  ...                      -0.143552\n",
              "3    -1.032311  ...                      -0.143552\n",
              "4    -0.653506  ...                      -0.551215\n",
              "...        ...  ...                            ...\n",
              "6995 -1.259593  ...                      -0.551215\n",
              "6996  0.331386  ...                      -0.551215\n",
              "6997  0.710190  ...                      -0.143552\n",
              "6998  0.558668  ...                       4.597803\n",
              "6999  1.392038  ...                      -0.143552\n",
              "\n",
              "[7000 rows x 27 columns]"
            ]
          },
          "metadata": {
            "tags": []
          },
          "execution_count": 989
        }
      ]
    },
    {
      "cell_type": "code",
      "metadata": {
        "id": "7iyeL5wHOkBn",
        "colab_type": "code",
        "colab": {}
      },
      "source": [
        "dft=scaler.transform(testX)\n",
        "testXX=pd.DataFrame(dft,columns=testX.columns)"
      ],
      "execution_count": 990,
      "outputs": []
    },
    {
      "cell_type": "code",
      "metadata": {
        "id": "dfOzcK0HOy13",
        "colab_type": "code",
        "colab": {
          "base_uri": "https://localhost:8080/",
          "height": 422
        },
        "outputId": "17821227-cbad-4edd-dd43-ead6720095af"
      },
      "source": [
        "testXX"
      ],
      "execution_count": 991,
      "outputs": [
        {
          "output_type": "execute_result",
          "data": {
            "text/html": [
              "<div>\n",
              "<style scoped>\n",
              "    .dataframe tbody tr th:only-of-type {\n",
              "        vertical-align: middle;\n",
              "    }\n",
              "\n",
              "    .dataframe tbody tr th {\n",
              "        vertical-align: top;\n",
              "    }\n",
              "\n",
              "    .dataframe thead th {\n",
              "        text-align: right;\n",
              "    }\n",
              "</style>\n",
              "<table border=\"1\" class=\"dataframe\">\n",
              "  <thead>\n",
              "    <tr style=\"text-align: right;\">\n",
              "      <th></th>\n",
              "      <th>Age</th>\n",
              "      <th>Education_Level</th>\n",
              "      <th>Time_of_service</th>\n",
              "      <th>Time_since_promotion</th>\n",
              "      <th>growth_rate</th>\n",
              "      <th>Travel_Rate</th>\n",
              "      <th>Post_Level</th>\n",
              "      <th>Pay_Scale</th>\n",
              "      <th>Work_Life_balance</th>\n",
              "      <th>VAR1</th>\n",
              "      <th>VAR2</th>\n",
              "      <th>VAR3</th>\n",
              "      <th>VAR4</th>\n",
              "      <th>VAR5</th>\n",
              "      <th>VAR6</th>\n",
              "      <th>VAR7</th>\n",
              "      <th>promotion_year</th>\n",
              "      <th>decay_rate</th>\n",
              "      <th>Age_of_joining</th>\n",
              "      <th>c&amp;b</th>\n",
              "      <th>initially_promoted</th>\n",
              "      <th>gender_std</th>\n",
              "      <th>Relationship_Status_std</th>\n",
              "      <th>Hometown_std</th>\n",
              "      <th>Unit_std</th>\n",
              "      <th>Decision_skill_possess_std</th>\n",
              "      <th>Compensation_and_Benefits_std</th>\n",
              "    </tr>\n",
              "  </thead>\n",
              "  <tbody>\n",
              "    <tr>\n",
              "      <th>0</th>\n",
              "      <td>-0.577745</td>\n",
              "      <td>1.701500</td>\n",
              "      <td>-0.622563</td>\n",
              "      <td>1.420724</td>\n",
              "      <td>-1.082740</td>\n",
              "      <td>0.281016</td>\n",
              "      <td>1.892341</td>\n",
              "      <td>-0.975362</td>\n",
              "      <td>-1.236519</td>\n",
              "      <td>-0.117864</td>\n",
              "      <td>-1.006176</td>\n",
              "      <td>-0.445952</td>\n",
              "      <td>0.215226</td>\n",
              "      <td>-1.953548</td>\n",
              "      <td>0.771973</td>\n",
              "      <td>0.803023</td>\n",
              "      <td>-0.788840</td>\n",
              "      <td>1.082740</td>\n",
              "      <td>-0.195622</td>\n",
              "      <td>-0.505559</td>\n",
              "      <td>-0.366772</td>\n",
              "      <td>-0.837560</td>\n",
              "      <td>1.350030</td>\n",
              "      <td>1.001367</td>\n",
              "      <td>1.450476</td>\n",
              "      <td>1.073022</td>\n",
              "      <td>-0.143552</td>\n",
              "    </tr>\n",
              "    <tr>\n",
              "      <th>1</th>\n",
              "      <td>1.922365</td>\n",
              "      <td>-1.115331</td>\n",
              "      <td>2.692478</td>\n",
              "      <td>-0.319445</td>\n",
              "      <td>1.582187</td>\n",
              "      <td>0.281016</td>\n",
              "      <td>-1.545154</td>\n",
              "      <td>-2.433822</td>\n",
              "      <td>-1.236519</td>\n",
              "      <td>1.077855</td>\n",
              "      <td>-1.006176</td>\n",
              "      <td>0.730706</td>\n",
              "      <td>-1.769103</td>\n",
              "      <td>-0.888447</td>\n",
              "      <td>0.771973</td>\n",
              "      <td>-1.358547</td>\n",
              "      <td>2.752955</td>\n",
              "      <td>-1.582187</td>\n",
              "      <td>-0.353290</td>\n",
              "      <td>-0.505559</td>\n",
              "      <td>-0.366772</td>\n",
              "      <td>1.193944</td>\n",
              "      <td>1.350030</td>\n",
              "      <td>-0.638878</td>\n",
              "      <td>-1.150268</td>\n",
              "      <td>0.095148</td>\n",
              "      <td>-0.143552</td>\n",
              "    </tr>\n",
              "    <tr>\n",
              "      <th>2</th>\n",
              "      <td>0.937473</td>\n",
              "      <td>-0.176387</td>\n",
              "      <td>0.742454</td>\n",
              "      <td>0.550639</td>\n",
              "      <td>-1.399993</td>\n",
              "      <td>-1.261816</td>\n",
              "      <td>-1.545154</td>\n",
              "      <td>0.969251</td>\n",
              "      <td>-1.236519</td>\n",
              "      <td>1.077855</td>\n",
              "      <td>-0.102902</td>\n",
              "      <td>0.730706</td>\n",
              "      <td>0.215226</td>\n",
              "      <td>-1.953548</td>\n",
              "      <td>1.630947</td>\n",
              "      <td>-0.277762</td>\n",
              "      <td>0.686908</td>\n",
              "      <td>1.399993</td>\n",
              "      <td>0.750385</td>\n",
              "      <td>0.865582</td>\n",
              "      <td>-0.366772</td>\n",
              "      <td>1.193944</td>\n",
              "      <td>-0.740724</td>\n",
              "      <td>1.001367</td>\n",
              "      <td>0.981594</td>\n",
              "      <td>0.095148</td>\n",
              "      <td>-0.551215</td>\n",
              "    </tr>\n",
              "    <tr>\n",
              "      <th>3</th>\n",
              "      <td>0.785951</td>\n",
              "      <td>1.701500</td>\n",
              "      <td>-0.232558</td>\n",
              "      <td>1.420724</td>\n",
              "      <td>-1.209641</td>\n",
              "      <td>0.281016</td>\n",
              "      <td>-1.545154</td>\n",
              "      <td>-1.947669</td>\n",
              "      <td>1.437448</td>\n",
              "      <td>-0.117864</td>\n",
              "      <td>-0.102902</td>\n",
              "      <td>0.730706</td>\n",
              "      <td>0.215226</td>\n",
              "      <td>-0.888447</td>\n",
              "      <td>0.771973</td>\n",
              "      <td>-0.277762</td>\n",
              "      <td>-0.395307</td>\n",
              "      <td>1.209641</td>\n",
              "      <td>2.011729</td>\n",
              "      <td>-3.247842</td>\n",
              "      <td>-0.366772</td>\n",
              "      <td>1.193944</td>\n",
              "      <td>1.350030</td>\n",
              "      <td>-1.491160</td>\n",
              "      <td>-0.046253</td>\n",
              "      <td>0.444293</td>\n",
              "      <td>4.597803</td>\n",
              "    </tr>\n",
              "    <tr>\n",
              "      <th>4</th>\n",
              "      <td>0.331386</td>\n",
              "      <td>-0.176387</td>\n",
              "      <td>-0.135057</td>\n",
              "      <td>1.420724</td>\n",
              "      <td>-0.004079</td>\n",
              "      <td>0.281016</td>\n",
              "      <td>0.173594</td>\n",
              "      <td>-1.947669</td>\n",
              "      <td>1.437448</td>\n",
              "      <td>1.077855</td>\n",
              "      <td>1.703749</td>\n",
              "      <td>0.730706</td>\n",
              "      <td>0.215226</td>\n",
              "      <td>-0.888447</td>\n",
              "      <td>-0.087002</td>\n",
              "      <td>0.803023</td>\n",
              "      <td>-0.296924</td>\n",
              "      <td>0.004079</td>\n",
              "      <td>0.908053</td>\n",
              "      <td>-0.505559</td>\n",
              "      <td>-0.366772</td>\n",
              "      <td>-0.837560</td>\n",
              "      <td>-0.740724</td>\n",
              "      <td>0.123843</td>\n",
              "      <td>1.450476</td>\n",
              "      <td>1.073022</td>\n",
              "      <td>-0.143552</td>\n",
              "    </tr>\n",
              "    <tr>\n",
              "      <th>...</th>\n",
              "      <td>...</td>\n",
              "      <td>...</td>\n",
              "      <td>...</td>\n",
              "      <td>...</td>\n",
              "      <td>...</td>\n",
              "      <td>...</td>\n",
              "      <td>...</td>\n",
              "      <td>...</td>\n",
              "      <td>...</td>\n",
              "      <td>...</td>\n",
              "      <td>...</td>\n",
              "      <td>...</td>\n",
              "      <td>...</td>\n",
              "      <td>...</td>\n",
              "      <td>...</td>\n",
              "      <td>...</td>\n",
              "      <td>...</td>\n",
              "      <td>...</td>\n",
              "      <td>...</td>\n",
              "      <td>...</td>\n",
              "      <td>...</td>\n",
              "      <td>...</td>\n",
              "      <td>...</td>\n",
              "      <td>...</td>\n",
              "      <td>...</td>\n",
              "      <td>...</td>\n",
              "      <td>...</td>\n",
              "    </tr>\n",
              "    <tr>\n",
              "      <th>2995</th>\n",
              "      <td>-0.577745</td>\n",
              "      <td>-0.176387</td>\n",
              "      <td>-1.012568</td>\n",
              "      <td>0.550639</td>\n",
              "      <td>-0.575135</td>\n",
              "      <td>0.281016</td>\n",
              "      <td>0.173594</td>\n",
              "      <td>-0.003056</td>\n",
              "      <td>-0.345196</td>\n",
              "      <td>-2.509301</td>\n",
              "      <td>-0.102902</td>\n",
              "      <td>0.730706</td>\n",
              "      <td>-1.769103</td>\n",
              "      <td>1.241756</td>\n",
              "      <td>-0.087002</td>\n",
              "      <td>0.803023</td>\n",
              "      <td>-1.083990</td>\n",
              "      <td>0.575135</td>\n",
              "      <td>0.435050</td>\n",
              "      <td>-0.505559</td>\n",
              "      <td>2.726488</td>\n",
              "      <td>-0.837560</td>\n",
              "      <td>1.350030</td>\n",
              "      <td>0.123843</td>\n",
              "      <td>0.981594</td>\n",
              "      <td>0.095148</td>\n",
              "      <td>-0.143552</td>\n",
              "    </tr>\n",
              "    <tr>\n",
              "      <th>2996</th>\n",
              "      <td>0.003758</td>\n",
              "      <td>-1.115331</td>\n",
              "      <td>-0.330059</td>\n",
              "      <td>-0.319445</td>\n",
              "      <td>0.630428</td>\n",
              "      <td>0.281016</td>\n",
              "      <td>1.032967</td>\n",
              "      <td>1.455404</td>\n",
              "      <td>-1.236519</td>\n",
              "      <td>-0.117864</td>\n",
              "      <td>0.800371</td>\n",
              "      <td>0.730706</td>\n",
              "      <td>2.199555</td>\n",
              "      <td>1.241756</td>\n",
              "      <td>0.771973</td>\n",
              "      <td>-0.277762</td>\n",
              "      <td>-0.296924</td>\n",
              "      <td>-0.630428</td>\n",
              "      <td>0.541555</td>\n",
              "      <td>-0.505559</td>\n",
              "      <td>-0.366772</td>\n",
              "      <td>-0.837560</td>\n",
              "      <td>1.350030</td>\n",
              "      <td>0.123843</td>\n",
              "      <td>-0.046253</td>\n",
              "      <td>1.073022</td>\n",
              "      <td>-0.143552</td>\n",
              "    </tr>\n",
              "    <tr>\n",
              "      <th>2997</th>\n",
              "      <td>1.543560</td>\n",
              "      <td>0.762557</td>\n",
              "      <td>2.107471</td>\n",
              "      <td>-1.189530</td>\n",
              "      <td>1.391835</td>\n",
              "      <td>-1.261816</td>\n",
              "      <td>-0.685780</td>\n",
              "      <td>1.455404</td>\n",
              "      <td>0.546126</td>\n",
              "      <td>-0.117864</td>\n",
              "      <td>-1.909449</td>\n",
              "      <td>-0.445952</td>\n",
              "      <td>0.008808</td>\n",
              "      <td>1.241756</td>\n",
              "      <td>0.771973</td>\n",
              "      <td>0.803023</td>\n",
              "      <td>2.261039</td>\n",
              "      <td>-1.391835</td>\n",
              "      <td>-0.195622</td>\n",
              "      <td>0.865582</td>\n",
              "      <td>-0.366772</td>\n",
              "      <td>-0.837560</td>\n",
              "      <td>1.350030</td>\n",
              "      <td>-0.638878</td>\n",
              "      <td>-1.025557</td>\n",
              "      <td>0.444293</td>\n",
              "      <td>-0.551215</td>\n",
              "    </tr>\n",
              "    <tr>\n",
              "      <th>2998</th>\n",
              "      <td>0.861712</td>\n",
              "      <td>-2.054275</td>\n",
              "      <td>0.937457</td>\n",
              "      <td>-1.189530</td>\n",
              "      <td>-1.082740</td>\n",
              "      <td>-1.261816</td>\n",
              "      <td>-0.685780</td>\n",
              "      <td>-0.003056</td>\n",
              "      <td>-1.236519</td>\n",
              "      <td>2.273573</td>\n",
              "      <td>0.800371</td>\n",
              "      <td>-0.445952</td>\n",
              "      <td>0.215226</td>\n",
              "      <td>0.176655</td>\n",
              "      <td>1.630947</td>\n",
              "      <td>-1.358547</td>\n",
              "      <td>1.080441</td>\n",
              "      <td>1.082740</td>\n",
              "      <td>0.277382</td>\n",
              "      <td>0.865582</td>\n",
              "      <td>-0.366772</td>\n",
              "      <td>-0.837560</td>\n",
              "      <td>-0.740724</td>\n",
              "      <td>1.001367</td>\n",
              "      <td>-1.150268</td>\n",
              "      <td>-1.630619</td>\n",
              "      <td>-0.551215</td>\n",
              "    </tr>\n",
              "    <tr>\n",
              "      <th>2999</th>\n",
              "      <td>0.407147</td>\n",
              "      <td>-2.054275</td>\n",
              "      <td>-0.135057</td>\n",
              "      <td>1.420724</td>\n",
              "      <td>1.455286</td>\n",
              "      <td>0.281016</td>\n",
              "      <td>-0.685780</td>\n",
              "      <td>0.969251</td>\n",
              "      <td>1.437448</td>\n",
              "      <td>-0.117864</td>\n",
              "      <td>0.800371</td>\n",
              "      <td>-0.445952</td>\n",
              "      <td>0.215226</td>\n",
              "      <td>-0.888447</td>\n",
              "      <td>0.771973</td>\n",
              "      <td>1.883808</td>\n",
              "      <td>-0.296924</td>\n",
              "      <td>-1.455286</td>\n",
              "      <td>1.065721</td>\n",
              "      <td>2.236723</td>\n",
              "      <td>-0.366772</td>\n",
              "      <td>-0.837560</td>\n",
              "      <td>1.350030</td>\n",
              "      <td>0.123843</td>\n",
              "      <td>0.981594</td>\n",
              "      <td>0.095148</td>\n",
              "      <td>1.815054</td>\n",
              "    </tr>\n",
              "  </tbody>\n",
              "</table>\n",
              "<p>3000 rows × 27 columns</p>\n",
              "</div>"
            ],
            "text/plain": [
              "           Age  ...  Compensation_and_Benefits_std\n",
              "0    -0.577745  ...                      -0.143552\n",
              "1     1.922365  ...                      -0.143552\n",
              "2     0.937473  ...                      -0.551215\n",
              "3     0.785951  ...                       4.597803\n",
              "4     0.331386  ...                      -0.143552\n",
              "...        ...  ...                            ...\n",
              "2995 -0.577745  ...                      -0.143552\n",
              "2996  0.003758  ...                      -0.143552\n",
              "2997  1.543560  ...                      -0.551215\n",
              "2998  0.861712  ...                      -0.551215\n",
              "2999  0.407147  ...                       1.815054\n",
              "\n",
              "[3000 rows x 27 columns]"
            ]
          },
          "metadata": {
            "tags": []
          },
          "execution_count": 991
        }
      ]
    },
    {
      "cell_type": "code",
      "metadata": {
        "id": "6bHUGhwm6icQ",
        "colab_type": "code",
        "colab": {
          "base_uri": "https://localhost:8080/",
          "height": 487
        },
        "outputId": "ee622ac2-f9d1-4704-a918-7f4538586faf"
      },
      "source": [
        "trainXX.isnull().sum()"
      ],
      "execution_count": 992,
      "outputs": [
        {
          "output_type": "execute_result",
          "data": {
            "text/plain": [
              "Age                              0\n",
              "Education_Level                  0\n",
              "Time_of_service                  0\n",
              "Time_since_promotion             0\n",
              "growth_rate                      0\n",
              "Travel_Rate                      0\n",
              "Post_Level                       0\n",
              "Pay_Scale                        0\n",
              "Work_Life_balance                0\n",
              "VAR1                             0\n",
              "VAR2                             0\n",
              "VAR3                             0\n",
              "VAR4                             0\n",
              "VAR5                             0\n",
              "VAR6                             0\n",
              "VAR7                             0\n",
              "promotion_year                   0\n",
              "decay_rate                       0\n",
              "Age_of_joining                   0\n",
              "c&b                              0\n",
              "initially_promoted               0\n",
              "gender_std                       0\n",
              "Relationship_Status_std          0\n",
              "Hometown_std                     0\n",
              "Unit_std                         0\n",
              "Decision_skill_possess_std       0\n",
              "Compensation_and_Benefits_std    0\n",
              "dtype: int64"
            ]
          },
          "metadata": {
            "tags": []
          },
          "execution_count": 992
        }
      ]
    },
    {
      "cell_type": "code",
      "metadata": {
        "id": "LekUaDzq7hje",
        "colab_type": "code",
        "colab": {
          "base_uri": "https://localhost:8080/",
          "height": 34
        },
        "outputId": "62aa59f1-a09c-4d5a-8642-d3abfa0763b9"
      },
      "source": [
        "len(target)"
      ],
      "execution_count": 993,
      "outputs": [
        {
          "output_type": "execute_result",
          "data": {
            "text/plain": [
              "7000"
            ]
          },
          "metadata": {
            "tags": []
          },
          "execution_count": 993
        }
      ]
    },
    {
      "cell_type": "code",
      "metadata": {
        "id": "_9qHffgUO9LI",
        "colab_type": "code",
        "colab": {}
      },
      "source": [
        "from sklearn.model_selection import cross_val_score"
      ],
      "execution_count": 995,
      "outputs": []
    },
    {
      "cell_type": "code",
      "metadata": {
        "id": "ENPYyj80SvvL",
        "colab_type": "code",
        "colab": {
          "base_uri": "https://localhost:8080/",
          "height": 195
        },
        "outputId": "8dd0ceaf-e3fd-4fe9-adc3-cb53c8bf596e"
      },
      "source": [
        "sub=pd.read_csv(\"/content/sample_submission.csv\")\n",
        "sub"
      ],
      "execution_count": 994,
      "outputs": [
        {
          "output_type": "execute_result",
          "data": {
            "text/html": [
              "<div>\n",
              "<style scoped>\n",
              "    .dataframe tbody tr th:only-of-type {\n",
              "        vertical-align: middle;\n",
              "    }\n",
              "\n",
              "    .dataframe tbody tr th {\n",
              "        vertical-align: top;\n",
              "    }\n",
              "\n",
              "    .dataframe thead th {\n",
              "        text-align: right;\n",
              "    }\n",
              "</style>\n",
              "<table border=\"1\" class=\"dataframe\">\n",
              "  <thead>\n",
              "    <tr style=\"text-align: right;\">\n",
              "      <th></th>\n",
              "      <th>Employee_ID</th>\n",
              "      <th>Attrition_rate</th>\n",
              "    </tr>\n",
              "  </thead>\n",
              "  <tbody>\n",
              "    <tr>\n",
              "      <th>0</th>\n",
              "      <td>TID_1</td>\n",
              "      <td>0.1588</td>\n",
              "    </tr>\n",
              "    <tr>\n",
              "      <th>1</th>\n",
              "      <td>TID_2</td>\n",
              "      <td>0.1424</td>\n",
              "    </tr>\n",
              "    <tr>\n",
              "      <th>2</th>\n",
              "      <td>TID_3</td>\n",
              "      <td>0.4758</td>\n",
              "    </tr>\n",
              "    <tr>\n",
              "      <th>3</th>\n",
              "      <td>TID_4</td>\n",
              "      <td>0.0846</td>\n",
              "    </tr>\n",
              "    <tr>\n",
              "      <th>4</th>\n",
              "      <td>TID_5</td>\n",
              "      <td>0.2388</td>\n",
              "    </tr>\n",
              "  </tbody>\n",
              "</table>\n",
              "</div>"
            ],
            "text/plain": [
              "  Employee_ID  Attrition_rate\n",
              "0       TID_1          0.1588\n",
              "1       TID_2          0.1424\n",
              "2       TID_3          0.4758\n",
              "3       TID_4          0.0846\n",
              "4       TID_5          0.2388"
            ]
          },
          "metadata": {
            "tags": []
          },
          "execution_count": 994
        }
      ]
    },
    {
      "cell_type": "code",
      "metadata": {
        "id": "CCQTWJReRqgz",
        "colab_type": "code",
        "colab": {}
      },
      "source": [
        "submission=pd.DataFrame(test[\"Employee_ID\"])"
      ],
      "execution_count": 996,
      "outputs": []
    },
    {
      "cell_type": "markdown",
      "metadata": {
        "id": "YWClsXGVQ9Rj",
        "colab_type": "text"
      },
      "source": [
        "linear regression"
      ]
    },
    {
      "cell_type": "code",
      "metadata": {
        "id": "qCvjwzRHRGy8",
        "colab_type": "code",
        "colab": {}
      },
      "source": [
        "from sklearn.linear_model import LinearRegression"
      ],
      "execution_count": 997,
      "outputs": []
    },
    {
      "cell_type": "code",
      "metadata": {
        "id": "2GsSzK87Q1F8",
        "colab_type": "code",
        "colab": {}
      },
      "source": [
        "lr=LinearRegression(normalize=True)\n",
        "scores = cross_val_score(lr,trainXX,target, cv = 5,scoring= \"neg_root_mean_squared_error\")"
      ],
      "execution_count": 998,
      "outputs": []
    },
    {
      "cell_type": "code",
      "metadata": {
        "id": "ivQchl0H8DbU",
        "colab_type": "code",
        "colab": {
          "base_uri": "https://localhost:8080/",
          "height": 34
        },
        "outputId": "dd965e40-f934-4a41-d810-2f9bdacccc0a"
      },
      "source": [
        "scores.mean()"
      ],
      "execution_count": 999,
      "outputs": [
        {
          "output_type": "execute_result",
          "data": {
            "text/plain": [
              "-0.1855230939722287"
            ]
          },
          "metadata": {
            "tags": []
          },
          "execution_count": 999
        }
      ]
    },
    {
      "cell_type": "code",
      "metadata": {
        "id": "A8VxusCCRgFV",
        "colab_type": "code",
        "colab": {
          "base_uri": "https://localhost:8080/",
          "height": 34
        },
        "outputId": "7e48d77b-5d2a-4ff7-a45c-9ff51e97558e"
      },
      "source": [
        "lr.fit(trainXX,target)"
      ],
      "execution_count": 1000,
      "outputs": [
        {
          "output_type": "execute_result",
          "data": {
            "text/plain": [
              "LinearRegression(copy_X=True, fit_intercept=True, n_jobs=None, normalize=True)"
            ]
          },
          "metadata": {
            "tags": []
          },
          "execution_count": 1000
        }
      ]
    },
    {
      "cell_type": "code",
      "metadata": {
        "id": "H-hnUT1-TDfN",
        "colab_type": "code",
        "colab": {
          "base_uri": "https://localhost:8080/",
          "height": 50
        },
        "outputId": "80c8049c-2cb9-44a7-8871-ced4d8f806db"
      },
      "source": [
        "lr.predict(trainXX)"
      ],
      "execution_count": 1001,
      "outputs": [
        {
          "output_type": "execute_result",
          "data": {
            "text/plain": [
              "array([0.18049875, 0.21759381, 0.1742028 , ..., 0.18720089, 0.19447906,\n",
              "       0.18293958])"
            ]
          },
          "metadata": {
            "tags": []
          },
          "execution_count": 1001
        }
      ]
    },
    {
      "cell_type": "code",
      "metadata": {
        "id": "0wqf3oD0S7HF",
        "colab_type": "code",
        "colab": {}
      },
      "source": [
        "prediction=lr.predict(testXX)"
      ],
      "execution_count": 1002,
      "outputs": []
    },
    {
      "cell_type": "code",
      "metadata": {
        "id": "UrQmnCmdbxF1",
        "colab_type": "code",
        "colab": {}
      },
      "source": [
        "submission[\"Attrition_rate\"]=prediction"
      ],
      "execution_count": 1003,
      "outputs": []
    },
    {
      "cell_type": "code",
      "metadata": {
        "id": "o-96f2Y3bzFU",
        "colab_type": "code",
        "colab": {
          "base_uri": "https://localhost:8080/",
          "height": 402
        },
        "outputId": "bc8c134f-4af6-4ccb-c5db-0cbf3f3885f7"
      },
      "source": [
        "submission"
      ],
      "execution_count": null,
      "outputs": [
        {
          "output_type": "execute_result",
          "data": {
            "text/html": [
              "<div>\n",
              "<style scoped>\n",
              "    .dataframe tbody tr th:only-of-type {\n",
              "        vertical-align: middle;\n",
              "    }\n",
              "\n",
              "    .dataframe tbody tr th {\n",
              "        vertical-align: top;\n",
              "    }\n",
              "\n",
              "    .dataframe thead th {\n",
              "        text-align: right;\n",
              "    }\n",
              "</style>\n",
              "<table border=\"1\" class=\"dataframe\">\n",
              "  <thead>\n",
              "    <tr style=\"text-align: right;\">\n",
              "      <th></th>\n",
              "      <th>Employee_ID</th>\n",
              "      <th>Attrition_rate</th>\n",
              "    </tr>\n",
              "  </thead>\n",
              "  <tbody>\n",
              "    <tr>\n",
              "      <th>0</th>\n",
              "      <td>EID_22713</td>\n",
              "      <td>0.211773</td>\n",
              "    </tr>\n",
              "    <tr>\n",
              "      <th>1</th>\n",
              "      <td>EID_9658</td>\n",
              "      <td>0.196387</td>\n",
              "    </tr>\n",
              "    <tr>\n",
              "      <th>2</th>\n",
              "      <td>EID_22203</td>\n",
              "      <td>0.185884</td>\n",
              "    </tr>\n",
              "    <tr>\n",
              "      <th>3</th>\n",
              "      <td>EID_7652</td>\n",
              "      <td>0.232140</td>\n",
              "    </tr>\n",
              "    <tr>\n",
              "      <th>4</th>\n",
              "      <td>EID_6516</td>\n",
              "      <td>0.204128</td>\n",
              "    </tr>\n",
              "    <tr>\n",
              "      <th>...</th>\n",
              "      <td>...</td>\n",
              "      <td>...</td>\n",
              "    </tr>\n",
              "    <tr>\n",
              "      <th>2995</th>\n",
              "      <td>EID_22547</td>\n",
              "      <td>0.204743</td>\n",
              "    </tr>\n",
              "    <tr>\n",
              "      <th>2996</th>\n",
              "      <td>EID_10066</td>\n",
              "      <td>0.180044</td>\n",
              "    </tr>\n",
              "    <tr>\n",
              "      <th>2997</th>\n",
              "      <td>EID_7126</td>\n",
              "      <td>0.172466</td>\n",
              "    </tr>\n",
              "    <tr>\n",
              "      <th>2998</th>\n",
              "      <td>EID_4929</td>\n",
              "      <td>0.150003</td>\n",
              "    </tr>\n",
              "    <tr>\n",
              "      <th>2999</th>\n",
              "      <td>EID_24750</td>\n",
              "      <td>0.196286</td>\n",
              "    </tr>\n",
              "  </tbody>\n",
              "</table>\n",
              "<p>3000 rows × 2 columns</p>\n",
              "</div>"
            ],
            "text/plain": [
              "     Employee_ID  Attrition_rate\n",
              "0      EID_22713        0.211773\n",
              "1       EID_9658        0.196387\n",
              "2      EID_22203        0.185884\n",
              "3       EID_7652        0.232140\n",
              "4       EID_6516        0.204128\n",
              "...          ...             ...\n",
              "2995   EID_22547        0.204743\n",
              "2996   EID_10066        0.180044\n",
              "2997    EID_7126        0.172466\n",
              "2998    EID_4929        0.150003\n",
              "2999   EID_24750        0.196286\n",
              "\n",
              "[3000 rows x 2 columns]"
            ]
          },
          "metadata": {
            "tags": []
          },
          "execution_count": 205
        }
      ]
    },
    {
      "cell_type": "code",
      "metadata": {
        "id": "Qs-mrkhSb8Ai",
        "colab_type": "code",
        "colab": {}
      },
      "source": [
        "submission.to_csv(\"soln20.csv\",index=False)"
      ],
      "execution_count": 1004,
      "outputs": []
    },
    {
      "cell_type": "markdown",
      "metadata": {
        "id": "AJPRPx9XeMjn",
        "colab_type": "text"
      },
      "source": [
        "# logistic regression"
      ]
    },
    {
      "cell_type": "code",
      "metadata": {
        "id": "vN7WhkwRcgcW",
        "colab_type": "code",
        "colab": {}
      },
      "source": [
        "from sklearn.linear_model import Ridge"
      ],
      "execution_count": 1005,
      "outputs": []
    },
    {
      "cell_type": "code",
      "metadata": {
        "id": "80d-R3uaeZ0x",
        "colab_type": "code",
        "colab": {
          "base_uri": "https://localhost:8080/",
          "height": 34
        },
        "outputId": "69f0a4e6-3423-4db8-f7b3-106509f840f3"
      },
      "source": [
        "rdg=Ridge(normalize=True,alpha=0.8)\n",
        "scores = cross_val_score(rdg,trainXX,target, cv = 5,scoring= \"neg_root_mean_squared_error\")\n",
        "(scores.mean())\n",
        "  "
      ],
      "execution_count": 1073,
      "outputs": [
        {
          "output_type": "execute_result",
          "data": {
            "text/plain": [
              "-0.18540704831634486"
            ]
          },
          "metadata": {
            "tags": []
          },
          "execution_count": 1073
        }
      ]
    },
    {
      "cell_type": "code",
      "metadata": {
        "id": "AS1aPmcJec83",
        "colab_type": "code",
        "colab": {
          "base_uri": "https://localhost:8080/",
          "height": 134
        },
        "outputId": "18f32382-729d-4fb7-8843-744afc28d48d"
      },
      "source": [
        "pro"
      ],
      "execution_count": null,
      "outputs": [
        {
          "output_type": "execute_result",
          "data": {
            "text/plain": [
              "[-0.1854115946966222,\n",
              " -0.1854115946966222,\n",
              " -0.1854115946966222,\n",
              " -0.1854115946966222,\n",
              " -0.1854115946966222,\n",
              " -0.1854115946966222,\n",
              " -0.1854115946966222]"
            ]
          },
          "metadata": {
            "tags": []
          },
          "execution_count": 631
        }
      ]
    },
    {
      "cell_type": "code",
      "metadata": {
        "id": "QGmuPYaGfgCe",
        "colab_type": "code",
        "colab": {
          "base_uri": "https://localhost:8080/",
          "height": 50
        },
        "outputId": "187282c7-41f3-4042-d458-7397d2960192"
      },
      "source": [
        "rdg=Ridge(normalize=True)\n",
        "rdg.fit(trainXX,target)"
      ],
      "execution_count": 1007,
      "outputs": [
        {
          "output_type": "execute_result",
          "data": {
            "text/plain": [
              "Ridge(alpha=1.0, copy_X=True, fit_intercept=True, max_iter=None, normalize=True,\n",
              "      random_state=None, solver='auto', tol=0.001)"
            ]
          },
          "metadata": {
            "tags": []
          },
          "execution_count": 1007
        }
      ]
    },
    {
      "cell_type": "code",
      "metadata": {
        "id": "XKphXzY9fre1",
        "colab_type": "code",
        "colab": {}
      },
      "source": [
        "prediction=rdg.predict(testXX)"
      ],
      "execution_count": 1008,
      "outputs": []
    },
    {
      "cell_type": "code",
      "metadata": {
        "id": "V-rWt4GKf3GT",
        "colab_type": "code",
        "colab": {}
      },
      "source": [
        "submission[\"Attrition_rate\"]=prediction"
      ],
      "execution_count": 1010,
      "outputs": []
    },
    {
      "cell_type": "code",
      "metadata": {
        "id": "lD4X16I3OfXh",
        "colab_type": "code",
        "colab": {
          "base_uri": "https://localhost:8080/",
          "height": 402
        },
        "outputId": "2801c098-637b-43f7-dcb3-034117303bc7"
      },
      "source": [
        "submission"
      ],
      "execution_count": null,
      "outputs": [
        {
          "output_type": "execute_result",
          "data": {
            "text/html": [
              "<div>\n",
              "<style scoped>\n",
              "    .dataframe tbody tr th:only-of-type {\n",
              "        vertical-align: middle;\n",
              "    }\n",
              "\n",
              "    .dataframe tbody tr th {\n",
              "        vertical-align: top;\n",
              "    }\n",
              "\n",
              "    .dataframe thead th {\n",
              "        text-align: right;\n",
              "    }\n",
              "</style>\n",
              "<table border=\"1\" class=\"dataframe\">\n",
              "  <thead>\n",
              "    <tr style=\"text-align: right;\">\n",
              "      <th></th>\n",
              "      <th>Employee_ID</th>\n",
              "      <th>Attrition_rate</th>\n",
              "    </tr>\n",
              "  </thead>\n",
              "  <tbody>\n",
              "    <tr>\n",
              "      <th>0</th>\n",
              "      <td>EID_22713</td>\n",
              "      <td>0.073534</td>\n",
              "    </tr>\n",
              "    <tr>\n",
              "      <th>1</th>\n",
              "      <td>EID_9658</td>\n",
              "      <td>0.065047</td>\n",
              "    </tr>\n",
              "    <tr>\n",
              "      <th>2</th>\n",
              "      <td>EID_22203</td>\n",
              "      <td>0.058501</td>\n",
              "    </tr>\n",
              "    <tr>\n",
              "      <th>3</th>\n",
              "      <td>EID_7652</td>\n",
              "      <td>0.085216</td>\n",
              "    </tr>\n",
              "    <tr>\n",
              "      <th>4</th>\n",
              "      <td>EID_6516</td>\n",
              "      <td>0.069940</td>\n",
              "    </tr>\n",
              "    <tr>\n",
              "      <th>...</th>\n",
              "      <td>...</td>\n",
              "      <td>...</td>\n",
              "    </tr>\n",
              "    <tr>\n",
              "      <th>2995</th>\n",
              "      <td>EID_22547</td>\n",
              "      <td>0.071026</td>\n",
              "    </tr>\n",
              "    <tr>\n",
              "      <th>2996</th>\n",
              "      <td>EID_10066</td>\n",
              "      <td>0.058854</td>\n",
              "    </tr>\n",
              "    <tr>\n",
              "      <th>2997</th>\n",
              "      <td>EID_7126</td>\n",
              "      <td>0.053045</td>\n",
              "    </tr>\n",
              "    <tr>\n",
              "      <th>2998</th>\n",
              "      <td>EID_4929</td>\n",
              "      <td>0.041397</td>\n",
              "    </tr>\n",
              "    <tr>\n",
              "      <th>2999</th>\n",
              "      <td>EID_24750</td>\n",
              "      <td>0.066423</td>\n",
              "    </tr>\n",
              "  </tbody>\n",
              "</table>\n",
              "<p>3000 rows × 2 columns</p>\n",
              "</div>"
            ],
            "text/plain": [
              "     Employee_ID  Attrition_rate\n",
              "0      EID_22713        0.073534\n",
              "1       EID_9658        0.065047\n",
              "2      EID_22203        0.058501\n",
              "3       EID_7652        0.085216\n",
              "4       EID_6516        0.069940\n",
              "...          ...             ...\n",
              "2995   EID_22547        0.071026\n",
              "2996   EID_10066        0.058854\n",
              "2997    EID_7126        0.053045\n",
              "2998    EID_4929        0.041397\n",
              "2999   EID_24750        0.066423\n",
              "\n",
              "[3000 rows x 2 columns]"
            ]
          },
          "metadata": {
            "tags": []
          },
          "execution_count": 725
        }
      ]
    },
    {
      "cell_type": "code",
      "metadata": {
        "id": "UXtm9sX0f5_L",
        "colab_type": "code",
        "colab": {}
      },
      "source": [
        "submission.to_csv(\"soln21.csv\",index=False)"
      ],
      "execution_count": 1012,
      "outputs": []
    },
    {
      "cell_type": "markdown",
      "metadata": {
        "id": "fclS21x4gm2H",
        "colab_type": "text"
      },
      "source": [
        "# LASSO"
      ]
    },
    {
      "cell_type": "code",
      "metadata": {
        "id": "YRxiM3bLgDHY",
        "colab_type": "code",
        "colab": {}
      },
      "source": [
        "from sklearn.linear_model import Lasso"
      ],
      "execution_count": 1013,
      "outputs": []
    },
    {
      "cell_type": "code",
      "metadata": {
        "id": "DNOsb09Mg4_v",
        "colab_type": "code",
        "colab": {
          "base_uri": "https://localhost:8080/",
          "height": 34
        },
        "outputId": "b1831a2d-9e20-49d2-b1ed-c716d2e83c43"
      },
      "source": [
        "ll=Lasso(normalize=True)\n",
        "scores = cross_val_score(ll,trainXX,target, cv = 5,scoring= \"neg_root_mean_squared_error\")\n",
        "(scores.mean())"
      ],
      "execution_count": 1100,
      "outputs": [
        {
          "output_type": "execute_result",
          "data": {
            "text/plain": [
              "-0.18565756182708532"
            ]
          },
          "metadata": {
            "tags": []
          },
          "execution_count": 1100
        }
      ]
    },
    {
      "cell_type": "code",
      "metadata": {
        "id": "BkR3sRKwtjdf",
        "colab_type": "code",
        "colab": {
          "base_uri": "https://localhost:8080/",
          "height": 67
        },
        "outputId": "1b6bb113-8a51-4cc2-96da-b0cb7fb53f3a"
      },
      "source": [
        "ll.fit(trainXX,target)"
      ],
      "execution_count": 1016,
      "outputs": [
        {
          "output_type": "execute_result",
          "data": {
            "text/plain": [
              "Lasso(alpha=1.0, copy_X=True, fit_intercept=True, max_iter=1000, normalize=True,\n",
              "      positive=False, precompute=False, random_state=None, selection='cyclic',\n",
              "      tol=0.0001, warm_start=False)"
            ]
          },
          "metadata": {
            "tags": []
          },
          "execution_count": 1016
        }
      ]
    },
    {
      "cell_type": "code",
      "metadata": {
        "id": "Cd88Rx7YuVna",
        "colab_type": "code",
        "colab": {}
      },
      "source": [
        "submission[\"Attrition_rate\"]=ll.predict(testXX)\n",
        "submission.to_csv(\"soln21.csv\",index=False)"
      ],
      "execution_count": 1017,
      "outputs": []
    },
    {
      "cell_type": "code",
      "metadata": {
        "id": "oA-l3km1hBxW",
        "colab_type": "code",
        "colab": {
          "base_uri": "https://localhost:8080/",
          "height": 34
        },
        "outputId": "280f0f78-58c2-4591-f6b8-7e9cc3658696"
      },
      "source": [
        "scores.mean()"
      ],
      "execution_count": null,
      "outputs": [
        {
          "output_type": "execute_result",
          "data": {
            "text/plain": [
              "-0.18565756182708532"
            ]
          },
          "metadata": {
            "tags": []
          },
          "execution_count": 223
        }
      ]
    },
    {
      "cell_type": "markdown",
      "metadata": {
        "id": "cCnCStV3hVAn",
        "colab_type": "text"
      },
      "source": [
        "# SVR"
      ]
    },
    {
      "cell_type": "code",
      "metadata": {
        "id": "ujMSfDOhhDcn",
        "colab_type": "code",
        "colab": {}
      },
      "source": [
        "from sklearn.svm import SVR"
      ],
      "execution_count": 1018,
      "outputs": []
    },
    {
      "cell_type": "code",
      "metadata": {
        "id": "Fc0hFVoVhXfI",
        "colab_type": "code",
        "colab": {
          "base_uri": "https://localhost:8080/",
          "height": 34
        },
        "outputId": "2fbae66b-88ef-4a1c-f079-c514e1f7e3f8"
      },
      "source": [
        "svr=SVR(C=0.001,)\n",
        "scores = cross_val_score(svr,trainXX,target, cv = 5,scoring= \"neg_root_mean_squared_error\")\n",
        "scores.mean()"
      ],
      "execution_count": 1026,
      "outputs": [
        {
          "output_type": "execute_result",
          "data": {
            "text/plain": [
              "-0.35990958172973636"
            ]
          },
          "metadata": {
            "tags": []
          },
          "execution_count": 1026
        }
      ]
    },
    {
      "cell_type": "code",
      "metadata": {
        "id": "l6kcb-snhdc8",
        "colab_type": "code",
        "colab": {
          "base_uri": "https://localhost:8080/",
          "height": 34
        },
        "outputId": "bc144e74-f884-49a8-d8a7-060472c393d8"
      },
      "source": [
        ""
      ],
      "execution_count": null,
      "outputs": [
        {
          "output_type": "execute_result",
          "data": {
            "text/plain": [
              "-0.20031122101865803"
            ]
          },
          "metadata": {
            "tags": []
          },
          "execution_count": 312
        }
      ]
    },
    {
      "cell_type": "code",
      "metadata": {
        "id": "WqwCsgaKhlYD",
        "colab_type": "code",
        "colab": {
          "base_uri": "https://localhost:8080/",
          "height": 34
        },
        "outputId": "0640bbbe-b0eb-4f18-dd80-ca6d35ed8c60"
      },
      "source": [
        "from sklearn.tree import DecisionTreeRegressor\n",
        "dt=DecisionTreeRegressor()\n",
        "scores = cross_val_score(dt,trainXX,target, cv = 5,scoring= \"neg_root_mean_squared_error\")\n",
        "scores.mean()"
      ],
      "execution_count": null,
      "outputs": [
        {
          "output_type": "execute_result",
          "data": {
            "text/plain": [
              "-0.27754504654519224"
            ]
          },
          "metadata": {
            "tags": []
          },
          "execution_count": 925
        }
      ]
    },
    {
      "cell_type": "code",
      "metadata": {
        "id": "wCTcrndniBf0",
        "colab_type": "code",
        "colab": {
          "base_uri": "https://localhost:8080/",
          "height": 34
        },
        "outputId": "7f22d76f-91f3-46f3-bac3-d8059b946fd8"
      },
      "source": [
        "from sklearn.ensemble import RandomForestRegressor\n",
        "rf=RandomForestRegressor(max_depth=)\n",
        "scores = cross_val_score(rf,trainXX,target, cv = 5,scoring= \"neg_root_mean_squared_error\")\n",
        "scores.mean()"
      ],
      "execution_count": null,
      "outputs": [
        {
          "output_type": "execute_result",
          "data": {
            "text/plain": [
              "-0.18602508960097505"
            ]
          },
          "metadata": {
            "tags": []
          },
          "execution_count": 926
        }
      ]
    },
    {
      "cell_type": "markdown",
      "metadata": {
        "id": "WKoLmBJmin1W",
        "colab_type": "text"
      },
      "source": [
        "# XGB"
      ]
    },
    {
      "cell_type": "code",
      "metadata": {
        "id": "wlt_-QpxiQQm",
        "colab_type": "code",
        "colab": {
          "base_uri": "https://localhost:8080/",
          "height": 118
        },
        "outputId": "6f39bc53-f18a-4193-c02c-7d2830529c7d"
      },
      "source": [
        "from xgboost import XGBRegressor\n",
        "xgb=XGBRegressor(booster=\"gblinear\",n_estimators=200)\n",
        "scores = cross_val_score(xgb,trainXX,target, cv = 5,scoring= \"neg_root_mean_squared_error\")\n",
        "scores.mean()"
      ],
      "execution_count": 1105,
      "outputs": [
        {
          "output_type": "stream",
          "text": [
            "[21:03:40] WARNING: /workspace/src/objective/regression_obj.cu:152: reg:linear is now deprecated in favor of reg:squarederror.\n",
            "[21:03:40] WARNING: /workspace/src/objective/regression_obj.cu:152: reg:linear is now deprecated in favor of reg:squarederror.\n",
            "[21:03:41] WARNING: /workspace/src/objective/regression_obj.cu:152: reg:linear is now deprecated in favor of reg:squarederror.\n",
            "[21:03:41] WARNING: /workspace/src/objective/regression_obj.cu:152: reg:linear is now deprecated in favor of reg:squarederror.\n",
            "[21:03:42] WARNING: /workspace/src/objective/regression_obj.cu:152: reg:linear is now deprecated in favor of reg:squarederror.\n"
          ],
          "name": "stdout"
        },
        {
          "output_type": "execute_result",
          "data": {
            "text/plain": [
              "-0.18541132211919725"
            ]
          },
          "metadata": {
            "tags": []
          },
          "execution_count": 1105
        }
      ]
    },
    {
      "cell_type": "code",
      "metadata": {
        "id": "rYK7O4Dhi6WK",
        "colab_type": "code",
        "colab": {
          "base_uri": "https://localhost:8080/",
          "height": 151
        },
        "outputId": "ef0d2631-0130-4eb7-bd11-773a4def7673"
      },
      "source": [
        "xgb.fit(trainXX,target)"
      ],
      "execution_count": 1106,
      "outputs": [
        {
          "output_type": "stream",
          "text": [
            "[21:03:54] WARNING: /workspace/src/objective/regression_obj.cu:152: reg:linear is now deprecated in favor of reg:squarederror.\n"
          ],
          "name": "stdout"
        },
        {
          "output_type": "execute_result",
          "data": {
            "text/plain": [
              "XGBRegressor(base_score=0.5, booster='gblinear', colsample_bylevel=1,\n",
              "             colsample_bynode=1, colsample_bytree=1, gamma=0,\n",
              "             importance_type='gain', learning_rate=0.1, max_delta_step=0,\n",
              "             max_depth=3, min_child_weight=1, missing=None, n_estimators=200,\n",
              "             n_jobs=1, nthread=None, objective='reg:linear', random_state=0,\n",
              "             reg_alpha=0, reg_lambda=1, scale_pos_weight=1, seed=None,\n",
              "             silent=None, subsample=1, verbosity=1)"
            ]
          },
          "metadata": {
            "tags": []
          },
          "execution_count": 1106
        }
      ]
    },
    {
      "cell_type": "code",
      "metadata": {
        "id": "MoaY2M4xjGsI",
        "colab_type": "code",
        "colab": {}
      },
      "source": [
        "submission[\"Attrition_rate\"]=xgb.predict(testXX)"
      ],
      "execution_count": 1107,
      "outputs": []
    },
    {
      "cell_type": "code",
      "metadata": {
        "id": "fSKt-8zLjQwN",
        "colab_type": "code",
        "colab": {}
      },
      "source": [
        "submission.to_csv(\"soln39.csv\",index=False)"
      ],
      "execution_count": 1108,
      "outputs": []
    },
    {
      "cell_type": "code",
      "metadata": {
        "id": "_-hCWX0AjVkW",
        "colab_type": "code",
        "colab": {
          "base_uri": "https://localhost:8080/",
          "height": 34
        },
        "outputId": "f1f1b118-d5e3-4013-d92a-2812d3a3bdba"
      },
      "source": [
        "from lightgbm import LGBMRegressor\n",
        "lgbm=LGBMRegressor(max_depth=4)\n",
        "scores = cross_val_score(lgbm,trainXX,target, cv = 5,scoring= \"neg_root_mean_squared_error\")\n",
        "scores.mean()"
      ],
      "execution_count": 1038,
      "outputs": [
        {
          "output_type": "execute_result",
          "data": {
            "text/plain": [
              "-0.18803617719055465"
            ]
          },
          "metadata": {
            "tags": []
          },
          "execution_count": 1038
        }
      ]
    },
    {
      "cell_type": "code",
      "metadata": {
        "id": "EUH1iLvQs0tz",
        "colab_type": "code",
        "colab": {
          "base_uri": "https://localhost:8080/",
          "height": 118
        },
        "outputId": "47da5d75-844a-496c-ca0b-43cb40180cca"
      },
      "source": [
        "lgbm.fit(trainXX,target)"
      ],
      "execution_count": null,
      "outputs": [
        {
          "output_type": "execute_result",
          "data": {
            "text/plain": [
              "LGBMRegressor(boosting_type='gbdt', class_weight=None, colsample_bytree=1.0,\n",
              "              importance_type='split', learning_rate=0.1, max_depth=4,\n",
              "              min_child_samples=20, min_child_weight=0.001, min_split_gain=0.0,\n",
              "              n_estimators=100, n_jobs=-1, num_leaves=31, objective=None,\n",
              "              random_state=None, reg_alpha=0.0, reg_lambda=0.0, silent=True,\n",
              "              subsample=1.0, subsample_for_bin=200000, subsample_freq=0)"
            ]
          },
          "metadata": {
            "tags": []
          },
          "execution_count": 950
        }
      ]
    },
    {
      "cell_type": "code",
      "metadata": {
        "id": "SftJqwrus0ni",
        "colab_type": "code",
        "colab": {}
      },
      "source": [
        "submission[\"Attrition_rate\"]=lgbm.predict(testXX)\n",
        "submission.to_csv(\"soln19.csv\",index=False)"
      ],
      "execution_count": null,
      "outputs": []
    },
    {
      "cell_type": "code",
      "metadata": {
        "id": "NXM062-Dw5hU",
        "colab_type": "code",
        "colab": {}
      },
      "source": [
        ""
      ],
      "execution_count": null,
      "outputs": []
    },
    {
      "cell_type": "code",
      "metadata": {
        "id": "fx_1gFtMw5co",
        "colab_type": "code",
        "colab": {}
      },
      "source": [
        "from sklearn.ensemble import GradientBoostingRegressor\n"
      ],
      "execution_count": 1039,
      "outputs": []
    },
    {
      "cell_type": "code",
      "metadata": {
        "id": "1yRs045pw5S6",
        "colab_type": "code",
        "colab": {
          "base_uri": "https://localhost:8080/",
          "height": 34
        },
        "outputId": "881aceab-22bc-4d04-e6f3-d0eb57e82dd2"
      },
      "source": [
        "gbr=GradientBoostingRegressor()\n",
        "scores = cross_val_score(gbr,trainXX,target, cv = 5,scoring= \"neg_root_mean_squared_error\")\n",
        "scores.mean()"
      ],
      "execution_count": 1043,
      "outputs": [
        {
          "output_type": "execute_result",
          "data": {
            "text/plain": [
              "-0.1872878733352124"
            ]
          },
          "metadata": {
            "tags": []
          },
          "execution_count": 1043
        }
      ]
    },
    {
      "cell_type": "markdown",
      "metadata": {
        "id": "YcI71z-rqsRi",
        "colab_type": "text"
      },
      "source": [
        "# CATBOOST"
      ]
    },
    {
      "cell_type": "code",
      "metadata": {
        "id": "vHpbgxScj30N",
        "colab_type": "code",
        "colab": {
          "base_uri": "https://localhost:8080/",
          "height": 339
        },
        "outputId": "95824ee7-e8b9-4827-bccd-39e4fe771546"
      },
      "source": [
        "pip install catboost"
      ],
      "execution_count": null,
      "outputs": [
        {
          "output_type": "stream",
          "text": [
            "Collecting catboost\n",
            "\u001b[?25l  Downloading https://files.pythonhosted.org/packages/b2/aa/e61819d04ef2bbee778bf4b3a748db1f3ad23512377e43ecfdc3211437a0/catboost-0.23.2-cp36-none-manylinux1_x86_64.whl (64.8MB)\n",
            "\u001b[K     |████████████████████████████████| 64.8MB 52kB/s \n",
            "\u001b[?25hRequirement already satisfied: numpy>=1.16.0 in /usr/local/lib/python3.6/dist-packages (from catboost) (1.18.5)\n",
            "Requirement already satisfied: matplotlib in /usr/local/lib/python3.6/dist-packages (from catboost) (3.2.2)\n",
            "Requirement already satisfied: six in /usr/local/lib/python3.6/dist-packages (from catboost) (1.12.0)\n",
            "Requirement already satisfied: scipy in /usr/local/lib/python3.6/dist-packages (from catboost) (1.4.1)\n",
            "Requirement already satisfied: graphviz in /usr/local/lib/python3.6/dist-packages (from catboost) (0.10.1)\n",
            "Requirement already satisfied: plotly in /usr/local/lib/python3.6/dist-packages (from catboost) (4.4.1)\n",
            "Requirement already satisfied: pandas>=0.24.0 in /usr/local/lib/python3.6/dist-packages (from catboost) (1.0.5)\n",
            "Requirement already satisfied: pyparsing!=2.0.4,!=2.1.2,!=2.1.6,>=2.0.1 in /usr/local/lib/python3.6/dist-packages (from matplotlib->catboost) (2.4.7)\n",
            "Requirement already satisfied: python-dateutil>=2.1 in /usr/local/lib/python3.6/dist-packages (from matplotlib->catboost) (2.8.1)\n",
            "Requirement already satisfied: kiwisolver>=1.0.1 in /usr/local/lib/python3.6/dist-packages (from matplotlib->catboost) (1.2.0)\n",
            "Requirement already satisfied: cycler>=0.10 in /usr/local/lib/python3.6/dist-packages (from matplotlib->catboost) (0.10.0)\n",
            "Requirement already satisfied: retrying>=1.3.3 in /usr/local/lib/python3.6/dist-packages (from plotly->catboost) (1.3.3)\n",
            "Requirement already satisfied: pytz>=2017.2 in /usr/local/lib/python3.6/dist-packages (from pandas>=0.24.0->catboost) (2018.9)\n",
            "Installing collected packages: catboost\n",
            "Successfully installed catboost-0.23.2\n"
          ],
          "name": "stdout"
        }
      ]
    },
    {
      "cell_type": "code",
      "metadata": {
        "id": "jmpY0HgjqvC3",
        "colab_type": "code",
        "colab": {
          "base_uri": "https://localhost:8080/",
          "height": 1000
        },
        "outputId": "8260c7b7-47cb-44cb-876e-f74056c91622"
      },
      "source": [
        "from catboost import CatBoostRegressor\n",
        "en=CatBoostRegressor(n_estimators=200)\n",
        "scores = cross_val_score(en,trainXX,target, cv = 5,scoring= \"neg_root_mean_squared_error\")\n",
        "scores.mean()"
      ],
      "execution_count": null,
      "outputs": [
        {
          "output_type": "stream",
          "text": [
            "Learning rate set to 0.180217\n",
            "0:\tlearn: 0.1866032\ttotal: 2.6ms\tremaining: 517ms\n",
            "1:\tlearn: 0.1863064\ttotal: 5.34ms\tremaining: 528ms\n",
            "2:\tlearn: 0.1859576\ttotal: 7.82ms\tremaining: 513ms\n",
            "3:\tlearn: 0.1854822\ttotal: 10.4ms\tremaining: 510ms\n",
            "4:\tlearn: 0.1852053\ttotal: 12.8ms\tremaining: 500ms\n",
            "5:\tlearn: 0.1847631\ttotal: 15.1ms\tremaining: 490ms\n",
            "6:\tlearn: 0.1843094\ttotal: 17.7ms\tremaining: 488ms\n",
            "7:\tlearn: 0.1839983\ttotal: 20.2ms\tremaining: 484ms\n",
            "8:\tlearn: 0.1836683\ttotal: 22.5ms\tremaining: 478ms\n",
            "9:\tlearn: 0.1834051\ttotal: 24.9ms\tremaining: 472ms\n",
            "10:\tlearn: 0.1830504\ttotal: 27.4ms\tremaining: 470ms\n",
            "11:\tlearn: 0.1825627\ttotal: 29.8ms\tremaining: 466ms\n",
            "12:\tlearn: 0.1822903\ttotal: 31.9ms\tremaining: 460ms\n",
            "13:\tlearn: 0.1819119\ttotal: 34.2ms\tremaining: 455ms\n",
            "14:\tlearn: 0.1816210\ttotal: 36.7ms\tremaining: 452ms\n",
            "15:\tlearn: 0.1812785\ttotal: 39.1ms\tremaining: 450ms\n",
            "16:\tlearn: 0.1810402\ttotal: 41.5ms\tremaining: 447ms\n",
            "17:\tlearn: 0.1807702\ttotal: 43.9ms\tremaining: 444ms\n",
            "18:\tlearn: 0.1803446\ttotal: 46.3ms\tremaining: 441ms\n",
            "19:\tlearn: 0.1801253\ttotal: 48.8ms\tremaining: 439ms\n",
            "20:\tlearn: 0.1797756\ttotal: 51.1ms\tremaining: 436ms\n",
            "21:\tlearn: 0.1793347\ttotal: 53.6ms\tremaining: 434ms\n",
            "22:\tlearn: 0.1790453\ttotal: 56.4ms\tremaining: 434ms\n",
            "23:\tlearn: 0.1786797\ttotal: 59.6ms\tremaining: 437ms\n",
            "24:\tlearn: 0.1782389\ttotal: 64.6ms\tremaining: 452ms\n",
            "25:\tlearn: 0.1780409\ttotal: 67ms\tremaining: 449ms\n",
            "26:\tlearn: 0.1776828\ttotal: 69.6ms\tremaining: 446ms\n",
            "27:\tlearn: 0.1774060\ttotal: 72ms\tremaining: 442ms\n",
            "28:\tlearn: 0.1771595\ttotal: 74.4ms\tremaining: 439ms\n",
            "29:\tlearn: 0.1768068\ttotal: 76.8ms\tremaining: 435ms\n",
            "30:\tlearn: 0.1765174\ttotal: 79.1ms\tremaining: 431ms\n",
            "31:\tlearn: 0.1762645\ttotal: 81.6ms\tremaining: 428ms\n",
            "32:\tlearn: 0.1760926\ttotal: 83.8ms\tremaining: 424ms\n",
            "33:\tlearn: 0.1759005\ttotal: 86.2ms\tremaining: 421ms\n",
            "34:\tlearn: 0.1755601\ttotal: 88.7ms\tremaining: 418ms\n",
            "35:\tlearn: 0.1751734\ttotal: 91.2ms\tremaining: 415ms\n",
            "36:\tlearn: 0.1748675\ttotal: 93.7ms\tremaining: 413ms\n",
            "37:\tlearn: 0.1745768\ttotal: 96ms\tremaining: 409ms\n",
            "38:\tlearn: 0.1743947\ttotal: 98.5ms\tremaining: 407ms\n",
            "39:\tlearn: 0.1741401\ttotal: 101ms\tremaining: 404ms\n",
            "40:\tlearn: 0.1738285\ttotal: 103ms\tremaining: 401ms\n",
            "41:\tlearn: 0.1736530\ttotal: 106ms\tremaining: 397ms\n",
            "42:\tlearn: 0.1735155\ttotal: 108ms\tremaining: 394ms\n",
            "43:\tlearn: 0.1732445\ttotal: 110ms\tremaining: 391ms\n",
            "44:\tlearn: 0.1728599\ttotal: 113ms\tremaining: 388ms\n",
            "45:\tlearn: 0.1725059\ttotal: 115ms\tremaining: 385ms\n",
            "46:\tlearn: 0.1722405\ttotal: 117ms\tremaining: 382ms\n",
            "47:\tlearn: 0.1719856\ttotal: 120ms\tremaining: 379ms\n",
            "48:\tlearn: 0.1716809\ttotal: 122ms\tremaining: 375ms\n",
            "49:\tlearn: 0.1715386\ttotal: 124ms\tremaining: 372ms\n",
            "50:\tlearn: 0.1712432\ttotal: 126ms\tremaining: 369ms\n",
            "51:\tlearn: 0.1709929\ttotal: 128ms\tremaining: 365ms\n",
            "52:\tlearn: 0.1706863\ttotal: 131ms\tremaining: 362ms\n",
            "53:\tlearn: 0.1705241\ttotal: 133ms\tremaining: 359ms\n",
            "54:\tlearn: 0.1702351\ttotal: 135ms\tremaining: 357ms\n",
            "55:\tlearn: 0.1700111\ttotal: 138ms\tremaining: 354ms\n",
            "56:\tlearn: 0.1698865\ttotal: 140ms\tremaining: 351ms\n",
            "57:\tlearn: 0.1697014\ttotal: 142ms\tremaining: 348ms\n",
            "58:\tlearn: 0.1693546\ttotal: 144ms\tremaining: 345ms\n",
            "59:\tlearn: 0.1691228\ttotal: 146ms\tremaining: 341ms\n",
            "60:\tlearn: 0.1686343\ttotal: 149ms\tremaining: 339ms\n",
            "61:\tlearn: 0.1681868\ttotal: 151ms\tremaining: 336ms\n",
            "62:\tlearn: 0.1680212\ttotal: 153ms\tremaining: 333ms\n",
            "63:\tlearn: 0.1677821\ttotal: 155ms\tremaining: 330ms\n",
            "64:\tlearn: 0.1676601\ttotal: 157ms\tremaining: 327ms\n",
            "65:\tlearn: 0.1674396\ttotal: 160ms\tremaining: 324ms\n",
            "66:\tlearn: 0.1671057\ttotal: 162ms\tremaining: 321ms\n",
            "67:\tlearn: 0.1667551\ttotal: 164ms\tremaining: 319ms\n",
            "68:\tlearn: 0.1666344\ttotal: 166ms\tremaining: 316ms\n",
            "69:\tlearn: 0.1662726\ttotal: 169ms\tremaining: 314ms\n",
            "70:\tlearn: 0.1660350\ttotal: 171ms\tremaining: 311ms\n",
            "71:\tlearn: 0.1658408\ttotal: 173ms\tremaining: 308ms\n",
            "72:\tlearn: 0.1657170\ttotal: 176ms\tremaining: 306ms\n",
            "73:\tlearn: 0.1655437\ttotal: 178ms\tremaining: 303ms\n",
            "74:\tlearn: 0.1654004\ttotal: 180ms\tremaining: 301ms\n",
            "75:\tlearn: 0.1652468\ttotal: 183ms\tremaining: 298ms\n",
            "76:\tlearn: 0.1649568\ttotal: 185ms\tremaining: 296ms\n",
            "77:\tlearn: 0.1648530\ttotal: 193ms\tremaining: 301ms\n",
            "78:\tlearn: 0.1644565\ttotal: 195ms\tremaining: 299ms\n",
            "79:\tlearn: 0.1641008\ttotal: 198ms\tremaining: 297ms\n",
            "80:\tlearn: 0.1638009\ttotal: 200ms\tremaining: 294ms\n",
            "81:\tlearn: 0.1634044\ttotal: 202ms\tremaining: 291ms\n",
            "82:\tlearn: 0.1631943\ttotal: 205ms\tremaining: 289ms\n",
            "83:\tlearn: 0.1631008\ttotal: 207ms\tremaining: 286ms\n",
            "84:\tlearn: 0.1629184\ttotal: 209ms\tremaining: 283ms\n",
            "85:\tlearn: 0.1625877\ttotal: 212ms\tremaining: 281ms\n",
            "86:\tlearn: 0.1623118\ttotal: 214ms\tremaining: 278ms\n",
            "87:\tlearn: 0.1620571\ttotal: 216ms\tremaining: 276ms\n",
            "88:\tlearn: 0.1617020\ttotal: 219ms\tremaining: 273ms\n",
            "89:\tlearn: 0.1614661\ttotal: 221ms\tremaining: 270ms\n",
            "90:\tlearn: 0.1612364\ttotal: 223ms\tremaining: 267ms\n",
            "91:\tlearn: 0.1609084\ttotal: 226ms\tremaining: 265ms\n",
            "92:\tlearn: 0.1608367\ttotal: 228ms\tremaining: 262ms\n",
            "93:\tlearn: 0.1605626\ttotal: 231ms\tremaining: 260ms\n",
            "94:\tlearn: 0.1603915\ttotal: 233ms\tremaining: 257ms\n",
            "95:\tlearn: 0.1602778\ttotal: 235ms\tremaining: 255ms\n",
            "96:\tlearn: 0.1599695\ttotal: 238ms\tremaining: 252ms\n",
            "97:\tlearn: 0.1598932\ttotal: 240ms\tremaining: 250ms\n",
            "98:\tlearn: 0.1597513\ttotal: 243ms\tremaining: 247ms\n",
            "99:\tlearn: 0.1593939\ttotal: 245ms\tremaining: 245ms\n",
            "100:\tlearn: 0.1590906\ttotal: 247ms\tremaining: 243ms\n",
            "101:\tlearn: 0.1587953\ttotal: 250ms\tremaining: 240ms\n",
            "102:\tlearn: 0.1586360\ttotal: 252ms\tremaining: 238ms\n",
            "103:\tlearn: 0.1583900\ttotal: 255ms\tremaining: 235ms\n",
            "104:\tlearn: 0.1582395\ttotal: 257ms\tremaining: 233ms\n",
            "105:\tlearn: 0.1578996\ttotal: 259ms\tremaining: 230ms\n",
            "106:\tlearn: 0.1577483\ttotal: 262ms\tremaining: 228ms\n",
            "107:\tlearn: 0.1574284\ttotal: 264ms\tremaining: 225ms\n",
            "108:\tlearn: 0.1571291\ttotal: 266ms\tremaining: 222ms\n",
            "109:\tlearn: 0.1568282\ttotal: 269ms\tremaining: 220ms\n",
            "110:\tlearn: 0.1565463\ttotal: 271ms\tremaining: 217ms\n",
            "111:\tlearn: 0.1563580\ttotal: 273ms\tremaining: 215ms\n",
            "112:\tlearn: 0.1562966\ttotal: 276ms\tremaining: 212ms\n",
            "113:\tlearn: 0.1561770\ttotal: 278ms\tremaining: 210ms\n",
            "114:\tlearn: 0.1559009\ttotal: 280ms\tremaining: 207ms\n",
            "115:\tlearn: 0.1556788\ttotal: 283ms\tremaining: 205ms\n",
            "116:\tlearn: 0.1554470\ttotal: 285ms\tremaining: 202ms\n",
            "117:\tlearn: 0.1551230\ttotal: 287ms\tremaining: 200ms\n",
            "118:\tlearn: 0.1548030\ttotal: 290ms\tremaining: 197ms\n",
            "119:\tlearn: 0.1545261\ttotal: 292ms\tremaining: 195ms\n",
            "120:\tlearn: 0.1542011\ttotal: 294ms\tremaining: 192ms\n",
            "121:\tlearn: 0.1539098\ttotal: 297ms\tremaining: 190ms\n",
            "122:\tlearn: 0.1535849\ttotal: 299ms\tremaining: 187ms\n",
            "123:\tlearn: 0.1533160\ttotal: 301ms\tremaining: 185ms\n",
            "124:\tlearn: 0.1530284\ttotal: 304ms\tremaining: 182ms\n",
            "125:\tlearn: 0.1527242\ttotal: 306ms\tremaining: 180ms\n",
            "126:\tlearn: 0.1523969\ttotal: 309ms\tremaining: 177ms\n",
            "127:\tlearn: 0.1521635\ttotal: 311ms\tremaining: 175ms\n",
            "128:\tlearn: 0.1519536\ttotal: 313ms\tremaining: 173ms\n",
            "129:\tlearn: 0.1517393\ttotal: 316ms\tremaining: 170ms\n",
            "130:\tlearn: 0.1514697\ttotal: 318ms\tremaining: 168ms\n",
            "131:\tlearn: 0.1512114\ttotal: 321ms\tremaining: 165ms\n",
            "132:\tlearn: 0.1509564\ttotal: 323ms\tremaining: 163ms\n",
            "133:\tlearn: 0.1506859\ttotal: 326ms\tremaining: 160ms\n",
            "134:\tlearn: 0.1504117\ttotal: 328ms\tremaining: 158ms\n",
            "135:\tlearn: 0.1500911\ttotal: 330ms\tremaining: 155ms\n",
            "136:\tlearn: 0.1498390\ttotal: 333ms\tremaining: 153ms\n",
            "137:\tlearn: 0.1496156\ttotal: 335ms\tremaining: 151ms\n",
            "138:\tlearn: 0.1493800\ttotal: 338ms\tremaining: 148ms\n",
            "139:\tlearn: 0.1490508\ttotal: 340ms\tremaining: 146ms\n",
            "140:\tlearn: 0.1488315\ttotal: 343ms\tremaining: 143ms\n",
            "141:\tlearn: 0.1485184\ttotal: 345ms\tremaining: 141ms\n",
            "142:\tlearn: 0.1482143\ttotal: 347ms\tremaining: 139ms\n",
            "143:\tlearn: 0.1480944\ttotal: 350ms\tremaining: 136ms\n",
            "144:\tlearn: 0.1478255\ttotal: 352ms\tremaining: 134ms\n",
            "145:\tlearn: 0.1475836\ttotal: 354ms\tremaining: 131ms\n",
            "146:\tlearn: 0.1472961\ttotal: 357ms\tremaining: 129ms\n",
            "147:\tlearn: 0.1469617\ttotal: 359ms\tremaining: 126ms\n",
            "148:\tlearn: 0.1467963\ttotal: 361ms\tremaining: 124ms\n",
            "149:\tlearn: 0.1465696\ttotal: 364ms\tremaining: 121ms\n",
            "150:\tlearn: 0.1462954\ttotal: 366ms\tremaining: 119ms\n",
            "151:\tlearn: 0.1460180\ttotal: 369ms\tremaining: 116ms\n",
            "152:\tlearn: 0.1457580\ttotal: 371ms\tremaining: 114ms\n",
            "153:\tlearn: 0.1455797\ttotal: 374ms\tremaining: 112ms\n",
            "154:\tlearn: 0.1454551\ttotal: 376ms\tremaining: 109ms\n",
            "155:\tlearn: 0.1453180\ttotal: 378ms\tremaining: 107ms\n",
            "156:\tlearn: 0.1450725\ttotal: 381ms\tremaining: 104ms\n",
            "157:\tlearn: 0.1448372\ttotal: 389ms\tremaining: 103ms\n",
            "158:\tlearn: 0.1444940\ttotal: 391ms\tremaining: 101ms\n",
            "159:\tlearn: 0.1442921\ttotal: 394ms\tremaining: 98.4ms\n",
            "160:\tlearn: 0.1440465\ttotal: 396ms\tremaining: 96ms\n",
            "161:\tlearn: 0.1438324\ttotal: 399ms\tremaining: 93.5ms\n",
            "162:\tlearn: 0.1435683\ttotal: 401ms\tremaining: 91ms\n",
            "163:\tlearn: 0.1433994\ttotal: 403ms\tremaining: 88.5ms\n",
            "164:\tlearn: 0.1431982\ttotal: 406ms\tremaining: 86ms\n",
            "165:\tlearn: 0.1430026\ttotal: 408ms\tremaining: 83.5ms\n",
            "166:\tlearn: 0.1427975\ttotal: 410ms\tremaining: 81ms\n",
            "167:\tlearn: 0.1427118\ttotal: 412ms\tremaining: 78.5ms\n",
            "168:\tlearn: 0.1424700\ttotal: 415ms\tremaining: 76.1ms\n",
            "169:\tlearn: 0.1423181\ttotal: 417ms\tremaining: 73.6ms\n",
            "170:\tlearn: 0.1421164\ttotal: 420ms\tremaining: 71.2ms\n",
            "171:\tlearn: 0.1417937\ttotal: 422ms\tremaining: 68.7ms\n",
            "172:\tlearn: 0.1415105\ttotal: 424ms\tremaining: 66.2ms\n",
            "173:\tlearn: 0.1412912\ttotal: 427ms\tremaining: 63.7ms\n",
            "174:\tlearn: 0.1410191\ttotal: 429ms\tremaining: 61.3ms\n",
            "175:\tlearn: 0.1407781\ttotal: 431ms\tremaining: 58.8ms\n",
            "176:\tlearn: 0.1405695\ttotal: 434ms\tremaining: 56.4ms\n",
            "177:\tlearn: 0.1404238\ttotal: 436ms\tremaining: 53.9ms\n",
            "178:\tlearn: 0.1401730\ttotal: 439ms\tremaining: 51.5ms\n",
            "179:\tlearn: 0.1399140\ttotal: 441ms\tremaining: 49ms\n",
            "180:\tlearn: 0.1397127\ttotal: 444ms\tremaining: 46.6ms\n",
            "181:\tlearn: 0.1395048\ttotal: 446ms\tremaining: 44.1ms\n",
            "182:\tlearn: 0.1392683\ttotal: 448ms\tremaining: 41.6ms\n",
            "183:\tlearn: 0.1389490\ttotal: 450ms\tremaining: 39.2ms\n",
            "184:\tlearn: 0.1388460\ttotal: 453ms\tremaining: 36.7ms\n",
            "185:\tlearn: 0.1385777\ttotal: 455ms\tremaining: 34.3ms\n",
            "186:\tlearn: 0.1383294\ttotal: 457ms\tremaining: 31.8ms\n",
            "187:\tlearn: 0.1380356\ttotal: 460ms\tremaining: 29.4ms\n",
            "188:\tlearn: 0.1377866\ttotal: 462ms\tremaining: 26.9ms\n",
            "189:\tlearn: 0.1376967\ttotal: 465ms\tremaining: 24.5ms\n",
            "190:\tlearn: 0.1375097\ttotal: 467ms\tremaining: 22ms\n",
            "191:\tlearn: 0.1373004\ttotal: 470ms\tremaining: 19.6ms\n",
            "192:\tlearn: 0.1370803\ttotal: 472ms\tremaining: 17.1ms\n",
            "193:\tlearn: 0.1369381\ttotal: 474ms\tremaining: 14.7ms\n",
            "194:\tlearn: 0.1367046\ttotal: 477ms\tremaining: 12.2ms\n",
            "195:\tlearn: 0.1365173\ttotal: 479ms\tremaining: 9.78ms\n",
            "196:\tlearn: 0.1362836\ttotal: 482ms\tremaining: 7.34ms\n",
            "197:\tlearn: 0.1360782\ttotal: 484ms\tremaining: 4.89ms\n",
            "198:\tlearn: 0.1357054\ttotal: 487ms\tremaining: 2.44ms\n",
            "199:\tlearn: 0.1354753\ttotal: 489ms\tremaining: 0us\n",
            "Learning rate set to 0.180217\n",
            "0:\tlearn: 0.1867400\ttotal: 2.63ms\tremaining: 523ms\n",
            "1:\tlearn: 0.1863598\ttotal: 5.07ms\tremaining: 502ms\n",
            "2:\tlearn: 0.1858781\ttotal: 7.44ms\tremaining: 489ms\n",
            "3:\tlearn: 0.1856280\ttotal: 9.69ms\tremaining: 475ms\n",
            "4:\tlearn: 0.1854416\ttotal: 12.1ms\tremaining: 471ms\n",
            "5:\tlearn: 0.1850543\ttotal: 14.5ms\tremaining: 470ms\n",
            "6:\tlearn: 0.1847777\ttotal: 16.9ms\tremaining: 467ms\n",
            "7:\tlearn: 0.1844381\ttotal: 19.2ms\tremaining: 460ms\n",
            "8:\tlearn: 0.1841330\ttotal: 21.6ms\tremaining: 458ms\n",
            "9:\tlearn: 0.1837223\ttotal: 23.9ms\tremaining: 453ms\n",
            "10:\tlearn: 0.1832276\ttotal: 26.3ms\tremaining: 452ms\n",
            "11:\tlearn: 0.1828332\ttotal: 28.6ms\tremaining: 448ms\n",
            "12:\tlearn: 0.1826106\ttotal: 30.9ms\tremaining: 445ms\n",
            "13:\tlearn: 0.1822639\ttotal: 33.3ms\tremaining: 442ms\n",
            "14:\tlearn: 0.1819574\ttotal: 35.7ms\tremaining: 440ms\n",
            "15:\tlearn: 0.1817317\ttotal: 38.1ms\tremaining: 438ms\n",
            "16:\tlearn: 0.1813539\ttotal: 40.4ms\tremaining: 435ms\n",
            "17:\tlearn: 0.1811293\ttotal: 42.8ms\tremaining: 433ms\n",
            "18:\tlearn: 0.1807690\ttotal: 45.2ms\tremaining: 431ms\n",
            "19:\tlearn: 0.1805060\ttotal: 47.7ms\tremaining: 429ms\n",
            "20:\tlearn: 0.1802111\ttotal: 51.9ms\tremaining: 443ms\n",
            "21:\tlearn: 0.1798872\ttotal: 55.3ms\tremaining: 447ms\n",
            "22:\tlearn: 0.1795092\ttotal: 57.8ms\tremaining: 444ms\n",
            "23:\tlearn: 0.1791074\ttotal: 60.2ms\tremaining: 441ms\n",
            "24:\tlearn: 0.1787897\ttotal: 62.5ms\tremaining: 438ms\n",
            "25:\tlearn: 0.1785428\ttotal: 65.1ms\tremaining: 436ms\n",
            "26:\tlearn: 0.1783495\ttotal: 67.4ms\tremaining: 432ms\n",
            "27:\tlearn: 0.1780246\ttotal: 69.8ms\tremaining: 429ms\n",
            "28:\tlearn: 0.1778157\ttotal: 72.2ms\tremaining: 426ms\n",
            "29:\tlearn: 0.1775807\ttotal: 74.6ms\tremaining: 423ms\n",
            "30:\tlearn: 0.1773129\ttotal: 77ms\tremaining: 420ms\n",
            "31:\tlearn: 0.1769094\ttotal: 79.3ms\tremaining: 416ms\n",
            "32:\tlearn: 0.1766772\ttotal: 81.7ms\tremaining: 413ms\n",
            "33:\tlearn: 0.1764752\ttotal: 84ms\tremaining: 410ms\n",
            "34:\tlearn: 0.1761015\ttotal: 86.5ms\tremaining: 408ms\n",
            "35:\tlearn: 0.1757995\ttotal: 88.8ms\tremaining: 405ms\n",
            "36:\tlearn: 0.1755531\ttotal: 91.5ms\tremaining: 403ms\n",
            "37:\tlearn: 0.1753872\ttotal: 93.7ms\tremaining: 400ms\n",
            "38:\tlearn: 0.1751643\ttotal: 96ms\tremaining: 396ms\n",
            "39:\tlearn: 0.1749506\ttotal: 98.3ms\tremaining: 393ms\n",
            "40:\tlearn: 0.1747038\ttotal: 101ms\tremaining: 390ms\n",
            "41:\tlearn: 0.1744500\ttotal: 103ms\tremaining: 387ms\n",
            "42:\tlearn: 0.1741373\ttotal: 105ms\tremaining: 384ms\n",
            "43:\tlearn: 0.1740173\ttotal: 107ms\tremaining: 381ms\n",
            "44:\tlearn: 0.1738588\ttotal: 110ms\tremaining: 378ms\n",
            "45:\tlearn: 0.1735049\ttotal: 112ms\tremaining: 375ms\n",
            "46:\tlearn: 0.1733040\ttotal: 114ms\tremaining: 372ms\n",
            "47:\tlearn: 0.1728399\ttotal: 117ms\tremaining: 369ms\n",
            "48:\tlearn: 0.1724745\ttotal: 119ms\tremaining: 366ms\n",
            "49:\tlearn: 0.1721351\ttotal: 121ms\tremaining: 363ms\n",
            "50:\tlearn: 0.1718249\ttotal: 123ms\tremaining: 360ms\n",
            "51:\tlearn: 0.1715349\ttotal: 126ms\tremaining: 357ms\n",
            "52:\tlearn: 0.1712071\ttotal: 128ms\tremaining: 355ms\n",
            "53:\tlearn: 0.1709300\ttotal: 130ms\tremaining: 352ms\n",
            "54:\tlearn: 0.1706174\ttotal: 132ms\tremaining: 349ms\n",
            "55:\tlearn: 0.1703536\ttotal: 135ms\tremaining: 346ms\n",
            "56:\tlearn: 0.1699614\ttotal: 137ms\tremaining: 344ms\n",
            "57:\tlearn: 0.1697976\ttotal: 139ms\tremaining: 341ms\n",
            "58:\tlearn: 0.1695039\ttotal: 142ms\tremaining: 339ms\n",
            "59:\tlearn: 0.1693183\ttotal: 144ms\tremaining: 336ms\n",
            "60:\tlearn: 0.1690028\ttotal: 147ms\tremaining: 334ms\n",
            "61:\tlearn: 0.1689030\ttotal: 149ms\tremaining: 331ms\n",
            "62:\tlearn: 0.1685486\ttotal: 151ms\tremaining: 328ms\n",
            "63:\tlearn: 0.1683231\ttotal: 153ms\tremaining: 326ms\n",
            "64:\tlearn: 0.1681270\ttotal: 156ms\tremaining: 323ms\n",
            "65:\tlearn: 0.1679119\ttotal: 158ms\tremaining: 321ms\n",
            "66:\tlearn: 0.1676152\ttotal: 160ms\tremaining: 317ms\n",
            "67:\tlearn: 0.1674235\ttotal: 162ms\tremaining: 315ms\n",
            "68:\tlearn: 0.1673066\ttotal: 164ms\tremaining: 312ms\n",
            "69:\tlearn: 0.1670185\ttotal: 166ms\tremaining: 309ms\n",
            "70:\tlearn: 0.1667615\ttotal: 169ms\tremaining: 307ms\n",
            "71:\tlearn: 0.1663830\ttotal: 171ms\tremaining: 304ms\n",
            "72:\tlearn: 0.1661205\ttotal: 173ms\tremaining: 302ms\n",
            "73:\tlearn: 0.1659214\ttotal: 176ms\tremaining: 299ms\n",
            "74:\tlearn: 0.1657270\ttotal: 178ms\tremaining: 297ms\n",
            "75:\tlearn: 0.1654018\ttotal: 180ms\tremaining: 294ms\n",
            "76:\tlearn: 0.1652429\ttotal: 183ms\tremaining: 292ms\n",
            "77:\tlearn: 0.1649407\ttotal: 185ms\tremaining: 290ms\n",
            "78:\tlearn: 0.1645767\ttotal: 188ms\tremaining: 287ms\n",
            "79:\tlearn: 0.1643915\ttotal: 190ms\tremaining: 285ms\n",
            "80:\tlearn: 0.1640554\ttotal: 192ms\tremaining: 283ms\n",
            "81:\tlearn: 0.1640016\ttotal: 195ms\tremaining: 280ms\n",
            "82:\tlearn: 0.1637841\ttotal: 197ms\tremaining: 278ms\n",
            "83:\tlearn: 0.1636745\ttotal: 199ms\tremaining: 275ms\n",
            "84:\tlearn: 0.1634300\ttotal: 201ms\tremaining: 272ms\n",
            "85:\tlearn: 0.1632387\ttotal: 204ms\tremaining: 270ms\n",
            "86:\tlearn: 0.1630270\ttotal: 206ms\tremaining: 267ms\n",
            "87:\tlearn: 0.1627700\ttotal: 208ms\tremaining: 265ms\n",
            "88:\tlearn: 0.1626757\ttotal: 210ms\tremaining: 262ms\n",
            "89:\tlearn: 0.1623926\ttotal: 212ms\tremaining: 260ms\n",
            "90:\tlearn: 0.1621532\ttotal: 215ms\tremaining: 257ms\n",
            "91:\tlearn: 0.1618564\ttotal: 217ms\tremaining: 255ms\n",
            "92:\tlearn: 0.1616583\ttotal: 219ms\tremaining: 252ms\n",
            "93:\tlearn: 0.1612375\ttotal: 222ms\tremaining: 250ms\n",
            "94:\tlearn: 0.1608238\ttotal: 224ms\tremaining: 248ms\n",
            "95:\tlearn: 0.1605485\ttotal: 226ms\tremaining: 245ms\n",
            "96:\tlearn: 0.1603507\ttotal: 229ms\tremaining: 243ms\n",
            "97:\tlearn: 0.1602366\ttotal: 231ms\tremaining: 240ms\n",
            "98:\tlearn: 0.1599307\ttotal: 233ms\tremaining: 238ms\n",
            "99:\tlearn: 0.1598083\ttotal: 235ms\tremaining: 235ms\n",
            "100:\tlearn: 0.1595941\ttotal: 238ms\tremaining: 233ms\n",
            "101:\tlearn: 0.1593962\ttotal: 240ms\tremaining: 230ms\n",
            "102:\tlearn: 0.1591846\ttotal: 244ms\tremaining: 229ms\n",
            "103:\tlearn: 0.1590841\ttotal: 247ms\tremaining: 228ms\n",
            "104:\tlearn: 0.1587841\ttotal: 249ms\tremaining: 226ms\n",
            "105:\tlearn: 0.1584798\ttotal: 252ms\tremaining: 223ms\n",
            "106:\tlearn: 0.1581025\ttotal: 254ms\tremaining: 221ms\n",
            "107:\tlearn: 0.1579232\ttotal: 256ms\tremaining: 218ms\n",
            "108:\tlearn: 0.1576493\ttotal: 259ms\tremaining: 216ms\n",
            "109:\tlearn: 0.1574541\ttotal: 261ms\tremaining: 214ms\n",
            "110:\tlearn: 0.1572531\ttotal: 263ms\tremaining: 211ms\n",
            "111:\tlearn: 0.1570799\ttotal: 268ms\tremaining: 211ms\n",
            "112:\tlearn: 0.1567876\ttotal: 272ms\tremaining: 209ms\n",
            "113:\tlearn: 0.1566777\ttotal: 276ms\tremaining: 208ms\n",
            "114:\tlearn: 0.1563129\ttotal: 280ms\tremaining: 207ms\n",
            "115:\tlearn: 0.1561115\ttotal: 283ms\tremaining: 205ms\n",
            "116:\tlearn: 0.1558053\ttotal: 285ms\tremaining: 202ms\n",
            "117:\tlearn: 0.1554619\ttotal: 287ms\tremaining: 200ms\n",
            "118:\tlearn: 0.1551167\ttotal: 290ms\tremaining: 197ms\n",
            "119:\tlearn: 0.1547185\ttotal: 292ms\tremaining: 195ms\n",
            "120:\tlearn: 0.1545978\ttotal: 294ms\tremaining: 192ms\n",
            "121:\tlearn: 0.1544397\ttotal: 297ms\tremaining: 190ms\n",
            "122:\tlearn: 0.1541578\ttotal: 299ms\tremaining: 187ms\n",
            "123:\tlearn: 0.1539370\ttotal: 301ms\tremaining: 185ms\n",
            "124:\tlearn: 0.1536534\ttotal: 304ms\tremaining: 182ms\n",
            "125:\tlearn: 0.1534571\ttotal: 306ms\tremaining: 180ms\n",
            "126:\tlearn: 0.1533340\ttotal: 308ms\tremaining: 177ms\n",
            "127:\tlearn: 0.1531093\ttotal: 311ms\tremaining: 175ms\n",
            "128:\tlearn: 0.1528694\ttotal: 313ms\tremaining: 172ms\n",
            "129:\tlearn: 0.1525798\ttotal: 316ms\tremaining: 170ms\n",
            "130:\tlearn: 0.1524919\ttotal: 318ms\tremaining: 168ms\n",
            "131:\tlearn: 0.1522712\ttotal: 321ms\tremaining: 165ms\n",
            "132:\tlearn: 0.1520509\ttotal: 323ms\tremaining: 163ms\n",
            "133:\tlearn: 0.1519521\ttotal: 325ms\tremaining: 160ms\n",
            "134:\tlearn: 0.1516329\ttotal: 328ms\tremaining: 158ms\n",
            "135:\tlearn: 0.1514567\ttotal: 330ms\tremaining: 155ms\n",
            "136:\tlearn: 0.1511361\ttotal: 333ms\tremaining: 153ms\n",
            "137:\tlearn: 0.1508308\ttotal: 335ms\tremaining: 151ms\n",
            "138:\tlearn: 0.1505733\ttotal: 338ms\tremaining: 148ms\n",
            "139:\tlearn: 0.1503183\ttotal: 340ms\tremaining: 146ms\n",
            "140:\tlearn: 0.1499777\ttotal: 342ms\tremaining: 143ms\n",
            "141:\tlearn: 0.1496842\ttotal: 345ms\tremaining: 141ms\n",
            "142:\tlearn: 0.1493196\ttotal: 347ms\tremaining: 138ms\n",
            "143:\tlearn: 0.1490153\ttotal: 350ms\tremaining: 136ms\n",
            "144:\tlearn: 0.1486964\ttotal: 352ms\tremaining: 134ms\n",
            "145:\tlearn: 0.1485466\ttotal: 354ms\tremaining: 131ms\n",
            "146:\tlearn: 0.1483436\ttotal: 357ms\tremaining: 129ms\n",
            "147:\tlearn: 0.1482007\ttotal: 359ms\tremaining: 126ms\n",
            "148:\tlearn: 0.1480554\ttotal: 361ms\tremaining: 124ms\n",
            "149:\tlearn: 0.1477083\ttotal: 364ms\tremaining: 121ms\n",
            "150:\tlearn: 0.1476438\ttotal: 366ms\tremaining: 119ms\n",
            "151:\tlearn: 0.1473076\ttotal: 368ms\tremaining: 116ms\n",
            "152:\tlearn: 0.1470621\ttotal: 371ms\tremaining: 114ms\n",
            "153:\tlearn: 0.1470424\ttotal: 373ms\tremaining: 111ms\n",
            "154:\tlearn: 0.1467620\ttotal: 375ms\tremaining: 109ms\n",
            "155:\tlearn: 0.1466418\ttotal: 377ms\tremaining: 106ms\n",
            "156:\tlearn: 0.1465577\ttotal: 380ms\tremaining: 104ms\n",
            "157:\tlearn: 0.1462712\ttotal: 382ms\tremaining: 102ms\n",
            "158:\tlearn: 0.1460319\ttotal: 385ms\tremaining: 99.2ms\n",
            "159:\tlearn: 0.1458845\ttotal: 387ms\tremaining: 96.7ms\n",
            "160:\tlearn: 0.1457803\ttotal: 389ms\tremaining: 94.3ms\n",
            "161:\tlearn: 0.1455782\ttotal: 392ms\tremaining: 91.8ms\n",
            "162:\tlearn: 0.1453780\ttotal: 394ms\tremaining: 89.4ms\n",
            "163:\tlearn: 0.1450900\ttotal: 396ms\tremaining: 87ms\n",
            "164:\tlearn: 0.1450347\ttotal: 399ms\tremaining: 84.6ms\n",
            "165:\tlearn: 0.1448401\ttotal: 401ms\tremaining: 82.1ms\n",
            "166:\tlearn: 0.1446000\ttotal: 403ms\tremaining: 79.6ms\n",
            "167:\tlearn: 0.1443276\ttotal: 405ms\tremaining: 77.2ms\n",
            "168:\tlearn: 0.1440501\ttotal: 408ms\tremaining: 74.8ms\n",
            "169:\tlearn: 0.1438252\ttotal: 410ms\tremaining: 72.3ms\n",
            "170:\tlearn: 0.1435500\ttotal: 412ms\tremaining: 69.9ms\n",
            "171:\tlearn: 0.1434185\ttotal: 415ms\tremaining: 67.5ms\n",
            "172:\tlearn: 0.1431301\ttotal: 417ms\tremaining: 65ms\n",
            "173:\tlearn: 0.1429862\ttotal: 419ms\tremaining: 62.6ms\n",
            "174:\tlearn: 0.1426597\ttotal: 421ms\tremaining: 60.2ms\n",
            "175:\tlearn: 0.1425002\ttotal: 424ms\tremaining: 57.8ms\n",
            "176:\tlearn: 0.1422500\ttotal: 426ms\tremaining: 55.4ms\n",
            "177:\tlearn: 0.1421546\ttotal: 428ms\tremaining: 53ms\n",
            "178:\tlearn: 0.1420215\ttotal: 431ms\tremaining: 50.5ms\n",
            "179:\tlearn: 0.1417578\ttotal: 433ms\tremaining: 48.1ms\n",
            "180:\tlearn: 0.1415480\ttotal: 436ms\tremaining: 45.7ms\n",
            "181:\tlearn: 0.1412095\ttotal: 440ms\tremaining: 43.5ms\n",
            "182:\tlearn: 0.1409299\ttotal: 443ms\tremaining: 41.2ms\n",
            "183:\tlearn: 0.1408382\ttotal: 445ms\tremaining: 38.7ms\n",
            "184:\tlearn: 0.1406603\ttotal: 448ms\tremaining: 36.3ms\n",
            "185:\tlearn: 0.1404504\ttotal: 450ms\tremaining: 33.9ms\n",
            "186:\tlearn: 0.1401016\ttotal: 453ms\tremaining: 31.5ms\n",
            "187:\tlearn: 0.1398261\ttotal: 455ms\tremaining: 29ms\n",
            "188:\tlearn: 0.1397450\ttotal: 457ms\tremaining: 26.6ms\n",
            "189:\tlearn: 0.1395448\ttotal: 460ms\tremaining: 24.2ms\n",
            "190:\tlearn: 0.1393155\ttotal: 462ms\tremaining: 21.8ms\n",
            "191:\tlearn: 0.1390559\ttotal: 465ms\tremaining: 19.4ms\n",
            "192:\tlearn: 0.1388180\ttotal: 467ms\tremaining: 16.9ms\n",
            "193:\tlearn: 0.1385067\ttotal: 469ms\tremaining: 14.5ms\n",
            "194:\tlearn: 0.1383014\ttotal: 472ms\tremaining: 12.1ms\n",
            "195:\tlearn: 0.1380680\ttotal: 476ms\tremaining: 9.71ms\n",
            "196:\tlearn: 0.1377732\ttotal: 478ms\tremaining: 7.29ms\n",
            "197:\tlearn: 0.1375300\ttotal: 481ms\tremaining: 4.86ms\n",
            "198:\tlearn: 0.1372543\ttotal: 483ms\tremaining: 2.43ms\n",
            "199:\tlearn: 0.1370976\ttotal: 486ms\tremaining: 0us\n",
            "Learning rate set to 0.180217\n",
            "0:\tlearn: 0.1848380\ttotal: 2.45ms\tremaining: 488ms\n",
            "1:\tlearn: 0.1845657\ttotal: 4.76ms\tremaining: 472ms\n",
            "2:\tlearn: 0.1842105\ttotal: 6.99ms\tremaining: 459ms\n",
            "3:\tlearn: 0.1839274\ttotal: 9.44ms\tremaining: 463ms\n",
            "4:\tlearn: 0.1836902\ttotal: 12ms\tremaining: 467ms\n",
            "5:\tlearn: 0.1832851\ttotal: 14.2ms\tremaining: 459ms\n",
            "6:\tlearn: 0.1829943\ttotal: 16.6ms\tremaining: 457ms\n",
            "7:\tlearn: 0.1826875\ttotal: 18.9ms\tremaining: 454ms\n",
            "8:\tlearn: 0.1822989\ttotal: 21.3ms\tremaining: 452ms\n",
            "9:\tlearn: 0.1819764\ttotal: 23.6ms\tremaining: 449ms\n",
            "10:\tlearn: 0.1816290\ttotal: 26.1ms\tremaining: 449ms\n",
            "11:\tlearn: 0.1811778\ttotal: 28.7ms\tremaining: 450ms\n",
            "12:\tlearn: 0.1809413\ttotal: 31.2ms\tremaining: 449ms\n",
            "13:\tlearn: 0.1806464\ttotal: 33.7ms\tremaining: 448ms\n",
            "14:\tlearn: 0.1803694\ttotal: 36.1ms\tremaining: 445ms\n",
            "15:\tlearn: 0.1800940\ttotal: 38.7ms\tremaining: 445ms\n",
            "16:\tlearn: 0.1799294\ttotal: 41.5ms\tremaining: 446ms\n",
            "17:\tlearn: 0.1796964\ttotal: 45ms\tremaining: 455ms\n",
            "18:\tlearn: 0.1792574\ttotal: 47.5ms\tremaining: 452ms\n",
            "19:\tlearn: 0.1789991\ttotal: 49.7ms\tremaining: 447ms\n",
            "20:\tlearn: 0.1786300\ttotal: 52.1ms\tremaining: 444ms\n",
            "21:\tlearn: 0.1783329\ttotal: 54.6ms\tremaining: 441ms\n",
            "22:\tlearn: 0.1781383\ttotal: 57ms\tremaining: 439ms\n",
            "23:\tlearn: 0.1778779\ttotal: 59.4ms\tremaining: 436ms\n",
            "24:\tlearn: 0.1774765\ttotal: 61.7ms\tremaining: 432ms\n",
            "25:\tlearn: 0.1771304\ttotal: 64.1ms\tremaining: 429ms\n",
            "26:\tlearn: 0.1768820\ttotal: 66.3ms\tremaining: 425ms\n",
            "27:\tlearn: 0.1765747\ttotal: 68.8ms\tremaining: 423ms\n",
            "28:\tlearn: 0.1762782\ttotal: 71.2ms\tremaining: 420ms\n",
            "29:\tlearn: 0.1760506\ttotal: 73.6ms\tremaining: 417ms\n",
            "30:\tlearn: 0.1759051\ttotal: 75.9ms\tremaining: 414ms\n",
            "31:\tlearn: 0.1755830\ttotal: 78.3ms\tremaining: 411ms\n",
            "32:\tlearn: 0.1753815\ttotal: 80.5ms\tremaining: 407ms\n",
            "33:\tlearn: 0.1750053\ttotal: 83.1ms\tremaining: 405ms\n",
            "34:\tlearn: 0.1745605\ttotal: 85.5ms\tremaining: 403ms\n",
            "35:\tlearn: 0.1741897\ttotal: 88ms\tremaining: 401ms\n",
            "36:\tlearn: 0.1739940\ttotal: 90.4ms\tremaining: 398ms\n",
            "37:\tlearn: 0.1737786\ttotal: 92.8ms\tremaining: 395ms\n",
            "38:\tlearn: 0.1735575\ttotal: 95ms\tremaining: 392ms\n",
            "39:\tlearn: 0.1734745\ttotal: 97.2ms\tremaining: 389ms\n",
            "40:\tlearn: 0.1732201\ttotal: 99.6ms\tremaining: 386ms\n",
            "41:\tlearn: 0.1729754\ttotal: 102ms\tremaining: 383ms\n",
            "42:\tlearn: 0.1726983\ttotal: 104ms\tremaining: 379ms\n",
            "43:\tlearn: 0.1725178\ttotal: 106ms\tremaining: 376ms\n",
            "44:\tlearn: 0.1723346\ttotal: 108ms\tremaining: 372ms\n",
            "45:\tlearn: 0.1720963\ttotal: 112ms\tremaining: 376ms\n",
            "46:\tlearn: 0.1718583\ttotal: 116ms\tremaining: 376ms\n",
            "47:\tlearn: 0.1714545\ttotal: 118ms\tremaining: 375ms\n",
            "48:\tlearn: 0.1712541\ttotal: 121ms\tremaining: 371ms\n",
            "49:\tlearn: 0.1709522\ttotal: 123ms\tremaining: 368ms\n",
            "50:\tlearn: 0.1706772\ttotal: 125ms\tremaining: 366ms\n",
            "51:\tlearn: 0.1701938\ttotal: 127ms\tremaining: 363ms\n",
            "52:\tlearn: 0.1699145\ttotal: 130ms\tremaining: 360ms\n",
            "53:\tlearn: 0.1695238\ttotal: 132ms\tremaining: 358ms\n",
            "54:\tlearn: 0.1690828\ttotal: 135ms\tremaining: 355ms\n",
            "55:\tlearn: 0.1687115\ttotal: 137ms\tremaining: 352ms\n",
            "56:\tlearn: 0.1683411\ttotal: 139ms\tremaining: 349ms\n",
            "57:\tlearn: 0.1680789\ttotal: 141ms\tremaining: 346ms\n",
            "58:\tlearn: 0.1677234\ttotal: 144ms\tremaining: 343ms\n",
            "59:\tlearn: 0.1673687\ttotal: 146ms\tremaining: 340ms\n",
            "60:\tlearn: 0.1670803\ttotal: 148ms\tremaining: 337ms\n",
            "61:\tlearn: 0.1668491\ttotal: 150ms\tremaining: 335ms\n",
            "62:\tlearn: 0.1664992\ttotal: 153ms\tremaining: 332ms\n",
            "63:\tlearn: 0.1662194\ttotal: 155ms\tremaining: 330ms\n",
            "64:\tlearn: 0.1660472\ttotal: 157ms\tremaining: 327ms\n",
            "65:\tlearn: 0.1658129\ttotal: 160ms\tremaining: 324ms\n",
            "66:\tlearn: 0.1655203\ttotal: 162ms\tremaining: 322ms\n",
            "67:\tlearn: 0.1653669\ttotal: 165ms\tremaining: 319ms\n",
            "68:\tlearn: 0.1650643\ttotal: 167ms\tremaining: 317ms\n",
            "69:\tlearn: 0.1647433\ttotal: 169ms\tremaining: 314ms\n",
            "70:\tlearn: 0.1646935\ttotal: 171ms\tremaining: 311ms\n",
            "71:\tlearn: 0.1644306\ttotal: 174ms\tremaining: 309ms\n",
            "72:\tlearn: 0.1642027\ttotal: 176ms\tremaining: 306ms\n",
            "73:\tlearn: 0.1638801\ttotal: 178ms\tremaining: 304ms\n",
            "74:\tlearn: 0.1634590\ttotal: 181ms\tremaining: 301ms\n",
            "75:\tlearn: 0.1631584\ttotal: 183ms\tremaining: 299ms\n",
            "76:\tlearn: 0.1628489\ttotal: 186ms\tremaining: 297ms\n",
            "77:\tlearn: 0.1625565\ttotal: 188ms\tremaining: 294ms\n",
            "78:\tlearn: 0.1622244\ttotal: 191ms\tremaining: 292ms\n",
            "79:\tlearn: 0.1621127\ttotal: 193ms\tremaining: 289ms\n",
            "80:\tlearn: 0.1618267\ttotal: 195ms\tremaining: 287ms\n",
            "81:\tlearn: 0.1613492\ttotal: 198ms\tremaining: 285ms\n",
            "82:\tlearn: 0.1612504\ttotal: 200ms\tremaining: 282ms\n",
            "83:\tlearn: 0.1609984\ttotal: 202ms\tremaining: 280ms\n",
            "84:\tlearn: 0.1608453\ttotal: 205ms\tremaining: 277ms\n",
            "85:\tlearn: 0.1605734\ttotal: 207ms\tremaining: 275ms\n",
            "86:\tlearn: 0.1602852\ttotal: 210ms\tremaining: 272ms\n",
            "87:\tlearn: 0.1601152\ttotal: 212ms\tremaining: 270ms\n",
            "88:\tlearn: 0.1597970\ttotal: 215ms\tremaining: 268ms\n",
            "89:\tlearn: 0.1595265\ttotal: 217ms\tremaining: 265ms\n",
            "90:\tlearn: 0.1593778\ttotal: 219ms\tremaining: 263ms\n",
            "91:\tlearn: 0.1593396\ttotal: 221ms\tremaining: 260ms\n",
            "92:\tlearn: 0.1591548\ttotal: 224ms\tremaining: 257ms\n",
            "93:\tlearn: 0.1588054\ttotal: 226ms\tremaining: 255ms\n",
            "94:\tlearn: 0.1586250\ttotal: 228ms\tremaining: 253ms\n",
            "95:\tlearn: 0.1583162\ttotal: 231ms\tremaining: 250ms\n",
            "96:\tlearn: 0.1579074\ttotal: 234ms\tremaining: 248ms\n",
            "97:\tlearn: 0.1576985\ttotal: 236ms\tremaining: 246ms\n",
            "98:\tlearn: 0.1574968\ttotal: 238ms\tremaining: 243ms\n",
            "99:\tlearn: 0.1571900\ttotal: 241ms\tremaining: 241ms\n",
            "100:\tlearn: 0.1570039\ttotal: 243ms\tremaining: 238ms\n",
            "101:\tlearn: 0.1566821\ttotal: 246ms\tremaining: 236ms\n",
            "102:\tlearn: 0.1564187\ttotal: 248ms\tremaining: 234ms\n",
            "103:\tlearn: 0.1560028\ttotal: 250ms\tremaining: 231ms\n",
            "104:\tlearn: 0.1556511\ttotal: 253ms\tremaining: 229ms\n",
            "105:\tlearn: 0.1553947\ttotal: 255ms\tremaining: 226ms\n",
            "106:\tlearn: 0.1551050\ttotal: 258ms\tremaining: 224ms\n",
            "107:\tlearn: 0.1547806\ttotal: 260ms\tremaining: 222ms\n",
            "108:\tlearn: 0.1546637\ttotal: 262ms\tremaining: 219ms\n",
            "109:\tlearn: 0.1544500\ttotal: 265ms\tremaining: 217ms\n",
            "110:\tlearn: 0.1542555\ttotal: 267ms\tremaining: 214ms\n",
            "111:\tlearn: 0.1540105\ttotal: 270ms\tremaining: 212ms\n",
            "112:\tlearn: 0.1537532\ttotal: 272ms\tremaining: 209ms\n",
            "113:\tlearn: 0.1533695\ttotal: 274ms\tremaining: 207ms\n",
            "114:\tlearn: 0.1532582\ttotal: 277ms\tremaining: 204ms\n",
            "115:\tlearn: 0.1530357\ttotal: 279ms\tremaining: 202ms\n",
            "116:\tlearn: 0.1529040\ttotal: 281ms\tremaining: 200ms\n",
            "117:\tlearn: 0.1526850\ttotal: 284ms\tremaining: 197ms\n",
            "118:\tlearn: 0.1524816\ttotal: 286ms\tremaining: 195ms\n",
            "119:\tlearn: 0.1522393\ttotal: 289ms\tremaining: 192ms\n",
            "120:\tlearn: 0.1520487\ttotal: 291ms\tremaining: 190ms\n",
            "121:\tlearn: 0.1517227\ttotal: 293ms\tremaining: 188ms\n",
            "122:\tlearn: 0.1515486\ttotal: 296ms\tremaining: 185ms\n",
            "123:\tlearn: 0.1513264\ttotal: 298ms\tremaining: 183ms\n",
            "124:\tlearn: 0.1512353\ttotal: 300ms\tremaining: 180ms\n",
            "125:\tlearn: 0.1510807\ttotal: 303ms\tremaining: 178ms\n",
            "126:\tlearn: 0.1507328\ttotal: 308ms\tremaining: 177ms\n",
            "127:\tlearn: 0.1505484\ttotal: 313ms\tremaining: 176ms\n",
            "128:\tlearn: 0.1502349\ttotal: 318ms\tremaining: 175ms\n",
            "129:\tlearn: 0.1502148\ttotal: 320ms\tremaining: 172ms\n",
            "130:\tlearn: 0.1501209\ttotal: 324ms\tremaining: 171ms\n",
            "131:\tlearn: 0.1500557\ttotal: 328ms\tremaining: 169ms\n",
            "132:\tlearn: 0.1498356\ttotal: 330ms\tremaining: 166ms\n",
            "133:\tlearn: 0.1495959\ttotal: 334ms\tremaining: 164ms\n",
            "134:\tlearn: 0.1492904\ttotal: 337ms\tremaining: 162ms\n",
            "135:\tlearn: 0.1491618\ttotal: 340ms\tremaining: 160ms\n",
            "136:\tlearn: 0.1491099\ttotal: 342ms\tremaining: 157ms\n",
            "137:\tlearn: 0.1489082\ttotal: 347ms\tremaining: 156ms\n",
            "138:\tlearn: 0.1486522\ttotal: 349ms\tremaining: 153ms\n",
            "139:\tlearn: 0.1483773\ttotal: 353ms\tremaining: 151ms\n",
            "140:\tlearn: 0.1481813\ttotal: 356ms\tremaining: 149ms\n",
            "141:\tlearn: 0.1480123\ttotal: 360ms\tremaining: 147ms\n",
            "142:\tlearn: 0.1477242\ttotal: 364ms\tremaining: 145ms\n",
            "143:\tlearn: 0.1476495\ttotal: 368ms\tremaining: 143ms\n",
            "144:\tlearn: 0.1473162\ttotal: 373ms\tremaining: 141ms\n",
            "145:\tlearn: 0.1472415\ttotal: 377ms\tremaining: 140ms\n",
            "146:\tlearn: 0.1470130\ttotal: 381ms\tremaining: 137ms\n",
            "147:\tlearn: 0.1468099\ttotal: 383ms\tremaining: 135ms\n",
            "148:\tlearn: 0.1465214\ttotal: 386ms\tremaining: 132ms\n",
            "149:\tlearn: 0.1464697\ttotal: 388ms\tremaining: 129ms\n",
            "150:\tlearn: 0.1462801\ttotal: 390ms\tremaining: 127ms\n",
            "151:\tlearn: 0.1460870\ttotal: 393ms\tremaining: 124ms\n",
            "152:\tlearn: 0.1459027\ttotal: 395ms\tremaining: 121ms\n",
            "153:\tlearn: 0.1458978\ttotal: 396ms\tremaining: 118ms\n",
            "154:\tlearn: 0.1455286\ttotal: 399ms\tremaining: 116ms\n",
            "155:\tlearn: 0.1452121\ttotal: 401ms\tremaining: 113ms\n",
            "156:\tlearn: 0.1448663\ttotal: 404ms\tremaining: 111ms\n",
            "157:\tlearn: 0.1446215\ttotal: 406ms\tremaining: 108ms\n",
            "158:\tlearn: 0.1443654\ttotal: 409ms\tremaining: 105ms\n",
            "159:\tlearn: 0.1442015\ttotal: 411ms\tremaining: 103ms\n",
            "160:\tlearn: 0.1439616\ttotal: 413ms\tremaining: 100ms\n",
            "161:\tlearn: 0.1437380\ttotal: 416ms\tremaining: 97.5ms\n",
            "162:\tlearn: 0.1435657\ttotal: 418ms\tremaining: 94.9ms\n",
            "163:\tlearn: 0.1433344\ttotal: 421ms\tremaining: 92.4ms\n",
            "164:\tlearn: 0.1431895\ttotal: 423ms\tremaining: 89.7ms\n",
            "165:\tlearn: 0.1429651\ttotal: 425ms\tremaining: 87.1ms\n",
            "166:\tlearn: 0.1426748\ttotal: 428ms\tremaining: 84.5ms\n",
            "167:\tlearn: 0.1426245\ttotal: 430ms\tremaining: 81.9ms\n",
            "168:\tlearn: 0.1423858\ttotal: 432ms\tremaining: 79.3ms\n",
            "169:\tlearn: 0.1421700\ttotal: 434ms\tremaining: 76.7ms\n",
            "170:\tlearn: 0.1421000\ttotal: 437ms\tremaining: 74.1ms\n",
            "171:\tlearn: 0.1418730\ttotal: 439ms\tremaining: 71.5ms\n",
            "172:\tlearn: 0.1416075\ttotal: 442ms\tremaining: 68.9ms\n",
            "173:\tlearn: 0.1413877\ttotal: 444ms\tremaining: 66.3ms\n",
            "174:\tlearn: 0.1411006\ttotal: 446ms\tremaining: 63.7ms\n",
            "175:\tlearn: 0.1409202\ttotal: 448ms\tremaining: 61.1ms\n",
            "176:\tlearn: 0.1407218\ttotal: 451ms\tremaining: 58.5ms\n",
            "177:\tlearn: 0.1404248\ttotal: 453ms\tremaining: 56ms\n",
            "178:\tlearn: 0.1401750\ttotal: 455ms\tremaining: 53.4ms\n",
            "179:\tlearn: 0.1400212\ttotal: 457ms\tremaining: 50.8ms\n",
            "180:\tlearn: 0.1399825\ttotal: 459ms\tremaining: 48.2ms\n",
            "181:\tlearn: 0.1398085\ttotal: 462ms\tremaining: 45.7ms\n",
            "182:\tlearn: 0.1396536\ttotal: 464ms\tremaining: 43.1ms\n",
            "183:\tlearn: 0.1394659\ttotal: 466ms\tremaining: 40.5ms\n",
            "184:\tlearn: 0.1392146\ttotal: 469ms\tremaining: 38ms\n",
            "185:\tlearn: 0.1390192\ttotal: 471ms\tremaining: 35.4ms\n",
            "186:\tlearn: 0.1387536\ttotal: 473ms\tremaining: 32.9ms\n",
            "187:\tlearn: 0.1387154\ttotal: 475ms\tremaining: 30.3ms\n",
            "188:\tlearn: 0.1387116\ttotal: 477ms\tremaining: 27.7ms\n",
            "189:\tlearn: 0.1385875\ttotal: 479ms\tremaining: 25.2ms\n",
            "190:\tlearn: 0.1383327\ttotal: 481ms\tremaining: 22.7ms\n",
            "191:\tlearn: 0.1380418\ttotal: 483ms\tremaining: 20.1ms\n",
            "192:\tlearn: 0.1378207\ttotal: 486ms\tremaining: 17.6ms\n",
            "193:\tlearn: 0.1376052\ttotal: 488ms\tremaining: 15.1ms\n",
            "194:\tlearn: 0.1373974\ttotal: 490ms\tremaining: 12.6ms\n",
            "195:\tlearn: 0.1373370\ttotal: 492ms\tremaining: 10.1ms\n",
            "196:\tlearn: 0.1371220\ttotal: 495ms\tremaining: 7.53ms\n",
            "197:\tlearn: 0.1369676\ttotal: 497ms\tremaining: 5.02ms\n",
            "198:\tlearn: 0.1369653\ttotal: 499ms\tremaining: 2.51ms\n",
            "199:\tlearn: 0.1367427\ttotal: 503ms\tremaining: 0us\n",
            "Learning rate set to 0.180217\n",
            "0:\tlearn: 0.1861049\ttotal: 2.53ms\tremaining: 504ms\n",
            "1:\tlearn: 0.1855067\ttotal: 5.16ms\tremaining: 511ms\n",
            "2:\tlearn: 0.1850342\ttotal: 7.58ms\tremaining: 498ms\n",
            "3:\tlearn: 0.1847188\ttotal: 10.2ms\tremaining: 499ms\n",
            "4:\tlearn: 0.1843558\ttotal: 12.7ms\tremaining: 494ms\n",
            "5:\tlearn: 0.1838723\ttotal: 15.2ms\tremaining: 490ms\n",
            "6:\tlearn: 0.1835418\ttotal: 17.4ms\tremaining: 481ms\n",
            "7:\tlearn: 0.1831650\ttotal: 19.8ms\tremaining: 476ms\n",
            "8:\tlearn: 0.1828845\ttotal: 22.2ms\tremaining: 470ms\n",
            "9:\tlearn: 0.1824710\ttotal: 24.5ms\tremaining: 466ms\n",
            "10:\tlearn: 0.1821250\ttotal: 26.9ms\tremaining: 462ms\n",
            "11:\tlearn: 0.1817931\ttotal: 29.2ms\tremaining: 458ms\n",
            "12:\tlearn: 0.1814410\ttotal: 31.6ms\tremaining: 455ms\n",
            "13:\tlearn: 0.1810732\ttotal: 33.9ms\tremaining: 450ms\n",
            "14:\tlearn: 0.1808150\ttotal: 36.3ms\tremaining: 448ms\n",
            "15:\tlearn: 0.1805765\ttotal: 38.6ms\tremaining: 444ms\n",
            "16:\tlearn: 0.1804343\ttotal: 41ms\tremaining: 442ms\n",
            "17:\tlearn: 0.1801211\ttotal: 43.2ms\tremaining: 436ms\n",
            "18:\tlearn: 0.1798952\ttotal: 45.4ms\tremaining: 432ms\n",
            "19:\tlearn: 0.1795045\ttotal: 47.7ms\tremaining: 429ms\n",
            "20:\tlearn: 0.1792138\ttotal: 50ms\tremaining: 426ms\n",
            "21:\tlearn: 0.1789278\ttotal: 52.2ms\tremaining: 423ms\n",
            "22:\tlearn: 0.1787069\ttotal: 54.5ms\tremaining: 419ms\n",
            "23:\tlearn: 0.1783617\ttotal: 56.7ms\tremaining: 416ms\n",
            "24:\tlearn: 0.1779855\ttotal: 59.1ms\tremaining: 414ms\n",
            "25:\tlearn: 0.1777295\ttotal: 61.6ms\tremaining: 412ms\n",
            "26:\tlearn: 0.1774977\ttotal: 63.9ms\tremaining: 410ms\n",
            "27:\tlearn: 0.1771411\ttotal: 66.2ms\tremaining: 407ms\n",
            "28:\tlearn: 0.1770254\ttotal: 68.4ms\tremaining: 403ms\n",
            "29:\tlearn: 0.1767256\ttotal: 70.7ms\tremaining: 401ms\n",
            "30:\tlearn: 0.1763959\ttotal: 73ms\tremaining: 398ms\n",
            "31:\tlearn: 0.1760632\ttotal: 75.2ms\tremaining: 395ms\n",
            "32:\tlearn: 0.1758636\ttotal: 77.6ms\tremaining: 393ms\n",
            "33:\tlearn: 0.1756238\ttotal: 79.9ms\tremaining: 390ms\n",
            "34:\tlearn: 0.1752794\ttotal: 82.3ms\tremaining: 388ms\n",
            "35:\tlearn: 0.1750355\ttotal: 86.4ms\tremaining: 394ms\n",
            "36:\tlearn: 0.1746780\ttotal: 89.3ms\tremaining: 393ms\n",
            "37:\tlearn: 0.1744812\ttotal: 91.7ms\tremaining: 391ms\n",
            "38:\tlearn: 0.1743089\ttotal: 94ms\tremaining: 388ms\n",
            "39:\tlearn: 0.1741135\ttotal: 96.4ms\tremaining: 386ms\n",
            "40:\tlearn: 0.1737108\ttotal: 99ms\tremaining: 384ms\n",
            "41:\tlearn: 0.1734192\ttotal: 101ms\tremaining: 381ms\n",
            "42:\tlearn: 0.1732476\ttotal: 103ms\tremaining: 378ms\n",
            "43:\tlearn: 0.1730985\ttotal: 106ms\tremaining: 375ms\n",
            "44:\tlearn: 0.1728487\ttotal: 108ms\tremaining: 372ms\n",
            "45:\tlearn: 0.1724448\ttotal: 110ms\tremaining: 369ms\n",
            "46:\tlearn: 0.1721039\ttotal: 113ms\tremaining: 367ms\n",
            "47:\tlearn: 0.1718217\ttotal: 115ms\tremaining: 364ms\n",
            "48:\tlearn: 0.1714457\ttotal: 117ms\tremaining: 361ms\n",
            "49:\tlearn: 0.1711431\ttotal: 120ms\tremaining: 359ms\n",
            "50:\tlearn: 0.1709729\ttotal: 122ms\tremaining: 356ms\n",
            "51:\tlearn: 0.1706989\ttotal: 124ms\tremaining: 354ms\n",
            "52:\tlearn: 0.1702028\ttotal: 127ms\tremaining: 352ms\n",
            "53:\tlearn: 0.1697810\ttotal: 129ms\tremaining: 349ms\n",
            "54:\tlearn: 0.1696899\ttotal: 132ms\tremaining: 347ms\n",
            "55:\tlearn: 0.1691744\ttotal: 134ms\tremaining: 345ms\n",
            "56:\tlearn: 0.1689871\ttotal: 136ms\tremaining: 342ms\n",
            "57:\tlearn: 0.1687845\ttotal: 139ms\tremaining: 340ms\n",
            "58:\tlearn: 0.1686278\ttotal: 141ms\tremaining: 337ms\n",
            "59:\tlearn: 0.1683682\ttotal: 143ms\tremaining: 335ms\n",
            "60:\tlearn: 0.1680808\ttotal: 146ms\tremaining: 332ms\n",
            "61:\tlearn: 0.1678825\ttotal: 148ms\tremaining: 330ms\n",
            "62:\tlearn: 0.1674731\ttotal: 152ms\tremaining: 330ms\n",
            "63:\tlearn: 0.1671977\ttotal: 161ms\tremaining: 342ms\n",
            "64:\tlearn: 0.1668195\ttotal: 166ms\tremaining: 344ms\n",
            "65:\tlearn: 0.1664727\ttotal: 170ms\tremaining: 346ms\n",
            "66:\tlearn: 0.1662850\ttotal: 174ms\tremaining: 346ms\n",
            "67:\tlearn: 0.1660173\ttotal: 177ms\tremaining: 343ms\n",
            "68:\tlearn: 0.1657613\ttotal: 179ms\tremaining: 341ms\n",
            "69:\tlearn: 0.1655604\ttotal: 182ms\tremaining: 338ms\n",
            "70:\tlearn: 0.1653120\ttotal: 184ms\tremaining: 334ms\n",
            "71:\tlearn: 0.1651361\ttotal: 186ms\tremaining: 331ms\n",
            "72:\tlearn: 0.1648746\ttotal: 189ms\tremaining: 329ms\n",
            "73:\tlearn: 0.1646204\ttotal: 191ms\tremaining: 326ms\n",
            "74:\tlearn: 0.1644101\ttotal: 194ms\tremaining: 323ms\n",
            "75:\tlearn: 0.1641768\ttotal: 196ms\tremaining: 320ms\n",
            "76:\tlearn: 0.1639226\ttotal: 199ms\tremaining: 317ms\n",
            "77:\tlearn: 0.1636462\ttotal: 201ms\tremaining: 315ms\n",
            "78:\tlearn: 0.1636036\ttotal: 204ms\tremaining: 312ms\n",
            "79:\tlearn: 0.1633517\ttotal: 207ms\tremaining: 310ms\n",
            "80:\tlearn: 0.1629205\ttotal: 209ms\tremaining: 307ms\n",
            "81:\tlearn: 0.1627268\ttotal: 212ms\tremaining: 305ms\n",
            "82:\tlearn: 0.1624616\ttotal: 214ms\tremaining: 302ms\n",
            "83:\tlearn: 0.1621976\ttotal: 217ms\tremaining: 299ms\n",
            "84:\tlearn: 0.1618693\ttotal: 219ms\tremaining: 296ms\n",
            "85:\tlearn: 0.1617092\ttotal: 221ms\tremaining: 293ms\n",
            "86:\tlearn: 0.1613738\ttotal: 224ms\tremaining: 290ms\n",
            "87:\tlearn: 0.1613097\ttotal: 226ms\tremaining: 288ms\n",
            "88:\tlearn: 0.1609702\ttotal: 228ms\tremaining: 285ms\n",
            "89:\tlearn: 0.1609357\ttotal: 230ms\tremaining: 282ms\n",
            "90:\tlearn: 0.1607929\ttotal: 233ms\tremaining: 279ms\n",
            "91:\tlearn: 0.1606414\ttotal: 235ms\tremaining: 276ms\n",
            "92:\tlearn: 0.1604585\ttotal: 237ms\tremaining: 273ms\n",
            "93:\tlearn: 0.1602217\ttotal: 240ms\tremaining: 270ms\n",
            "94:\tlearn: 0.1599010\ttotal: 242ms\tremaining: 267ms\n",
            "95:\tlearn: 0.1596250\ttotal: 244ms\tremaining: 265ms\n",
            "96:\tlearn: 0.1594899\ttotal: 247ms\tremaining: 262ms\n",
            "97:\tlearn: 0.1591927\ttotal: 249ms\tremaining: 259ms\n",
            "98:\tlearn: 0.1591264\ttotal: 251ms\tremaining: 256ms\n",
            "99:\tlearn: 0.1589842\ttotal: 253ms\tremaining: 253ms\n",
            "100:\tlearn: 0.1586925\ttotal: 255ms\tremaining: 250ms\n",
            "101:\tlearn: 0.1583963\ttotal: 258ms\tremaining: 248ms\n",
            "102:\tlearn: 0.1581041\ttotal: 260ms\tremaining: 245ms\n",
            "103:\tlearn: 0.1579066\ttotal: 262ms\tremaining: 242ms\n",
            "104:\tlearn: 0.1576042\ttotal: 265ms\tremaining: 239ms\n",
            "105:\tlearn: 0.1573394\ttotal: 267ms\tremaining: 237ms\n",
            "106:\tlearn: 0.1572285\ttotal: 269ms\tremaining: 234ms\n",
            "107:\tlearn: 0.1568955\ttotal: 272ms\tremaining: 231ms\n",
            "108:\tlearn: 0.1566742\ttotal: 274ms\tremaining: 229ms\n",
            "109:\tlearn: 0.1565350\ttotal: 276ms\tremaining: 226ms\n",
            "110:\tlearn: 0.1564118\ttotal: 279ms\tremaining: 223ms\n",
            "111:\tlearn: 0.1561863\ttotal: 281ms\tremaining: 221ms\n",
            "112:\tlearn: 0.1560274\ttotal: 283ms\tremaining: 218ms\n",
            "113:\tlearn: 0.1559466\ttotal: 285ms\tremaining: 215ms\n",
            "114:\tlearn: 0.1556691\ttotal: 288ms\tremaining: 213ms\n",
            "115:\tlearn: 0.1554245\ttotal: 290ms\tremaining: 210ms\n",
            "116:\tlearn: 0.1552538\ttotal: 292ms\tremaining: 207ms\n",
            "117:\tlearn: 0.1548526\ttotal: 295ms\tremaining: 205ms\n",
            "118:\tlearn: 0.1545665\ttotal: 297ms\tremaining: 202ms\n",
            "119:\tlearn: 0.1544664\ttotal: 299ms\tremaining: 199ms\n",
            "120:\tlearn: 0.1543053\ttotal: 301ms\tremaining: 197ms\n",
            "121:\tlearn: 0.1540598\ttotal: 304ms\tremaining: 194ms\n",
            "122:\tlearn: 0.1536554\ttotal: 306ms\tremaining: 192ms\n",
            "123:\tlearn: 0.1534327\ttotal: 308ms\tremaining: 189ms\n",
            "124:\tlearn: 0.1530731\ttotal: 311ms\tremaining: 186ms\n",
            "125:\tlearn: 0.1530105\ttotal: 313ms\tremaining: 184ms\n",
            "126:\tlearn: 0.1528994\ttotal: 315ms\tremaining: 181ms\n",
            "127:\tlearn: 0.1526243\ttotal: 317ms\tremaining: 178ms\n",
            "128:\tlearn: 0.1523922\ttotal: 319ms\tremaining: 176ms\n",
            "129:\tlearn: 0.1520986\ttotal: 322ms\tremaining: 173ms\n",
            "130:\tlearn: 0.1518320\ttotal: 324ms\tremaining: 171ms\n",
            "131:\tlearn: 0.1515746\ttotal: 326ms\tremaining: 168ms\n",
            "132:\tlearn: 0.1514462\ttotal: 329ms\tremaining: 166ms\n",
            "133:\tlearn: 0.1512511\ttotal: 331ms\tremaining: 163ms\n",
            "134:\tlearn: 0.1510594\ttotal: 333ms\tremaining: 160ms\n",
            "135:\tlearn: 0.1507619\ttotal: 335ms\tremaining: 158ms\n",
            "136:\tlearn: 0.1502946\ttotal: 338ms\tremaining: 155ms\n",
            "137:\tlearn: 0.1500974\ttotal: 340ms\tremaining: 153ms\n",
            "138:\tlearn: 0.1497562\ttotal: 342ms\tremaining: 150ms\n",
            "139:\tlearn: 0.1496011\ttotal: 345ms\tremaining: 148ms\n",
            "140:\tlearn: 0.1492112\ttotal: 351ms\tremaining: 147ms\n",
            "141:\tlearn: 0.1489292\ttotal: 353ms\tremaining: 144ms\n",
            "142:\tlearn: 0.1486514\ttotal: 355ms\tremaining: 142ms\n",
            "143:\tlearn: 0.1484554\ttotal: 357ms\tremaining: 139ms\n",
            "144:\tlearn: 0.1484004\ttotal: 359ms\tremaining: 136ms\n",
            "145:\tlearn: 0.1482434\ttotal: 362ms\tremaining: 134ms\n",
            "146:\tlearn: 0.1480066\ttotal: 364ms\tremaining: 131ms\n",
            "147:\tlearn: 0.1478221\ttotal: 366ms\tremaining: 129ms\n",
            "148:\tlearn: 0.1475939\ttotal: 368ms\tremaining: 126ms\n",
            "149:\tlearn: 0.1475579\ttotal: 371ms\tremaining: 124ms\n",
            "150:\tlearn: 0.1473169\ttotal: 373ms\tremaining: 121ms\n",
            "151:\tlearn: 0.1471115\ttotal: 376ms\tremaining: 119ms\n",
            "152:\tlearn: 0.1469119\ttotal: 378ms\tremaining: 116ms\n",
            "153:\tlearn: 0.1466560\ttotal: 381ms\tremaining: 114ms\n",
            "154:\tlearn: 0.1464763\ttotal: 383ms\tremaining: 111ms\n",
            "155:\tlearn: 0.1463609\ttotal: 385ms\tremaining: 109ms\n",
            "156:\tlearn: 0.1460764\ttotal: 388ms\tremaining: 106ms\n",
            "157:\tlearn: 0.1457950\ttotal: 390ms\tremaining: 104ms\n",
            "158:\tlearn: 0.1454811\ttotal: 392ms\tremaining: 101ms\n",
            "159:\tlearn: 0.1452485\ttotal: 394ms\tremaining: 98.6ms\n",
            "160:\tlearn: 0.1451796\ttotal: 397ms\tremaining: 96.1ms\n",
            "161:\tlearn: 0.1451314\ttotal: 399ms\tremaining: 93.6ms\n",
            "162:\tlearn: 0.1450527\ttotal: 401ms\tremaining: 91.1ms\n",
            "163:\tlearn: 0.1448011\ttotal: 404ms\tremaining: 88.6ms\n",
            "164:\tlearn: 0.1445177\ttotal: 406ms\tremaining: 86.1ms\n",
            "165:\tlearn: 0.1443515\ttotal: 409ms\tremaining: 83.7ms\n",
            "166:\tlearn: 0.1441966\ttotal: 411ms\tremaining: 81.2ms\n",
            "167:\tlearn: 0.1439261\ttotal: 413ms\tremaining: 78.7ms\n",
            "168:\tlearn: 0.1437707\ttotal: 416ms\tremaining: 76.2ms\n",
            "169:\tlearn: 0.1437615\ttotal: 418ms\tremaining: 73.7ms\n",
            "170:\tlearn: 0.1435367\ttotal: 420ms\tremaining: 71.2ms\n",
            "171:\tlearn: 0.1433424\ttotal: 422ms\tremaining: 68.7ms\n",
            "172:\tlearn: 0.1430669\ttotal: 424ms\tremaining: 66.2ms\n",
            "173:\tlearn: 0.1427675\ttotal: 427ms\tremaining: 63.8ms\n",
            "174:\tlearn: 0.1427507\ttotal: 429ms\tremaining: 61.3ms\n",
            "175:\tlearn: 0.1427451\ttotal: 431ms\tremaining: 58.8ms\n",
            "176:\tlearn: 0.1423840\ttotal: 433ms\tremaining: 56.3ms\n",
            "177:\tlearn: 0.1421284\ttotal: 436ms\tremaining: 53.8ms\n",
            "178:\tlearn: 0.1418926\ttotal: 438ms\tremaining: 51.4ms\n",
            "179:\tlearn: 0.1416965\ttotal: 440ms\tremaining: 48.9ms\n",
            "180:\tlearn: 0.1415540\ttotal: 443ms\tremaining: 46.5ms\n",
            "181:\tlearn: 0.1412582\ttotal: 445ms\tremaining: 44ms\n",
            "182:\tlearn: 0.1410603\ttotal: 447ms\tremaining: 41.6ms\n",
            "183:\tlearn: 0.1408780\ttotal: 449ms\tremaining: 39.1ms\n",
            "184:\tlearn: 0.1406950\ttotal: 452ms\tremaining: 36.6ms\n",
            "185:\tlearn: 0.1404848\ttotal: 454ms\tremaining: 34.2ms\n",
            "186:\tlearn: 0.1403206\ttotal: 456ms\tremaining: 31.7ms\n",
            "187:\tlearn: 0.1401255\ttotal: 458ms\tremaining: 29.3ms\n",
            "188:\tlearn: 0.1398076\ttotal: 461ms\tremaining: 26.8ms\n",
            "189:\tlearn: 0.1395841\ttotal: 463ms\tremaining: 24.4ms\n",
            "190:\tlearn: 0.1392843\ttotal: 465ms\tremaining: 21.9ms\n",
            "191:\tlearn: 0.1390581\ttotal: 468ms\tremaining: 19.5ms\n",
            "192:\tlearn: 0.1389098\ttotal: 470ms\tremaining: 17ms\n",
            "193:\tlearn: 0.1386623\ttotal: 472ms\tremaining: 14.6ms\n",
            "194:\tlearn: 0.1384615\ttotal: 475ms\tremaining: 12.2ms\n",
            "195:\tlearn: 0.1383265\ttotal: 477ms\tremaining: 9.73ms\n",
            "196:\tlearn: 0.1381819\ttotal: 479ms\tremaining: 7.3ms\n",
            "197:\tlearn: 0.1379325\ttotal: 482ms\tremaining: 4.87ms\n",
            "198:\tlearn: 0.1377196\ttotal: 484ms\tremaining: 2.43ms\n",
            "199:\tlearn: 0.1373901\ttotal: 486ms\tremaining: 0us\n",
            "Learning rate set to 0.180217\n",
            "0:\tlearn: 0.1818896\ttotal: 2.6ms\tremaining: 518ms\n",
            "1:\tlearn: 0.1814330\ttotal: 5.41ms\tremaining: 535ms\n",
            "2:\tlearn: 0.1810716\ttotal: 8.02ms\tremaining: 527ms\n",
            "3:\tlearn: 0.1807480\ttotal: 10.6ms\tremaining: 522ms\n",
            "4:\tlearn: 0.1804512\ttotal: 13.2ms\tremaining: 515ms\n",
            "5:\tlearn: 0.1800132\ttotal: 18.8ms\tremaining: 608ms\n",
            "6:\tlearn: 0.1797066\ttotal: 21.4ms\tremaining: 590ms\n",
            "7:\tlearn: 0.1794210\ttotal: 23.8ms\tremaining: 570ms\n",
            "8:\tlearn: 0.1791302\ttotal: 26.2ms\tremaining: 556ms\n",
            "9:\tlearn: 0.1789116\ttotal: 28.5ms\tremaining: 542ms\n",
            "10:\tlearn: 0.1786015\ttotal: 30.7ms\tremaining: 528ms\n",
            "11:\tlearn: 0.1782278\ttotal: 33.2ms\tremaining: 520ms\n",
            "12:\tlearn: 0.1779809\ttotal: 35.5ms\tremaining: 511ms\n",
            "13:\tlearn: 0.1777511\ttotal: 37.7ms\tremaining: 501ms\n",
            "14:\tlearn: 0.1773820\ttotal: 40.1ms\tremaining: 494ms\n",
            "15:\tlearn: 0.1771174\ttotal: 42.7ms\tremaining: 491ms\n",
            "16:\tlearn: 0.1767732\ttotal: 45.1ms\tremaining: 485ms\n",
            "17:\tlearn: 0.1764864\ttotal: 47.4ms\tremaining: 480ms\n",
            "18:\tlearn: 0.1760843\ttotal: 49.9ms\tremaining: 475ms\n",
            "19:\tlearn: 0.1758826\ttotal: 52.2ms\tremaining: 470ms\n",
            "20:\tlearn: 0.1755233\ttotal: 54.7ms\tremaining: 466ms\n",
            "21:\tlearn: 0.1752525\ttotal: 57.3ms\tremaining: 464ms\n",
            "22:\tlearn: 0.1749880\ttotal: 59.9ms\tremaining: 461ms\n",
            "23:\tlearn: 0.1745888\ttotal: 62.3ms\tremaining: 457ms\n",
            "24:\tlearn: 0.1743495\ttotal: 64.7ms\tremaining: 453ms\n",
            "25:\tlearn: 0.1740486\ttotal: 67.1ms\tremaining: 449ms\n",
            "26:\tlearn: 0.1736989\ttotal: 69.6ms\tremaining: 446ms\n",
            "27:\tlearn: 0.1733248\ttotal: 72ms\tremaining: 442ms\n",
            "28:\tlearn: 0.1732211\ttotal: 74.3ms\tremaining: 438ms\n",
            "29:\tlearn: 0.1728159\ttotal: 76.8ms\tremaining: 435ms\n",
            "30:\tlearn: 0.1725273\ttotal: 79.3ms\tremaining: 433ms\n",
            "31:\tlearn: 0.1721595\ttotal: 81.7ms\tremaining: 429ms\n",
            "32:\tlearn: 0.1717727\ttotal: 84.2ms\tremaining: 426ms\n",
            "33:\tlearn: 0.1715154\ttotal: 86.4ms\tremaining: 422ms\n",
            "34:\tlearn: 0.1712618\ttotal: 88.7ms\tremaining: 418ms\n",
            "35:\tlearn: 0.1709639\ttotal: 91.2ms\tremaining: 415ms\n",
            "36:\tlearn: 0.1705074\ttotal: 93.7ms\tremaining: 413ms\n",
            "37:\tlearn: 0.1702522\ttotal: 99.1ms\tremaining: 422ms\n",
            "38:\tlearn: 0.1701156\ttotal: 101ms\tremaining: 419ms\n",
            "39:\tlearn: 0.1698351\ttotal: 105ms\tremaining: 418ms\n",
            "40:\tlearn: 0.1695342\ttotal: 110ms\tremaining: 427ms\n",
            "41:\tlearn: 0.1692060\ttotal: 113ms\tremaining: 424ms\n",
            "42:\tlearn: 0.1690722\ttotal: 115ms\tremaining: 420ms\n",
            "43:\tlearn: 0.1688717\ttotal: 117ms\tremaining: 416ms\n",
            "44:\tlearn: 0.1685966\ttotal: 120ms\tremaining: 413ms\n",
            "45:\tlearn: 0.1683035\ttotal: 122ms\tremaining: 409ms\n",
            "46:\tlearn: 0.1679603\ttotal: 125ms\tremaining: 406ms\n",
            "47:\tlearn: 0.1675904\ttotal: 127ms\tremaining: 402ms\n",
            "48:\tlearn: 0.1674193\ttotal: 129ms\tremaining: 398ms\n",
            "49:\tlearn: 0.1670117\ttotal: 131ms\tremaining: 394ms\n",
            "50:\tlearn: 0.1667104\ttotal: 133ms\tremaining: 390ms\n",
            "51:\tlearn: 0.1665125\ttotal: 136ms\tremaining: 386ms\n",
            "52:\tlearn: 0.1662638\ttotal: 138ms\tremaining: 383ms\n",
            "53:\tlearn: 0.1658393\ttotal: 140ms\tremaining: 380ms\n",
            "54:\tlearn: 0.1655390\ttotal: 143ms\tremaining: 376ms\n",
            "55:\tlearn: 0.1651495\ttotal: 145ms\tremaining: 373ms\n",
            "56:\tlearn: 0.1649200\ttotal: 147ms\tremaining: 370ms\n",
            "57:\tlearn: 0.1647211\ttotal: 150ms\tremaining: 366ms\n",
            "58:\tlearn: 0.1644695\ttotal: 152ms\tremaining: 364ms\n",
            "59:\tlearn: 0.1642273\ttotal: 154ms\tremaining: 360ms\n",
            "60:\tlearn: 0.1640476\ttotal: 157ms\tremaining: 357ms\n",
            "61:\tlearn: 0.1640133\ttotal: 158ms\tremaining: 353ms\n",
            "62:\tlearn: 0.1637125\ttotal: 161ms\tremaining: 350ms\n",
            "63:\tlearn: 0.1634060\ttotal: 163ms\tremaining: 347ms\n",
            "64:\tlearn: 0.1632171\ttotal: 165ms\tremaining: 343ms\n",
            "65:\tlearn: 0.1629010\ttotal: 168ms\tremaining: 341ms\n",
            "66:\tlearn: 0.1628523\ttotal: 170ms\tremaining: 337ms\n",
            "67:\tlearn: 0.1626471\ttotal: 172ms\tremaining: 334ms\n",
            "68:\tlearn: 0.1625929\ttotal: 174ms\tremaining: 331ms\n",
            "69:\tlearn: 0.1624340\ttotal: 177ms\tremaining: 328ms\n",
            "70:\tlearn: 0.1622639\ttotal: 179ms\tremaining: 326ms\n",
            "71:\tlearn: 0.1621999\ttotal: 181ms\tremaining: 323ms\n",
            "72:\tlearn: 0.1619381\ttotal: 184ms\tremaining: 320ms\n",
            "73:\tlearn: 0.1617439\ttotal: 186ms\tremaining: 317ms\n",
            "74:\tlearn: 0.1614382\ttotal: 189ms\tremaining: 315ms\n",
            "75:\tlearn: 0.1612064\ttotal: 191ms\tremaining: 312ms\n",
            "76:\tlearn: 0.1609614\ttotal: 194ms\tremaining: 309ms\n",
            "77:\tlearn: 0.1607050\ttotal: 196ms\tremaining: 307ms\n",
            "78:\tlearn: 0.1604778\ttotal: 199ms\tremaining: 304ms\n",
            "79:\tlearn: 0.1601771\ttotal: 201ms\tremaining: 301ms\n",
            "80:\tlearn: 0.1601303\ttotal: 203ms\tremaining: 298ms\n",
            "81:\tlearn: 0.1598431\ttotal: 206ms\tremaining: 296ms\n",
            "82:\tlearn: 0.1596044\ttotal: 210ms\tremaining: 296ms\n",
            "83:\tlearn: 0.1592820\ttotal: 214ms\tremaining: 295ms\n",
            "84:\tlearn: 0.1589978\ttotal: 216ms\tremaining: 292ms\n",
            "85:\tlearn: 0.1588463\ttotal: 218ms\tremaining: 289ms\n",
            "86:\tlearn: 0.1584556\ttotal: 220ms\tremaining: 286ms\n",
            "87:\tlearn: 0.1583271\ttotal: 223ms\tremaining: 283ms\n",
            "88:\tlearn: 0.1581367\ttotal: 225ms\tremaining: 281ms\n",
            "89:\tlearn: 0.1577767\ttotal: 227ms\tremaining: 277ms\n",
            "90:\tlearn: 0.1574259\ttotal: 229ms\tremaining: 275ms\n",
            "91:\tlearn: 0.1570549\ttotal: 232ms\tremaining: 272ms\n",
            "92:\tlearn: 0.1570075\ttotal: 234ms\tremaining: 269ms\n",
            "93:\tlearn: 0.1565152\ttotal: 236ms\tremaining: 267ms\n",
            "94:\tlearn: 0.1562265\ttotal: 239ms\tremaining: 264ms\n",
            "95:\tlearn: 0.1561502\ttotal: 241ms\tremaining: 261ms\n",
            "96:\tlearn: 0.1558043\ttotal: 244ms\tremaining: 259ms\n",
            "97:\tlearn: 0.1556759\ttotal: 246ms\tremaining: 256ms\n",
            "98:\tlearn: 0.1554774\ttotal: 248ms\tremaining: 253ms\n",
            "99:\tlearn: 0.1552920\ttotal: 251ms\tremaining: 251ms\n",
            "100:\tlearn: 0.1551001\ttotal: 253ms\tremaining: 248ms\n",
            "101:\tlearn: 0.1550182\ttotal: 255ms\tremaining: 245ms\n",
            "102:\tlearn: 0.1547343\ttotal: 258ms\tremaining: 243ms\n",
            "103:\tlearn: 0.1544329\ttotal: 260ms\tremaining: 240ms\n",
            "104:\tlearn: 0.1540725\ttotal: 262ms\tremaining: 237ms\n",
            "105:\tlearn: 0.1538077\ttotal: 265ms\tremaining: 235ms\n",
            "106:\tlearn: 0.1534616\ttotal: 267ms\tremaining: 232ms\n",
            "107:\tlearn: 0.1531248\ttotal: 270ms\tremaining: 230ms\n",
            "108:\tlearn: 0.1527287\ttotal: 272ms\tremaining: 227ms\n",
            "109:\tlearn: 0.1525025\ttotal: 275ms\tremaining: 225ms\n",
            "110:\tlearn: 0.1522466\ttotal: 277ms\tremaining: 222ms\n",
            "111:\tlearn: 0.1520319\ttotal: 279ms\tremaining: 219ms\n",
            "112:\tlearn: 0.1516815\ttotal: 282ms\tremaining: 217ms\n",
            "113:\tlearn: 0.1516233\ttotal: 284ms\tremaining: 214ms\n",
            "114:\tlearn: 0.1514617\ttotal: 286ms\tremaining: 212ms\n",
            "115:\tlearn: 0.1510983\ttotal: 289ms\tremaining: 209ms\n",
            "116:\tlearn: 0.1509753\ttotal: 292ms\tremaining: 207ms\n",
            "117:\tlearn: 0.1507048\ttotal: 294ms\tremaining: 204ms\n",
            "118:\tlearn: 0.1502757\ttotal: 297ms\tremaining: 202ms\n",
            "119:\tlearn: 0.1500117\ttotal: 299ms\tremaining: 199ms\n",
            "120:\tlearn: 0.1499401\ttotal: 301ms\tremaining: 196ms\n",
            "121:\tlearn: 0.1497197\ttotal: 303ms\tremaining: 194ms\n",
            "122:\tlearn: 0.1493105\ttotal: 306ms\tremaining: 191ms\n",
            "123:\tlearn: 0.1490817\ttotal: 308ms\tremaining: 189ms\n",
            "124:\tlearn: 0.1488633\ttotal: 311ms\tremaining: 186ms\n",
            "125:\tlearn: 0.1485393\ttotal: 313ms\tremaining: 184ms\n",
            "126:\tlearn: 0.1483596\ttotal: 316ms\tremaining: 181ms\n",
            "127:\tlearn: 0.1482802\ttotal: 318ms\tremaining: 179ms\n",
            "128:\tlearn: 0.1482539\ttotal: 320ms\tremaining: 176ms\n",
            "129:\tlearn: 0.1479281\ttotal: 322ms\tremaining: 174ms\n",
            "130:\tlearn: 0.1476584\ttotal: 325ms\tremaining: 171ms\n",
            "131:\tlearn: 0.1474166\ttotal: 327ms\tremaining: 168ms\n",
            "132:\tlearn: 0.1473885\ttotal: 329ms\tremaining: 166ms\n",
            "133:\tlearn: 0.1471063\ttotal: 332ms\tremaining: 163ms\n",
            "134:\tlearn: 0.1468994\ttotal: 334ms\tremaining: 161ms\n",
            "135:\tlearn: 0.1467986\ttotal: 336ms\tremaining: 158ms\n",
            "136:\tlearn: 0.1464253\ttotal: 339ms\tremaining: 156ms\n",
            "137:\tlearn: 0.1460382\ttotal: 341ms\tremaining: 153ms\n",
            "138:\tlearn: 0.1458141\ttotal: 344ms\tremaining: 151ms\n",
            "139:\tlearn: 0.1457378\ttotal: 346ms\tremaining: 148ms\n",
            "140:\tlearn: 0.1453582\ttotal: 348ms\tremaining: 146ms\n",
            "141:\tlearn: 0.1451492\ttotal: 350ms\tremaining: 143ms\n",
            "142:\tlearn: 0.1448867\ttotal: 353ms\tremaining: 141ms\n",
            "143:\tlearn: 0.1446769\ttotal: 355ms\tremaining: 138ms\n",
            "144:\tlearn: 0.1443817\ttotal: 357ms\tremaining: 135ms\n",
            "145:\tlearn: 0.1441297\ttotal: 360ms\tremaining: 133ms\n",
            "146:\tlearn: 0.1439661\ttotal: 362ms\tremaining: 130ms\n",
            "147:\tlearn: 0.1436965\ttotal: 364ms\tremaining: 128ms\n",
            "148:\tlearn: 0.1433931\ttotal: 367ms\tremaining: 125ms\n",
            "149:\tlearn: 0.1431615\ttotal: 369ms\tremaining: 123ms\n",
            "150:\tlearn: 0.1427969\ttotal: 371ms\tremaining: 121ms\n",
            "151:\tlearn: 0.1426045\ttotal: 374ms\tremaining: 118ms\n",
            "152:\tlearn: 0.1423592\ttotal: 376ms\tremaining: 116ms\n",
            "153:\tlearn: 0.1421140\ttotal: 379ms\tremaining: 113ms\n",
            "154:\tlearn: 0.1418692\ttotal: 381ms\tremaining: 111ms\n",
            "155:\tlearn: 0.1417491\ttotal: 384ms\tremaining: 108ms\n",
            "156:\tlearn: 0.1416607\ttotal: 386ms\tremaining: 106ms\n",
            "157:\tlearn: 0.1415092\ttotal: 388ms\tremaining: 103ms\n",
            "158:\tlearn: 0.1411677\ttotal: 390ms\tremaining: 101ms\n",
            "159:\tlearn: 0.1408868\ttotal: 393ms\tremaining: 98.2ms\n",
            "160:\tlearn: 0.1405803\ttotal: 395ms\tremaining: 95.7ms\n",
            "161:\tlearn: 0.1405288\ttotal: 397ms\tremaining: 93.2ms\n",
            "162:\tlearn: 0.1402828\ttotal: 400ms\tremaining: 90.9ms\n",
            "163:\tlearn: 0.1401449\ttotal: 404ms\tremaining: 88.7ms\n",
            "164:\tlearn: 0.1399838\ttotal: 407ms\tremaining: 86.4ms\n",
            "165:\tlearn: 0.1397138\ttotal: 410ms\tremaining: 83.9ms\n",
            "166:\tlearn: 0.1395477\ttotal: 412ms\tremaining: 81.5ms\n",
            "167:\tlearn: 0.1393281\ttotal: 415ms\tremaining: 79ms\n",
            "168:\tlearn: 0.1393075\ttotal: 417ms\tremaining: 76.5ms\n",
            "169:\tlearn: 0.1390918\ttotal: 419ms\tremaining: 74ms\n",
            "170:\tlearn: 0.1388065\ttotal: 422ms\tremaining: 71.5ms\n",
            "171:\tlearn: 0.1385750\ttotal: 424ms\tremaining: 69ms\n",
            "172:\tlearn: 0.1383266\ttotal: 426ms\tremaining: 66.5ms\n",
            "173:\tlearn: 0.1381371\ttotal: 429ms\tremaining: 64ms\n",
            "174:\tlearn: 0.1378945\ttotal: 431ms\tremaining: 61.5ms\n",
            "175:\tlearn: 0.1377104\ttotal: 433ms\tremaining: 59.1ms\n",
            "176:\tlearn: 0.1375687\ttotal: 435ms\tremaining: 56.6ms\n",
            "177:\tlearn: 0.1373977\ttotal: 438ms\tremaining: 54.1ms\n",
            "178:\tlearn: 0.1373303\ttotal: 440ms\tremaining: 51.6ms\n",
            "179:\tlearn: 0.1371492\ttotal: 442ms\tremaining: 49.1ms\n",
            "180:\tlearn: 0.1370703\ttotal: 445ms\tremaining: 46.7ms\n",
            "181:\tlearn: 0.1368809\ttotal: 447ms\tremaining: 44.2ms\n",
            "182:\tlearn: 0.1367383\ttotal: 449ms\tremaining: 41.7ms\n",
            "183:\tlearn: 0.1366637\ttotal: 451ms\tremaining: 39.2ms\n",
            "184:\tlearn: 0.1363800\ttotal: 454ms\tremaining: 36.8ms\n",
            "185:\tlearn: 0.1363003\ttotal: 456ms\tremaining: 34.3ms\n",
            "186:\tlearn: 0.1361298\ttotal: 458ms\tremaining: 31.9ms\n",
            "187:\tlearn: 0.1359445\ttotal: 460ms\tremaining: 29.4ms\n",
            "188:\tlearn: 0.1356544\ttotal: 463ms\tremaining: 26.9ms\n",
            "189:\tlearn: 0.1354206\ttotal: 465ms\tremaining: 24.5ms\n",
            "190:\tlearn: 0.1352414\ttotal: 467ms\tremaining: 22ms\n",
            "191:\tlearn: 0.1350663\ttotal: 470ms\tremaining: 19.6ms\n",
            "192:\tlearn: 0.1348694\ttotal: 472ms\tremaining: 17.1ms\n",
            "193:\tlearn: 0.1347723\ttotal: 474ms\tremaining: 14.7ms\n",
            "194:\tlearn: 0.1346805\ttotal: 477ms\tremaining: 12.2ms\n",
            "195:\tlearn: 0.1345672\ttotal: 479ms\tremaining: 9.77ms\n",
            "196:\tlearn: 0.1343972\ttotal: 481ms\tremaining: 7.33ms\n",
            "197:\tlearn: 0.1342907\ttotal: 483ms\tremaining: 4.88ms\n",
            "198:\tlearn: 0.1342280\ttotal: 486ms\tremaining: 2.44ms\n",
            "199:\tlearn: 0.1340337\ttotal: 488ms\tremaining: 0us\n"
          ],
          "name": "stdout"
        },
        {
          "output_type": "execute_result",
          "data": {
            "text/plain": [
              "-0.19095206740464055"
            ]
          },
          "metadata": {
            "tags": []
          },
          "execution_count": 663
        }
      ]
    },
    {
      "cell_type": "code",
      "metadata": {
        "id": "pcppf5wQv87D",
        "colab_type": "code",
        "colab": {}
      },
      "source": [
        ""
      ],
      "execution_count": null,
      "outputs": []
    },
    {
      "cell_type": "code",
      "metadata": {
        "id": "nYb3bjIJxf3z",
        "colab_type": "code",
        "colab": {}
      },
      "source": [
        ""
      ],
      "execution_count": null,
      "outputs": []
    },
    {
      "cell_type": "markdown",
      "metadata": {
        "id": "JjRgUGTDxqFL",
        "colab_type": "text"
      },
      "source": [
        "# VOTIMG"
      ]
    },
    {
      "cell_type": "code",
      "metadata": {
        "id": "rXIivNuRxfyg",
        "colab_type": "code",
        "colab": {}
      },
      "source": [
        "from sklearn.ensemble import VotingRegressor"
      ],
      "execution_count": 1099,
      "outputs": []
    },
    {
      "cell_type": "code",
      "metadata": {
        "id": "802dHU-Jxfsy",
        "colab_type": "code",
        "colab": {}
      },
      "source": [
        "ereg = VotingRegressor(estimators=[('xgb', xgb), ('ll', ll), ('rdg', rdg)],weights=[0.3,0.35,0.35])"
      ],
      "execution_count": 1101,
      "outputs": []
    },
    {
      "cell_type": "code",
      "metadata": {
        "id": "Dfk-ZHq-xfnS",
        "colab_type": "code",
        "colab": {
          "base_uri": "https://localhost:8080/",
          "height": 118
        },
        "outputId": "cd699c32-ecaa-4356-80c7-e08eba5b619a"
      },
      "source": [
        "scores = cross_val_score(ereg,trainXX,target, cv = 5,scoring= \"neg_root_mean_squared_error\")\n",
        "scores.mean()"
      ],
      "execution_count": 1102,
      "outputs": [
        {
          "output_type": "stream",
          "text": [
            "[21:01:19] WARNING: /workspace/src/objective/regression_obj.cu:152: reg:linear is now deprecated in favor of reg:squarederror.\n",
            "[21:01:19] WARNING: /workspace/src/objective/regression_obj.cu:152: reg:linear is now deprecated in favor of reg:squarederror.\n",
            "[21:01:20] WARNING: /workspace/src/objective/regression_obj.cu:152: reg:linear is now deprecated in favor of reg:squarederror.\n",
            "[21:01:20] WARNING: /workspace/src/objective/regression_obj.cu:152: reg:linear is now deprecated in favor of reg:squarederror.\n",
            "[21:01:20] WARNING: /workspace/src/objective/regression_obj.cu:152: reg:linear is now deprecated in favor of reg:squarederror.\n"
          ],
          "name": "stdout"
        },
        {
          "output_type": "execute_result",
          "data": {
            "text/plain": [
              "-0.18544742425358357"
            ]
          },
          "metadata": {
            "tags": []
          },
          "execution_count": 1102
        }
      ]
    },
    {
      "cell_type": "code",
      "metadata": {
        "id": "TXn1TvLWyAPY",
        "colab_type": "code",
        "colab": {
          "base_uri": "https://localhost:8080/",
          "height": 470
        },
        "outputId": "899e4838-b830-49fe-e98d-5226c95dcc55"
      },
      "source": [
        "ereg.fit(trainXX,target)"
      ],
      "execution_count": 1103,
      "outputs": [
        {
          "output_type": "stream",
          "text": [
            "[21:01:25] WARNING: /workspace/src/objective/regression_obj.cu:152: reg:linear is now deprecated in favor of reg:squarederror.\n"
          ],
          "name": "stdout"
        },
        {
          "output_type": "execute_result",
          "data": {
            "text/plain": [
              "VotingRegressor(estimators=[('xgb',\n",
              "                             XGBRegressor(base_score=0.5, booster='gblinear',\n",
              "                                          colsample_bylevel=1,\n",
              "                                          colsample_bynode=1,\n",
              "                                          colsample_bytree=1, gamma=0,\n",
              "                                          importance_type='gain',\n",
              "                                          learning_rate=0.1, max_delta_step=0,\n",
              "                                          max_depth=3, min_child_weight=1,\n",
              "                                          missing=None, n_estimators=100,\n",
              "                                          n_jobs=1, nthread=None,\n",
              "                                          objective='reg:linear',\n",
              "                                          random_state=0, reg_alpha=0,\n",
              "                                          reg_lambda=...\n",
              "                                          verbosity=1)),\n",
              "                            ('ll',\n",
              "                             Lasso(alpha=1.0, copy_X=True, fit_intercept=True,\n",
              "                                   max_iter=1000, normalize=True,\n",
              "                                   positive=False, precompute=False,\n",
              "                                   random_state=None, selection='cyclic',\n",
              "                                   tol=0.0001, warm_start=False)),\n",
              "                            ('rdg',\n",
              "                             Ridge(alpha=0.8, copy_X=True, fit_intercept=True,\n",
              "                                   max_iter=None, normalize=True,\n",
              "                                   random_state=None, solver='auto',\n",
              "                                   tol=0.001))],\n",
              "                n_jobs=None, weights=[0.3, 0.35, 0.35])"
            ]
          },
          "metadata": {
            "tags": []
          },
          "execution_count": 1103
        }
      ]
    },
    {
      "cell_type": "code",
      "metadata": {
        "id": "8N3LZqmUyIsa",
        "colab_type": "code",
        "colab": {}
      },
      "source": [
        ""
      ],
      "execution_count": 1051,
      "outputs": []
    },
    {
      "cell_type": "code",
      "metadata": {
        "id": "gIlFb1c5yIqA",
        "colab_type": "code",
        "colab": {}
      },
      "source": [
        "submission[\"Attrition_rate\"]=ereg.predict(testXX)\n",
        "submission.to_csv(\"soln38.csv\",index=False)"
      ],
      "execution_count": 1104,
      "outputs": []
    },
    {
      "cell_type": "code",
      "metadata": {
        "id": "ctfG0pF5yStX",
        "colab_type": "code",
        "colab": {}
      },
      "source": [
        ""
      ],
      "execution_count": null,
      "outputs": []
    },
    {
      "cell_type": "markdown",
      "metadata": {
        "id": "wjCQL-He0ITI",
        "colab_type": "text"
      },
      "source": [
        "# STACK"
      ]
    },
    {
      "cell_type": "code",
      "metadata": {
        "id": "_t5Twoln0KDf",
        "colab_type": "code",
        "colab": {}
      },
      "source": [
        "from sklearn.ensemble import StackingRegressor"
      ],
      "execution_count": 1066,
      "outputs": []
    },
    {
      "cell_type": "code",
      "metadata": {
        "id": "4fPWECSx0K8s",
        "colab_type": "code",
        "colab": {}
      },
      "source": [
        "estimators = [('ridge', rdg, ('lasso', ll) )]"
      ],
      "execution_count": 1067,
      "outputs": []
    },
    {
      "cell_type": "code",
      "metadata": {
        "id": "P4RGb8nW0gcO",
        "colab_type": "code",
        "colab": {}
      },
      "source": [
        "reg = StackingRegressor(estimators=xgb)"
      ],
      "execution_count": 1070,
      "outputs": []
    },
    {
      "cell_type": "code",
      "metadata": {
        "id": "OiDNOZue0p64",
        "colab_type": "code",
        "colab": {
          "base_uri": "https://localhost:8080/",
          "height": 121
        },
        "outputId": "9aa4a6b9-02bb-417b-9ea7-0a98f6309747"
      },
      "source": [
        "scores = cross_val_score(reg,trainXX,target, cv = 5,scoring= \"neg_root_mean_squared_error\")\n",
        "scores.mean()"
      ],
      "execution_count": 1071,
      "outputs": [
        {
          "output_type": "stream",
          "text": [
            "/usr/local/lib/python3.6/dist-packages/sklearn/model_selection/_validation.py:536: FitFailedWarning: Estimator fit failed. The score on this train-test partition for these parameters will be set to nan. Details: \n",
            "TypeError: object of type 'XGBRegressor' has no len()\n",
            "\n",
            "  FitFailedWarning)\n"
          ],
          "name": "stderr"
        },
        {
          "output_type": "execute_result",
          "data": {
            "text/plain": [
              "nan"
            ]
          },
          "metadata": {
            "tags": []
          },
          "execution_count": 1071
        }
      ]
    },
    {
      "cell_type": "code",
      "metadata": {
        "id": "0GCvfKCI0tnH",
        "colab_type": "code",
        "colab": {}
      },
      "source": [
        ""
      ],
      "execution_count": null,
      "outputs": []
    }
  ]
}